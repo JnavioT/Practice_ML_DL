{
 "metadata": {
  "language_info": {
   "codemirror_mode": {
    "name": "ipython",
    "version": 3
   },
   "file_extension": ".py",
   "mimetype": "text/x-python",
   "name": "python",
   "nbconvert_exporter": "python",
   "pygments_lexer": "ipython3",
   "version": "3.7.6"
  },
  "orig_nbformat": 2,
  "kernelspec": {
   "name": "python37664bitmlconda980804e045fd4bc6a4f52e64fdc3fcf3",
   "display_name": "Python 3.7.6 64-bit ('ml': conda)",
   "language": "python"
  }
 },
 "nbformat": 4,
 "nbformat_minor": 2,
 "cells": [
  {
   "cell_type": "code",
   "execution_count": 1,
   "metadata": {},
   "outputs": [],
   "source": [
    "from nltk.tokenize import word_tokenize"
   ]
  },
  {
   "cell_type": "code",
   "execution_count": 2,
   "metadata": {},
   "outputs": [],
   "source": [
    "sentence= \"hola, como estas?\""
   ]
  },
  {
   "cell_type": "code",
   "execution_count": 3,
   "metadata": {},
   "outputs": [
    {
     "output_type": "execute_result",
     "data": {
      "text/plain": [
       "['hola,', 'como', 'estas?']"
      ]
     },
     "metadata": {},
     "execution_count": 3
    }
   ],
   "source": [
    "sentence.split()"
   ]
  },
  {
   "cell_type": "code",
   "execution_count": 4,
   "metadata": {},
   "outputs": [
    {
     "output_type": "execute_result",
     "data": {
      "text/plain": [
       "['hola', ',', 'como', 'estas', '?']"
      ]
     },
     "metadata": {},
     "execution_count": 4
    }
   ],
   "source": [
    "word_tokenize(sentence)"
   ]
  },
  {
   "cell_type": "code",
   "execution_count": 5,
   "metadata": {},
   "outputs": [],
   "source": [
    "from sklearn.feature_extraction.text import CountVectorizer"
   ]
  },
  {
   "cell_type": "code",
   "execution_count": 6,
   "metadata": {},
   "outputs": [],
   "source": [
    "corpus = [\"hello, how are you?\",\n",
    "\"im getting bored at home. And you? What do you think?\",\n",
    "\"did you know about counts\",\n",
    "\"let's see if this works!\",\n",
    "\"YES!!!!\"]"
   ]
  },
  {
   "cell_type": "code",
   "execution_count": 7,
   "metadata": {},
   "outputs": [],
   "source": [
    "ctv = CountVectorizer(tokenizer=word_tokenize, token_pattern= None)\n",
    "ctv.fit(corpus)\n",
    "corpus_transformed = ctv.transform(corpus)"
   ]
  },
  {
   "cell_type": "code",
   "execution_count": 8,
   "metadata": {},
   "outputs": [
    {
     "output_type": "stream",
     "name": "stdout",
     "text": [
      "  (0, 2)\t1\n  (0, 4)\t1\n  (0, 7)\t1\n  (0, 14)\t1\n  (0, 16)\t1\n  (0, 27)\t1\n  (1, 3)\t1\n  (1, 4)\t2\n  (1, 6)\t1\n  (1, 8)\t1\n  (1, 9)\t1\n  (1, 12)\t1\n  (1, 13)\t1\n  (1, 15)\t1\n  (1, 18)\t1\n  (1, 22)\t1\n  (1, 24)\t1\n  (1, 27)\t2\n  (2, 5)\t1\n  (2, 10)\t1\n  (2, 11)\t1\n  (2, 19)\t1\n  (2, 27)\t1\n  (3, 0)\t1\n  (3, 1)\t1\n  (3, 17)\t1\n  (3, 20)\t1\n  (3, 21)\t1\n  (3, 23)\t1\n  (3, 25)\t1\n  (4, 0)\t4\n  (4, 26)\t1\n"
     ]
    }
   ],
   "source": [
    "print(corpus_transformed)"
   ]
  },
  {
   "cell_type": "code",
   "execution_count": 9,
   "metadata": {},
   "outputs": [
    {
     "output_type": "stream",
     "name": "stdout",
     "text": [
      "{'hello': 14, ',': 2, 'how': 16, 'are': 7, 'you': 27, '?': 4, 'im': 18, 'getting': 13, 'bored': 9, 'at': 8, 'home': 15, '.': 3, 'and': 6, 'what': 24, 'do': 12, 'think': 22, 'did': 11, 'know': 19, 'about': 5, 'counts': 10, 'let': 20, \"'s\": 1, 'see': 21, 'if': 17, 'this': 23, 'works': 25, '!': 0, 'yes': 26}\n"
     ]
    }
   ],
   "source": [
    "print(ctv.vocabulary_)"
   ]
  },
  {
   "cell_type": "code",
   "execution_count": 10,
   "metadata": {},
   "outputs": [
    {
     "output_type": "execute_result",
     "data": {
      "text/plain": [
       "scipy.sparse.csr.csr_matrix"
      ]
     },
     "metadata": {},
     "execution_count": 10
    }
   ],
   "source": [
    "type(corpus_transformed)"
   ]
  },
  {
   "cell_type": "code",
   "execution_count": 17,
   "metadata": {},
   "outputs": [],
   "source": [
    "# Using TF-IDF\n",
    "from sklearn.feature_extraction.text import TfidfVectorizer\n",
    "from nltk.tokenize import word_tokenize"
   ]
  },
  {
   "cell_type": "code",
   "execution_count": 18,
   "metadata": {},
   "outputs": [],
   "source": [
    "corpus = [\"hello, how are you?\",\n",
    "\"im getting bored at home. And you? What do you think?\",\n",
    "\"did you know about counts\",\n",
    "\"let's see if this works!\",\n",
    "\"YES!!!!\"]\n",
    "\n",
    "# initialize TfidfVectorizer with word_tokenize from nltk\n",
    "# as the tokenizer\n",
    "tfv = TfidfVectorizer(tokenizer=word_tokenize, token_pattern=None)"
   ]
  },
  {
   "cell_type": "code",
   "execution_count": 19,
   "metadata": {},
   "outputs": [
    {
     "output_type": "execute_result",
     "data": {
      "text/plain": [
       "TfidfVectorizer(analyzer='word', binary=False, decode_error='strict',\n",
       "                dtype=<class 'numpy.float64'>, encoding='utf-8',\n",
       "                input='content', lowercase=True, max_df=1.0, max_features=None,\n",
       "                min_df=1, ngram_range=(1, 1), norm='l2', preprocessor=None,\n",
       "                smooth_idf=True, stop_words=None, strip_accents=None,\n",
       "                sublinear_tf=False, token_pattern=None,\n",
       "                tokenizer=<function word_tokenize at 0x7fdd6df91c20>,\n",
       "                use_idf=True, vocabulary=None)"
      ]
     },
     "metadata": {},
     "execution_count": 19
    }
   ],
   "source": [
    "# fit the vectorizer on corpus\n",
    "tfv.fit(corpus)"
   ]
  },
  {
   "cell_type": "code",
   "execution_count": 20,
   "metadata": {},
   "outputs": [
    {
     "output_type": "stream",
     "name": "stdout",
     "text": [
      "  (0, 27)\t0.2965698850220162\n  (0, 16)\t0.4428321995085722\n  (0, 14)\t0.4428321995085722\n  (0, 7)\t0.4428321995085722\n  (0, 4)\t0.35727423026525224\n  (0, 2)\t0.4428321995085722\n  (1, 27)\t0.35299699146792735\n  (1, 24)\t0.2635440111190765\n  (1, 22)\t0.2635440111190765\n  (1, 18)\t0.2635440111190765\n  (1, 15)\t0.2635440111190765\n  (1, 13)\t0.2635440111190765\n  (1, 12)\t0.2635440111190765\n  (1, 9)\t0.2635440111190765\n  (1, 8)\t0.2635440111190765\n  (1, 6)\t0.2635440111190765\n  (1, 4)\t0.42525129752567803\n  (1, 3)\t0.2635440111190765\n  (2, 27)\t0.31752680284846835\n  (2, 19)\t0.4741246485558491\n  (2, 11)\t0.4741246485558491\n  (2, 10)\t0.4741246485558491\n  (2, 5)\t0.4741246485558491\n  (3, 25)\t0.38775666010579296\n  (3, 23)\t0.38775666010579296\n  (3, 21)\t0.38775666010579296\n  (3, 20)\t0.38775666010579296\n  (3, 17)\t0.38775666010579296\n  (3, 1)\t0.38775666010579296\n  (3, 0)\t0.3128396318588854\n  (4, 26)\t0.2959842226518677\n  (4, 0)\t0.9551928286692534\n"
     ]
    }
   ],
   "source": [
    "corpus_transformed = tfv.transform(corpus)\n",
    "print(corpus_transformed)"
   ]
  },
  {
   "cell_type": "code",
   "execution_count": 21,
   "metadata": {},
   "outputs": [],
   "source": [
    "from nltk import ngrams\n",
    "from nltk.tokenize import word_tokenize\n",
    "\n",
    "#3 grams\n",
    "N = 3\n",
    "sentence = \"Hi, how are you?\"\n",
    "tokenized_sentence = word_tokenize(sentence)"
   ]
  },
  {
   "cell_type": "code",
   "execution_count": 22,
   "metadata": {},
   "outputs": [
    {
     "output_type": "execute_result",
     "data": {
      "text/plain": [
       "['Hi', ',', 'how', 'are', 'you', '?']"
      ]
     },
     "metadata": {},
     "execution_count": 22
    }
   ],
   "source": [
    "tokenized_sentence"
   ]
  },
  {
   "cell_type": "code",
   "execution_count": 26,
   "metadata": {},
   "outputs": [
    {
     "output_type": "execute_result",
     "data": {
      "text/plain": [
       "[('Hi', ',', 'how'),\n",
       " (',', 'how', 'are'),\n",
       " ('how', 'are', 'you'),\n",
       " ('are', 'you', '?')]"
      ]
     },
     "metadata": {},
     "execution_count": 26
    }
   ],
   "source": [
    "n_grams = list(ngrams(tokenized_sentence, N))\n",
    "n_grams\n"
   ]
  },
  {
   "cell_type": "code",
   "execution_count": 27,
   "metadata": {},
   "outputs": [],
   "source": [
    "from nltk.stem import WordNetLemmatizer\n",
    "from nltk.stem.snowball import SnowballStemmer"
   ]
  },
  {
   "cell_type": "code",
   "execution_count": 28,
   "metadata": {},
   "outputs": [
    {
     "output_type": "stream",
     "name": "stdout",
     "text": [
      "word = fishing\n",
      "stemmed_word = fish\n",
      "lemma = fishing\n",
      "\n",
      "word = fishes\n",
      "stemmed_word = fish\n",
      "lemma = fish\n",
      "\n",
      "word = fished\n",
      "stemmed_word = fish\n",
      "lemma = fished\n",
      "\n"
     ]
    }
   ],
   "source": [
    "lemmatizer = WordNetLemmatizer()\n",
    "stemmer = SnowballStemmer(\"english\")\n",
    "\n",
    "words = [\"fishing\", \"fishes\", \"fished\"]\n",
    "for word in words:\n",
    "    print(f\"word = {word}\")\n",
    "    print(f\"stemmed_word = {stemmer.stem(word)}\")\n",
    "    print(f\"lemma = {lemmatizer.lemmatize(word)}\")\n",
    "    print(\"\")\n",
    "\n"
   ]
  },
  {
   "cell_type": "code",
   "execution_count": 31,
   "metadata": {},
   "outputs": [
    {
     "output_type": "stream",
     "name": "stdout",
     "text": [
      "word = pensar\nstemmed_word = pens\n\nword = pescando\nstemmed_word = pesc\n\nword = pasado\nstemmed_word = pas\n\n"
     ]
    }
   ],
   "source": [
    "stemmer = SnowballStemmer(\"spanish\")\n",
    "\n",
    "words = [\"pensar\", \"pescando\", \"pasado\"]\n",
    "for word in words:\n",
    "    print(f\"word = {word}\")\n",
    "    print(f\"stemmed_word = {stemmer.stem(word)}\")\n",
    "    #print(f\"lemma = {lemmatizer.lemmatize(word)}\")\n",
    "    print(\"\")"
   ]
  },
  {
   "cell_type": "code",
   "execution_count": null,
   "metadata": {},
   "outputs": [],
   "source": []
  }
 ]
}