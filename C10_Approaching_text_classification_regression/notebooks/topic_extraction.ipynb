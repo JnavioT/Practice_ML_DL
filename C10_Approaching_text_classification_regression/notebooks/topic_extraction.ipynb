{
 "metadata": {
  "language_info": {
   "codemirror_mode": {
    "name": "ipython",
    "version": 3
   },
   "file_extension": ".py",
   "mimetype": "text/x-python",
   "name": "python",
   "nbconvert_exporter": "python",
   "pygments_lexer": "ipython3",
   "version": "3.7.6"
  },
  "orig_nbformat": 2,
  "kernelspec": {
   "name": "python37664bitmlconda980804e045fd4bc6a4f52e64fdc3fcf3",
   "display_name": "Python 3.7.6 64-bit ('ml': conda)",
   "language": "python"
  }
 },
 "nbformat": 4,
 "nbformat_minor": 2,
 "cells": [
  {
   "cell_type": "code",
   "execution_count": 28,
   "metadata": {},
   "outputs": [],
   "source": [
    "import pandas as pd \n",
    "from nltk.tokenize import word_tokenize\n",
    "from sklearn import decomposition\n",
    "from sklearn.feature_extraction.text import TfidfVectorizer"
   ]
  },
  {
   "cell_type": "code",
   "execution_count": 29,
   "metadata": {},
   "outputs": [],
   "source": [
    "import re\n",
    "import string\n",
    "\n",
    "def clean_text(s):\n",
    "    \"\"\"\n",
    "    This function cleans the text a bit\n",
    "    :param s: string\n",
    "    :return: cleaned string\n",
    "    \"\"\"\n",
    "    # split by all whitespaces\n",
    "    s = s.split()\n",
    "    # join with a single space eliminate lots of blank spaces\n",
    "    s = \" \".join(s)\n",
    "    # remove all punctuations using regex and string module\n",
    "    s = re.sub(f\"[{re.escape(string.punctuation)}]\",'',s)\n",
    "    return s"
   ]
  },
  {
   "cell_type": "code",
   "execution_count": 30,
   "metadata": {},
   "outputs": [],
   "source": [
    "corpus = pd.read_csv(\"../input/imdb.csv\", nrows = 10000)\n",
    "corpus.loc[:,\"review\"] = corpus.review.apply(clean_text)\n",
    "corpus = corpus.review.values"
   ]
  },
  {
   "cell_type": "code",
   "execution_count": 31,
   "metadata": {},
   "outputs": [],
   "source": [
    "tfv = TfidfVectorizer(tokenizer= word_tokenize, token_pattern= None)\n",
    "tfv.fit(corpus)\n",
    "corpus_transformed = tfv.transform(corpus)"
   ]
  },
  {
   "cell_type": "code",
   "execution_count": 32,
   "metadata": {},
   "outputs": [],
   "source": [
    "#initialize svd with 10 components\n",
    "svd = decomposition.TruncatedSVD(n_components=10)"
   ]
  },
  {
   "cell_type": "code",
   "execution_count": 33,
   "metadata": {},
   "outputs": [],
   "source": [
    "#fit svd\n",
    "corpus_svd = svd.fit(corpus_transformed)"
   ]
  },
  {
   "cell_type": "code",
   "execution_count": 34,
   "metadata": {},
   "outputs": [],
   "source": [
    "# choose first sample and create a dictionary\n",
    "# of feature names and their scores from svd\n",
    "# you can change the sample_index variable to\n",
    "# get dictionary for any other sample\n",
    "sample_index = 0\n",
    "feature_scores = dict( zip( tfv.get_feature_names(), corpus_svd.components_[sample_index] ) )"
   ]
  },
  {
   "cell_type": "code",
   "execution_count": 35,
   "metadata": {},
   "outputs": [
    {
     "output_type": "stream",
     "name": "stdout",
     "text": [
      "['the', 'a', 'and', 'of', 'to']\n"
     ]
    }
   ],
   "source": [
    "# once we have the dictionary, we can now\n",
    "# sort it in decreasing order and get the\n",
    "# top N topics\n",
    "N = 5\n",
    "print(sorted(feature_scores, key=feature_scores.get, reverse=True)[:N])"
   ]
  },
  {
   "cell_type": "code",
   "execution_count": 36,
   "metadata": {},
   "outputs": [
    {
     "output_type": "stream",
     "name": "stdout",
     "text": [
      "['the', 'a', 'and', 'of', 'to', 'is', 'i', 'in', 'it', 'this']\n",
      "['i', 'movie', 'it', 'was', 'this', 'you', 'my', 'me', 'have', 'watch']\n",
      "['the', 'was', 'i', 'were', 'of', 'book', 'had', 'series', 'first', 'did']\n",
      "['her', 'was', 'she', 'i', 'he', 'his', 'and', 'him', 'to', 'in']\n",
      "['br', 'to', 'they', 'he', 'show', 'itbr', 'no', 'have', 'were', 'you']\n"
     ]
    }
   ],
   "source": [
    "N = 10\n",
    "for sample_index in range(5):\n",
    "    feature_scores = dict( zip( tfv.get_feature_names(), corpus_svd.components_[sample_index] ) )\n",
    "    print( sorted( feature_scores, key=feature_scores.get, reverse=True )[:N] )"
   ]
  },
  {
   "cell_type": "code",
   "execution_count": 37,
   "metadata": {},
   "outputs": [
    {
     "output_type": "execute_result",
     "data": {
      "text/plain": [
       "'Texto de c prueba cd'"
      ]
     },
     "metadata": {},
     "execution_count": 37
    }
   ],
   "source": [
    "x = \"Texto, de .c. prueba    cd. \"\n",
    "clean_text(x)"
   ]
  },
  {
   "cell_type": "code",
   "execution_count": null,
   "metadata": {},
   "outputs": [],
   "source": []
  }
 ]
}