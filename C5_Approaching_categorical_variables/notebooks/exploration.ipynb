{
 "metadata": {
  "language_info": {
   "codemirror_mode": {
    "name": "ipython",
    "version": 3
   },
   "file_extension": ".py",
   "mimetype": "text/x-python",
   "name": "python",
   "nbconvert_exporter": "python",
   "pygments_lexer": "ipython3",
   "version": "3.7.6-final"
  },
  "orig_nbformat": 2,
  "kernelspec": {
   "name": "python37664bitmlconda980804e045fd4bc6a4f52e64fdc3fcf3",
   "display_name": "Python 3.7.6 64-bit ('ml': conda)",
   "language": "python"
  }
 },
 "nbformat": 4,
 "nbformat_minor": 2,
 "cells": [
  {
   "cell_type": "code",
   "execution_count": 2,
   "metadata": {},
   "outputs": [],
   "source": [
    "import matplotlib.pyplot as plt\n",
    "import numpy as np\n",
    "import pandas as pd \n",
    "import seaborn as sns"
   ]
  },
  {
   "cell_type": "code",
   "execution_count": 3,
   "metadata": {},
   "outputs": [],
   "source": [
    "df = pd.read_csv(\"../input/train.csv\")"
   ]
  },
  {
   "cell_type": "code",
   "execution_count": 4,
   "metadata": {},
   "outputs": [
    {
     "output_type": "execute_result",
     "data": {
      "text/plain": [
       "(600000, 25)"
      ]
     },
     "metadata": {},
     "execution_count": 4
    }
   ],
   "source": [
    "df.shape"
   ]
  },
  {
   "cell_type": "code",
   "execution_count": 5,
   "metadata": {},
   "outputs": [
    {
     "output_type": "execute_result",
     "data": {
      "text/plain": [
       "            id  bin_0  bin_1  bin_2 bin_3 bin_4 nom_0      nom_1    nom_2  \\\n",
       "0            0    0.0    0.0    0.0     F     N   Red  Trapezoid  Hamster   \n",
       "1            1    1.0    1.0    0.0     F     Y   Red       Star  Axolotl   \n",
       "2            2    0.0    1.0    0.0     F     N   Red        NaN  Hamster   \n",
       "3            3    NaN    0.0    0.0     F     N   Red     Circle  Hamster   \n",
       "4            4    0.0    NaN    0.0     T     N   Red   Triangle  Hamster   \n",
       "...        ...    ...    ...    ...   ...   ...   ...        ...      ...   \n",
       "599995  599995    0.0    1.0    0.0     T     N   Red    Polygon  Axolotl   \n",
       "599996  599996    1.0    0.0    0.0     T     Y  Blue    Polygon      Dog   \n",
       "599997  599997    0.0    0.0    0.0     F     Y   Red     Circle  Axolotl   \n",
       "599998  599998    1.0    1.0    0.0     F     Y   NaN    Polygon  Axolotl   \n",
       "599999  599999    0.0    0.0    0.0     T     N  Blue   Triangle      Dog   \n",
       "\n",
       "             nom_3  ...      nom_9 ord_0        ord_1        ord_2 ord_3  \\\n",
       "0           Russia  ...  02e7c8990   3.0  Contributor          Hot     c   \n",
       "1              NaN  ...  f37df64af   3.0  Grandmaster         Warm     e   \n",
       "2           Canada  ...        NaN   3.0          NaN     Freezing     n   \n",
       "3          Finland  ...  f9d456e57   1.0       Novice     Lava Hot     a   \n",
       "4       Costa Rica  ...  c5361037c   3.0  Grandmaster         Cold     h   \n",
       "...            ...  ...        ...   ...          ...          ...   ...   \n",
       "599995       India  ...  015c63324   3.0       Novice     Freezing     a   \n",
       "599996  Costa Rica  ...  a02ae6a63   2.0       Novice  Boiling Hot     n   \n",
       "599997      Russia  ...  40f9610c1   2.0  Contributor     Freezing     n   \n",
       "599998         NaN  ...  c1a8374a0   1.0       Master         Warm     m   \n",
       "599999      Russia  ...  e2aea7784   1.0  Contributor  Boiling Hot     b   \n",
       "\n",
       "       ord_4  ord_5  day month target  \n",
       "0          U     Pw  6.0   3.0      0  \n",
       "1          X     pE  7.0   7.0      0  \n",
       "2          P     eN  5.0   9.0      0  \n",
       "3          C    NaN  3.0   3.0      0  \n",
       "4          C     OZ  5.0  12.0      0  \n",
       "...      ...    ...  ...   ...    ...  \n",
       "599995     R     GZ  5.0   NaN      0  \n",
       "599996     N     sf  NaN   3.0      0  \n",
       "599997     H     MV  7.0   5.0      0  \n",
       "599998     X     Ey  1.0   5.0      0  \n",
       "599999     O     uI  5.0   8.0      0  \n",
       "\n",
       "[600000 rows x 25 columns]"
      ],
      "text/html": "<div>\n<style scoped>\n    .dataframe tbody tr th:only-of-type {\n        vertical-align: middle;\n    }\n\n    .dataframe tbody tr th {\n        vertical-align: top;\n    }\n\n    .dataframe thead th {\n        text-align: right;\n    }\n</style>\n<table border=\"1\" class=\"dataframe\">\n  <thead>\n    <tr style=\"text-align: right;\">\n      <th></th>\n      <th>id</th>\n      <th>bin_0</th>\n      <th>bin_1</th>\n      <th>bin_2</th>\n      <th>bin_3</th>\n      <th>bin_4</th>\n      <th>nom_0</th>\n      <th>nom_1</th>\n      <th>nom_2</th>\n      <th>nom_3</th>\n      <th>...</th>\n      <th>nom_9</th>\n      <th>ord_0</th>\n      <th>ord_1</th>\n      <th>ord_2</th>\n      <th>ord_3</th>\n      <th>ord_4</th>\n      <th>ord_5</th>\n      <th>day</th>\n      <th>month</th>\n      <th>target</th>\n    </tr>\n  </thead>\n  <tbody>\n    <tr>\n      <th>0</th>\n      <td>0</td>\n      <td>0.0</td>\n      <td>0.0</td>\n      <td>0.0</td>\n      <td>F</td>\n      <td>N</td>\n      <td>Red</td>\n      <td>Trapezoid</td>\n      <td>Hamster</td>\n      <td>Russia</td>\n      <td>...</td>\n      <td>02e7c8990</td>\n      <td>3.0</td>\n      <td>Contributor</td>\n      <td>Hot</td>\n      <td>c</td>\n      <td>U</td>\n      <td>Pw</td>\n      <td>6.0</td>\n      <td>3.0</td>\n      <td>0</td>\n    </tr>\n    <tr>\n      <th>1</th>\n      <td>1</td>\n      <td>1.0</td>\n      <td>1.0</td>\n      <td>0.0</td>\n      <td>F</td>\n      <td>Y</td>\n      <td>Red</td>\n      <td>Star</td>\n      <td>Axolotl</td>\n      <td>NaN</td>\n      <td>...</td>\n      <td>f37df64af</td>\n      <td>3.0</td>\n      <td>Grandmaster</td>\n      <td>Warm</td>\n      <td>e</td>\n      <td>X</td>\n      <td>pE</td>\n      <td>7.0</td>\n      <td>7.0</td>\n      <td>0</td>\n    </tr>\n    <tr>\n      <th>2</th>\n      <td>2</td>\n      <td>0.0</td>\n      <td>1.0</td>\n      <td>0.0</td>\n      <td>F</td>\n      <td>N</td>\n      <td>Red</td>\n      <td>NaN</td>\n      <td>Hamster</td>\n      <td>Canada</td>\n      <td>...</td>\n      <td>NaN</td>\n      <td>3.0</td>\n      <td>NaN</td>\n      <td>Freezing</td>\n      <td>n</td>\n      <td>P</td>\n      <td>eN</td>\n      <td>5.0</td>\n      <td>9.0</td>\n      <td>0</td>\n    </tr>\n    <tr>\n      <th>3</th>\n      <td>3</td>\n      <td>NaN</td>\n      <td>0.0</td>\n      <td>0.0</td>\n      <td>F</td>\n      <td>N</td>\n      <td>Red</td>\n      <td>Circle</td>\n      <td>Hamster</td>\n      <td>Finland</td>\n      <td>...</td>\n      <td>f9d456e57</td>\n      <td>1.0</td>\n      <td>Novice</td>\n      <td>Lava Hot</td>\n      <td>a</td>\n      <td>C</td>\n      <td>NaN</td>\n      <td>3.0</td>\n      <td>3.0</td>\n      <td>0</td>\n    </tr>\n    <tr>\n      <th>4</th>\n      <td>4</td>\n      <td>0.0</td>\n      <td>NaN</td>\n      <td>0.0</td>\n      <td>T</td>\n      <td>N</td>\n      <td>Red</td>\n      <td>Triangle</td>\n      <td>Hamster</td>\n      <td>Costa Rica</td>\n      <td>...</td>\n      <td>c5361037c</td>\n      <td>3.0</td>\n      <td>Grandmaster</td>\n      <td>Cold</td>\n      <td>h</td>\n      <td>C</td>\n      <td>OZ</td>\n      <td>5.0</td>\n      <td>12.0</td>\n      <td>0</td>\n    </tr>\n    <tr>\n      <th>...</th>\n      <td>...</td>\n      <td>...</td>\n      <td>...</td>\n      <td>...</td>\n      <td>...</td>\n      <td>...</td>\n      <td>...</td>\n      <td>...</td>\n      <td>...</td>\n      <td>...</td>\n      <td>...</td>\n      <td>...</td>\n      <td>...</td>\n      <td>...</td>\n      <td>...</td>\n      <td>...</td>\n      <td>...</td>\n      <td>...</td>\n      <td>...</td>\n      <td>...</td>\n      <td>...</td>\n    </tr>\n    <tr>\n      <th>599995</th>\n      <td>599995</td>\n      <td>0.0</td>\n      <td>1.0</td>\n      <td>0.0</td>\n      <td>T</td>\n      <td>N</td>\n      <td>Red</td>\n      <td>Polygon</td>\n      <td>Axolotl</td>\n      <td>India</td>\n      <td>...</td>\n      <td>015c63324</td>\n      <td>3.0</td>\n      <td>Novice</td>\n      <td>Freezing</td>\n      <td>a</td>\n      <td>R</td>\n      <td>GZ</td>\n      <td>5.0</td>\n      <td>NaN</td>\n      <td>0</td>\n    </tr>\n    <tr>\n      <th>599996</th>\n      <td>599996</td>\n      <td>1.0</td>\n      <td>0.0</td>\n      <td>0.0</td>\n      <td>T</td>\n      <td>Y</td>\n      <td>Blue</td>\n      <td>Polygon</td>\n      <td>Dog</td>\n      <td>Costa Rica</td>\n      <td>...</td>\n      <td>a02ae6a63</td>\n      <td>2.0</td>\n      <td>Novice</td>\n      <td>Boiling Hot</td>\n      <td>n</td>\n      <td>N</td>\n      <td>sf</td>\n      <td>NaN</td>\n      <td>3.0</td>\n      <td>0</td>\n    </tr>\n    <tr>\n      <th>599997</th>\n      <td>599997</td>\n      <td>0.0</td>\n      <td>0.0</td>\n      <td>0.0</td>\n      <td>F</td>\n      <td>Y</td>\n      <td>Red</td>\n      <td>Circle</td>\n      <td>Axolotl</td>\n      <td>Russia</td>\n      <td>...</td>\n      <td>40f9610c1</td>\n      <td>2.0</td>\n      <td>Contributor</td>\n      <td>Freezing</td>\n      <td>n</td>\n      <td>H</td>\n      <td>MV</td>\n      <td>7.0</td>\n      <td>5.0</td>\n      <td>0</td>\n    </tr>\n    <tr>\n      <th>599998</th>\n      <td>599998</td>\n      <td>1.0</td>\n      <td>1.0</td>\n      <td>0.0</td>\n      <td>F</td>\n      <td>Y</td>\n      <td>NaN</td>\n      <td>Polygon</td>\n      <td>Axolotl</td>\n      <td>NaN</td>\n      <td>...</td>\n      <td>c1a8374a0</td>\n      <td>1.0</td>\n      <td>Master</td>\n      <td>Warm</td>\n      <td>m</td>\n      <td>X</td>\n      <td>Ey</td>\n      <td>1.0</td>\n      <td>5.0</td>\n      <td>0</td>\n    </tr>\n    <tr>\n      <th>599999</th>\n      <td>599999</td>\n      <td>0.0</td>\n      <td>0.0</td>\n      <td>0.0</td>\n      <td>T</td>\n      <td>N</td>\n      <td>Blue</td>\n      <td>Triangle</td>\n      <td>Dog</td>\n      <td>Russia</td>\n      <td>...</td>\n      <td>e2aea7784</td>\n      <td>1.0</td>\n      <td>Contributor</td>\n      <td>Boiling Hot</td>\n      <td>b</td>\n      <td>O</td>\n      <td>uI</td>\n      <td>5.0</td>\n      <td>8.0</td>\n      <td>0</td>\n    </tr>\n  </tbody>\n</table>\n<p>600000 rows × 25 columns</p>\n</div>"
     },
     "metadata": {},
     "execution_count": 5
    }
   ],
   "source": [
    "df"
   ]
  },
  {
   "cell_type": "code",
   "execution_count": 6,
   "metadata": {},
   "outputs": [
    {
     "output_type": "execute_result",
     "data": {
      "text/plain": [
       "Text(0, 0.5, 'count')"
      ]
     },
     "metadata": {},
     "execution_count": 6
    },
    {
     "output_type": "display_data",
     "data": {
      "text/plain": "<Figure size 432x288 with 1 Axes>",
      "image/svg+xml": "<?xml version=\"1.0\" encoding=\"utf-8\" standalone=\"no\"?>\n<!DOCTYPE svg PUBLIC \"-//W3C//DTD SVG 1.1//EN\"\n  \"http://www.w3.org/Graphics/SVG/1.1/DTD/svg11.dtd\">\n<!-- Created with matplotlib (https://matplotlib.org/) -->\n<svg height=\"271.874375pt\" version=\"1.1\" viewBox=\"0 0 417.73125 271.874375\" width=\"417.73125pt\" xmlns=\"http://www.w3.org/2000/svg\" xmlns:xlink=\"http://www.w3.org/1999/xlink\">\n <defs>\n  <style type=\"text/css\">\n*{stroke-linecap:butt;stroke-linejoin:round;}\n  </style>\n </defs>\n <g id=\"figure_1\">\n  <g id=\"patch_1\">\n   <path d=\"M 0 271.874375 \nL 417.73125 271.874375 \nL 417.73125 0 \nL 0 0 \nz\n\" style=\"fill:none;\"/>\n  </g>\n  <g id=\"axes_1\">\n   <g id=\"patch_2\">\n    <path d=\"M 75.73125 224.64 \nL 410.53125 224.64 \nL 410.53125 7.2 \nL 75.73125 7.2 \nz\n\" style=\"fill:#ffffff;\"/>\n   </g>\n   <g id=\"patch_3\">\n    <path clip-path=\"url(#pb238c2beb3)\" d=\"M 92.47125 224.64 \nL 226.39125 224.64 \nL 226.39125 17.554286 \nL 92.47125 17.554286 \nz\n\" style=\"fill:#3274a1;\"/>\n   </g>\n   <g id=\"patch_4\">\n    <path clip-path=\"url(#pb238c2beb3)\" d=\"M 259.87125 224.64 \nL 393.79125 224.64 \nL 393.79125 176.943495 \nL 259.87125 176.943495 \nz\n\" style=\"fill:#e1812c;\"/>\n   </g>\n   <g id=\"matplotlib.axis_1\">\n    <g id=\"xtick_1\">\n     <g id=\"line2d_1\">\n      <defs>\n       <path d=\"M 0 0 \nL 0 3.5 \n\" id=\"m5ad408c249\" style=\"stroke:#000000;stroke-width:0.8;\"/>\n      </defs>\n      <g>\n       <use style=\"stroke:#000000;stroke-width:0.8;\" x=\"159.43125\" xlink:href=\"#m5ad408c249\" y=\"224.64\"/>\n      </g>\n     </g>\n     <g id=\"text_1\">\n      <!-- 0 -->\n      <defs>\n       <path d=\"M 31.78125 66.40625 \nQ 24.171875 66.40625 20.328125 58.90625 \nQ 16.5 51.421875 16.5 36.375 \nQ 16.5 21.390625 20.328125 13.890625 \nQ 24.171875 6.390625 31.78125 6.390625 \nQ 39.453125 6.390625 43.28125 13.890625 \nQ 47.125 21.390625 47.125 36.375 \nQ 47.125 51.421875 43.28125 58.90625 \nQ 39.453125 66.40625 31.78125 66.40625 \nz\nM 31.78125 74.21875 \nQ 44.046875 74.21875 50.515625 64.515625 \nQ 56.984375 54.828125 56.984375 36.375 \nQ 56.984375 17.96875 50.515625 8.265625 \nQ 44.046875 -1.421875 31.78125 -1.421875 \nQ 19.53125 -1.421875 13.0625 8.265625 \nQ 6.59375 17.96875 6.59375 36.375 \nQ 6.59375 54.828125 13.0625 64.515625 \nQ 19.53125 74.21875 31.78125 74.21875 \nz\n\" id=\"DejaVuSans-48\"/>\n      </defs>\n      <g transform=\"translate(156.25 239.238437)scale(0.1 -0.1)\">\n       <use xlink:href=\"#DejaVuSans-48\"/>\n      </g>\n     </g>\n    </g>\n    <g id=\"xtick_2\">\n     <g id=\"line2d_2\">\n      <g>\n       <use style=\"stroke:#000000;stroke-width:0.8;\" x=\"326.83125\" xlink:href=\"#m5ad408c249\" y=\"224.64\"/>\n      </g>\n     </g>\n     <g id=\"text_2\">\n      <!-- 1 -->\n      <defs>\n       <path d=\"M 12.40625 8.296875 \nL 28.515625 8.296875 \nL 28.515625 63.921875 \nL 10.984375 60.40625 \nL 10.984375 69.390625 \nL 28.421875 72.90625 \nL 38.28125 72.90625 \nL 38.28125 8.296875 \nL 54.390625 8.296875 \nL 54.390625 0 \nL 12.40625 0 \nz\n\" id=\"DejaVuSans-49\"/>\n      </defs>\n      <g transform=\"translate(323.65 239.238437)scale(0.1 -0.1)\">\n       <use xlink:href=\"#DejaVuSans-49\"/>\n      </g>\n     </g>\n    </g>\n    <g id=\"text_3\">\n     <!-- label -->\n     <defs>\n      <path d=\"M 9.421875 75.984375 \nL 18.40625 75.984375 \nL 18.40625 0 \nL 9.421875 0 \nz\n\" id=\"DejaVuSans-108\"/>\n      <path d=\"M 34.28125 27.484375 \nQ 23.390625 27.484375 19.1875 25 \nQ 14.984375 22.515625 14.984375 16.5 \nQ 14.984375 11.71875 18.140625 8.90625 \nQ 21.296875 6.109375 26.703125 6.109375 \nQ 34.1875 6.109375 38.703125 11.40625 \nQ 43.21875 16.703125 43.21875 25.484375 \nL 43.21875 27.484375 \nz\nM 52.203125 31.203125 \nL 52.203125 0 \nL 43.21875 0 \nL 43.21875 8.296875 \nQ 40.140625 3.328125 35.546875 0.953125 \nQ 30.953125 -1.421875 24.3125 -1.421875 \nQ 15.921875 -1.421875 10.953125 3.296875 \nQ 6 8.015625 6 15.921875 \nQ 6 25.140625 12.171875 29.828125 \nQ 18.359375 34.515625 30.609375 34.515625 \nL 43.21875 34.515625 \nL 43.21875 35.40625 \nQ 43.21875 41.609375 39.140625 45 \nQ 35.0625 48.390625 27.6875 48.390625 \nQ 23 48.390625 18.546875 47.265625 \nQ 14.109375 46.140625 10.015625 43.890625 \nL 10.015625 52.203125 \nQ 14.9375 54.109375 19.578125 55.046875 \nQ 24.21875 56 28.609375 56 \nQ 40.484375 56 46.34375 49.84375 \nQ 52.203125 43.703125 52.203125 31.203125 \nz\n\" id=\"DejaVuSans-97\"/>\n      <path d=\"M 48.6875 27.296875 \nQ 48.6875 37.203125 44.609375 42.84375 \nQ 40.53125 48.484375 33.40625 48.484375 \nQ 26.265625 48.484375 22.1875 42.84375 \nQ 18.109375 37.203125 18.109375 27.296875 \nQ 18.109375 17.390625 22.1875 11.75 \nQ 26.265625 6.109375 33.40625 6.109375 \nQ 40.53125 6.109375 44.609375 11.75 \nQ 48.6875 17.390625 48.6875 27.296875 \nz\nM 18.109375 46.390625 \nQ 20.953125 51.265625 25.265625 53.625 \nQ 29.59375 56 35.59375 56 \nQ 45.5625 56 51.78125 48.09375 \nQ 58.015625 40.1875 58.015625 27.296875 \nQ 58.015625 14.40625 51.78125 6.484375 \nQ 45.5625 -1.421875 35.59375 -1.421875 \nQ 29.59375 -1.421875 25.265625 0.953125 \nQ 20.953125 3.328125 18.109375 8.203125 \nL 18.109375 0 \nL 9.078125 0 \nL 9.078125 75.984375 \nL 18.109375 75.984375 \nz\n\" id=\"DejaVuSans-98\"/>\n      <path d=\"M 56.203125 29.59375 \nL 56.203125 25.203125 \nL 14.890625 25.203125 \nQ 15.484375 15.921875 20.484375 11.0625 \nQ 25.484375 6.203125 34.421875 6.203125 \nQ 39.59375 6.203125 44.453125 7.46875 \nQ 49.3125 8.734375 54.109375 11.28125 \nL 54.109375 2.78125 \nQ 49.265625 0.734375 44.1875 -0.34375 \nQ 39.109375 -1.421875 33.890625 -1.421875 \nQ 20.796875 -1.421875 13.15625 6.1875 \nQ 5.515625 13.8125 5.515625 26.8125 \nQ 5.515625 40.234375 12.765625 48.109375 \nQ 20.015625 56 32.328125 56 \nQ 43.359375 56 49.78125 48.890625 \nQ 56.203125 41.796875 56.203125 29.59375 \nz\nM 47.21875 32.234375 \nQ 47.125 39.59375 43.09375 43.984375 \nQ 39.0625 48.390625 32.421875 48.390625 \nQ 24.90625 48.390625 20.390625 44.140625 \nQ 15.875 39.890625 15.1875 32.171875 \nz\n\" id=\"DejaVuSans-101\"/>\n     </defs>\n     <g transform=\"translate(218.945313 260.515)scale(0.2 -0.2)\">\n      <use xlink:href=\"#DejaVuSans-108\"/>\n      <use x=\"27.783203\" xlink:href=\"#DejaVuSans-97\"/>\n      <use x=\"89.0625\" xlink:href=\"#DejaVuSans-98\"/>\n      <use x=\"152.539062\" xlink:href=\"#DejaVuSans-101\"/>\n      <use x=\"214.0625\" xlink:href=\"#DejaVuSans-108\"/>\n     </g>\n    </g>\n   </g>\n   <g id=\"matplotlib.axis_2\">\n    <g id=\"ytick_1\">\n     <g id=\"line2d_3\">\n      <defs>\n       <path d=\"M 0 0 \nL -3.5 0 \n\" id=\"m2502a988e2\" style=\"stroke:#000000;stroke-width:0.8;\"/>\n      </defs>\n      <g>\n       <use style=\"stroke:#000000;stroke-width:0.8;\" x=\"75.73125\" xlink:href=\"#m2502a988e2\" y=\"224.64\"/>\n      </g>\n     </g>\n     <g id=\"text_4\">\n      <!-- 0 -->\n      <g transform=\"translate(62.36875 228.439219)scale(0.1 -0.1)\">\n       <use xlink:href=\"#DejaVuSans-48\"/>\n      </g>\n     </g>\n    </g>\n    <g id=\"ytick_2\">\n     <g id=\"line2d_4\">\n      <g>\n       <use style=\"stroke:#000000;stroke-width:0.8;\" x=\"75.73125\" xlink:href=\"#m2502a988e2\" y=\"182.176297\"/>\n      </g>\n     </g>\n     <g id=\"text_5\">\n      <!-- 100000 -->\n      <g transform=\"translate(30.55625 185.975515)scale(0.1 -0.1)\">\n       <use xlink:href=\"#DejaVuSans-49\"/>\n       <use x=\"63.623047\" xlink:href=\"#DejaVuSans-48\"/>\n       <use x=\"127.246094\" xlink:href=\"#DejaVuSans-48\"/>\n       <use x=\"190.869141\" xlink:href=\"#DejaVuSans-48\"/>\n       <use x=\"254.492188\" xlink:href=\"#DejaVuSans-48\"/>\n       <use x=\"318.115234\" xlink:href=\"#DejaVuSans-48\"/>\n      </g>\n     </g>\n    </g>\n    <g id=\"ytick_3\">\n     <g id=\"line2d_5\">\n      <g>\n       <use style=\"stroke:#000000;stroke-width:0.8;\" x=\"75.73125\" xlink:href=\"#m2502a988e2\" y=\"139.712593\"/>\n      </g>\n     </g>\n     <g id=\"text_6\">\n      <!-- 200000 -->\n      <defs>\n       <path d=\"M 19.1875 8.296875 \nL 53.609375 8.296875 \nL 53.609375 0 \nL 7.328125 0 \nL 7.328125 8.296875 \nQ 12.9375 14.109375 22.625 23.890625 \nQ 32.328125 33.6875 34.8125 36.53125 \nQ 39.546875 41.84375 41.421875 45.53125 \nQ 43.3125 49.21875 43.3125 52.78125 \nQ 43.3125 58.59375 39.234375 62.25 \nQ 35.15625 65.921875 28.609375 65.921875 \nQ 23.96875 65.921875 18.8125 64.3125 \nQ 13.671875 62.703125 7.8125 59.421875 \nL 7.8125 69.390625 \nQ 13.765625 71.78125 18.9375 73 \nQ 24.125 74.21875 28.421875 74.21875 \nQ 39.75 74.21875 46.484375 68.546875 \nQ 53.21875 62.890625 53.21875 53.421875 \nQ 53.21875 48.921875 51.53125 44.890625 \nQ 49.859375 40.875 45.40625 35.40625 \nQ 44.1875 33.984375 37.640625 27.21875 \nQ 31.109375 20.453125 19.1875 8.296875 \nz\n\" id=\"DejaVuSans-50\"/>\n      </defs>\n      <g transform=\"translate(30.55625 143.511812)scale(0.1 -0.1)\">\n       <use xlink:href=\"#DejaVuSans-50\"/>\n       <use x=\"63.623047\" xlink:href=\"#DejaVuSans-48\"/>\n       <use x=\"127.246094\" xlink:href=\"#DejaVuSans-48\"/>\n       <use x=\"190.869141\" xlink:href=\"#DejaVuSans-48\"/>\n       <use x=\"254.492188\" xlink:href=\"#DejaVuSans-48\"/>\n       <use x=\"318.115234\" xlink:href=\"#DejaVuSans-48\"/>\n      </g>\n     </g>\n    </g>\n    <g id=\"ytick_4\">\n     <g id=\"line2d_6\">\n      <g>\n       <use style=\"stroke:#000000;stroke-width:0.8;\" x=\"75.73125\" xlink:href=\"#m2502a988e2\" y=\"97.24889\"/>\n      </g>\n     </g>\n     <g id=\"text_7\">\n      <!-- 300000 -->\n      <defs>\n       <path d=\"M 40.578125 39.3125 \nQ 47.65625 37.796875 51.625 33 \nQ 55.609375 28.21875 55.609375 21.1875 \nQ 55.609375 10.40625 48.1875 4.484375 \nQ 40.765625 -1.421875 27.09375 -1.421875 \nQ 22.515625 -1.421875 17.65625 -0.515625 \nQ 12.796875 0.390625 7.625 2.203125 \nL 7.625 11.71875 \nQ 11.71875 9.328125 16.59375 8.109375 \nQ 21.484375 6.890625 26.8125 6.890625 \nQ 36.078125 6.890625 40.9375 10.546875 \nQ 45.796875 14.203125 45.796875 21.1875 \nQ 45.796875 27.640625 41.28125 31.265625 \nQ 36.765625 34.90625 28.71875 34.90625 \nL 20.21875 34.90625 \nL 20.21875 43.015625 \nL 29.109375 43.015625 \nQ 36.375 43.015625 40.234375 45.921875 \nQ 44.09375 48.828125 44.09375 54.296875 \nQ 44.09375 59.90625 40.109375 62.90625 \nQ 36.140625 65.921875 28.71875 65.921875 \nQ 24.65625 65.921875 20.015625 65.03125 \nQ 15.375 64.15625 9.8125 62.3125 \nL 9.8125 71.09375 \nQ 15.4375 72.65625 20.34375 73.4375 \nQ 25.25 74.21875 29.59375 74.21875 \nQ 40.828125 74.21875 47.359375 69.109375 \nQ 53.90625 64.015625 53.90625 55.328125 \nQ 53.90625 49.265625 50.4375 45.09375 \nQ 46.96875 40.921875 40.578125 39.3125 \nz\n\" id=\"DejaVuSans-51\"/>\n      </defs>\n      <g transform=\"translate(30.55625 101.048109)scale(0.1 -0.1)\">\n       <use xlink:href=\"#DejaVuSans-51\"/>\n       <use x=\"63.623047\" xlink:href=\"#DejaVuSans-48\"/>\n       <use x=\"127.246094\" xlink:href=\"#DejaVuSans-48\"/>\n       <use x=\"190.869141\" xlink:href=\"#DejaVuSans-48\"/>\n       <use x=\"254.492188\" xlink:href=\"#DejaVuSans-48\"/>\n       <use x=\"318.115234\" xlink:href=\"#DejaVuSans-48\"/>\n      </g>\n     </g>\n    </g>\n    <g id=\"ytick_5\">\n     <g id=\"line2d_7\">\n      <g>\n       <use style=\"stroke:#000000;stroke-width:0.8;\" x=\"75.73125\" xlink:href=\"#m2502a988e2\" y=\"54.785187\"/>\n      </g>\n     </g>\n     <g id=\"text_8\">\n      <!-- 400000 -->\n      <defs>\n       <path d=\"M 37.796875 64.3125 \nL 12.890625 25.390625 \nL 37.796875 25.390625 \nz\nM 35.203125 72.90625 \nL 47.609375 72.90625 \nL 47.609375 25.390625 \nL 58.015625 25.390625 \nL 58.015625 17.1875 \nL 47.609375 17.1875 \nL 47.609375 0 \nL 37.796875 0 \nL 37.796875 17.1875 \nL 4.890625 17.1875 \nL 4.890625 26.703125 \nz\n\" id=\"DejaVuSans-52\"/>\n      </defs>\n      <g transform=\"translate(30.55625 58.584406)scale(0.1 -0.1)\">\n       <use xlink:href=\"#DejaVuSans-52\"/>\n       <use x=\"63.623047\" xlink:href=\"#DejaVuSans-48\"/>\n       <use x=\"127.246094\" xlink:href=\"#DejaVuSans-48\"/>\n       <use x=\"190.869141\" xlink:href=\"#DejaVuSans-48\"/>\n       <use x=\"254.492188\" xlink:href=\"#DejaVuSans-48\"/>\n       <use x=\"318.115234\" xlink:href=\"#DejaVuSans-48\"/>\n      </g>\n     </g>\n    </g>\n    <g id=\"ytick_6\">\n     <g id=\"line2d_8\">\n      <g>\n       <use style=\"stroke:#000000;stroke-width:0.8;\" x=\"75.73125\" xlink:href=\"#m2502a988e2\" y=\"12.321484\"/>\n      </g>\n     </g>\n     <g id=\"text_9\">\n      <!-- 500000 -->\n      <defs>\n       <path d=\"M 10.796875 72.90625 \nL 49.515625 72.90625 \nL 49.515625 64.59375 \nL 19.828125 64.59375 \nL 19.828125 46.734375 \nQ 21.96875 47.46875 24.109375 47.828125 \nQ 26.265625 48.1875 28.421875 48.1875 \nQ 40.625 48.1875 47.75 41.5 \nQ 54.890625 34.8125 54.890625 23.390625 \nQ 54.890625 11.625 47.5625 5.09375 \nQ 40.234375 -1.421875 26.90625 -1.421875 \nQ 22.3125 -1.421875 17.546875 -0.640625 \nQ 12.796875 0.140625 7.71875 1.703125 \nL 7.71875 11.625 \nQ 12.109375 9.234375 16.796875 8.0625 \nQ 21.484375 6.890625 26.703125 6.890625 \nQ 35.15625 6.890625 40.078125 11.328125 \nQ 45.015625 15.765625 45.015625 23.390625 \nQ 45.015625 31 40.078125 35.4375 \nQ 35.15625 39.890625 26.703125 39.890625 \nQ 22.75 39.890625 18.8125 39.015625 \nQ 14.890625 38.140625 10.796875 36.28125 \nz\n\" id=\"DejaVuSans-53\"/>\n      </defs>\n      <g transform=\"translate(30.55625 16.120702)scale(0.1 -0.1)\">\n       <use xlink:href=\"#DejaVuSans-53\"/>\n       <use x=\"63.623047\" xlink:href=\"#DejaVuSans-48\"/>\n       <use x=\"127.246094\" xlink:href=\"#DejaVuSans-48\"/>\n       <use x=\"190.869141\" xlink:href=\"#DejaVuSans-48\"/>\n       <use x=\"254.492188\" xlink:href=\"#DejaVuSans-48\"/>\n       <use x=\"318.115234\" xlink:href=\"#DejaVuSans-48\"/>\n      </g>\n     </g>\n    </g>\n    <g id=\"text_10\">\n     <!-- count -->\n     <defs>\n      <path d=\"M 48.78125 52.59375 \nL 48.78125 44.1875 \nQ 44.96875 46.296875 41.140625 47.34375 \nQ 37.3125 48.390625 33.40625 48.390625 \nQ 24.65625 48.390625 19.8125 42.84375 \nQ 14.984375 37.3125 14.984375 27.296875 \nQ 14.984375 17.28125 19.8125 11.734375 \nQ 24.65625 6.203125 33.40625 6.203125 \nQ 37.3125 6.203125 41.140625 7.25 \nQ 44.96875 8.296875 48.78125 10.40625 \nL 48.78125 2.09375 \nQ 45.015625 0.34375 40.984375 -0.53125 \nQ 36.96875 -1.421875 32.421875 -1.421875 \nQ 20.0625 -1.421875 12.78125 6.34375 \nQ 5.515625 14.109375 5.515625 27.296875 \nQ 5.515625 40.671875 12.859375 48.328125 \nQ 20.21875 56 33.015625 56 \nQ 37.15625 56 41.109375 55.140625 \nQ 45.0625 54.296875 48.78125 52.59375 \nz\n\" id=\"DejaVuSans-99\"/>\n      <path d=\"M 30.609375 48.390625 \nQ 23.390625 48.390625 19.1875 42.75 \nQ 14.984375 37.109375 14.984375 27.296875 \nQ 14.984375 17.484375 19.15625 11.84375 \nQ 23.34375 6.203125 30.609375 6.203125 \nQ 37.796875 6.203125 41.984375 11.859375 \nQ 46.1875 17.53125 46.1875 27.296875 \nQ 46.1875 37.015625 41.984375 42.703125 \nQ 37.796875 48.390625 30.609375 48.390625 \nz\nM 30.609375 56 \nQ 42.328125 56 49.015625 48.375 \nQ 55.71875 40.765625 55.71875 27.296875 \nQ 55.71875 13.875 49.015625 6.21875 \nQ 42.328125 -1.421875 30.609375 -1.421875 \nQ 18.84375 -1.421875 12.171875 6.21875 \nQ 5.515625 13.875 5.515625 27.296875 \nQ 5.515625 40.765625 12.171875 48.375 \nQ 18.84375 56 30.609375 56 \nz\n\" id=\"DejaVuSans-111\"/>\n      <path d=\"M 8.5 21.578125 \nL 8.5 54.6875 \nL 17.484375 54.6875 \nL 17.484375 21.921875 \nQ 17.484375 14.15625 20.5 10.265625 \nQ 23.53125 6.390625 29.59375 6.390625 \nQ 36.859375 6.390625 41.078125 11.03125 \nQ 45.3125 15.671875 45.3125 23.6875 \nL 45.3125 54.6875 \nL 54.296875 54.6875 \nL 54.296875 0 \nL 45.3125 0 \nL 45.3125 8.40625 \nQ 42.046875 3.421875 37.71875 1 \nQ 33.40625 -1.421875 27.6875 -1.421875 \nQ 18.265625 -1.421875 13.375 4.4375 \nQ 8.5 10.296875 8.5 21.578125 \nz\nM 31.109375 56 \nz\n\" id=\"DejaVuSans-117\"/>\n      <path d=\"M 54.890625 33.015625 \nL 54.890625 0 \nL 45.90625 0 \nL 45.90625 32.71875 \nQ 45.90625 40.484375 42.875 44.328125 \nQ 39.84375 48.1875 33.796875 48.1875 \nQ 26.515625 48.1875 22.3125 43.546875 \nQ 18.109375 38.921875 18.109375 30.90625 \nL 18.109375 0 \nL 9.078125 0 \nL 9.078125 54.6875 \nL 18.109375 54.6875 \nL 18.109375 46.1875 \nQ 21.34375 51.125 25.703125 53.5625 \nQ 30.078125 56 35.796875 56 \nQ 45.21875 56 50.046875 50.171875 \nQ 54.890625 44.34375 54.890625 33.015625 \nz\n\" id=\"DejaVuSans-110\"/>\n      <path d=\"M 18.3125 70.21875 \nL 18.3125 54.6875 \nL 36.8125 54.6875 \nL 36.8125 47.703125 \nL 18.3125 47.703125 \nL 18.3125 18.015625 \nQ 18.3125 11.328125 20.140625 9.421875 \nQ 21.96875 7.515625 27.59375 7.515625 \nL 36.8125 7.515625 \nL 36.8125 0 \nL 27.59375 0 \nQ 17.1875 0 13.234375 3.875 \nQ 9.28125 7.765625 9.28125 18.015625 \nL 9.28125 47.703125 \nL 2.6875 47.703125 \nL 2.6875 54.6875 \nL 9.28125 54.6875 \nL 9.28125 70.21875 \nz\n\" id=\"DejaVuSans-116\"/>\n     </defs>\n     <g transform=\"translate(22.396875 144.1325)rotate(-90)scale(0.2 -0.2)\">\n      <use xlink:href=\"#DejaVuSans-99\"/>\n      <use x=\"54.980469\" xlink:href=\"#DejaVuSans-111\"/>\n      <use x=\"116.162109\" xlink:href=\"#DejaVuSans-117\"/>\n      <use x=\"179.541016\" xlink:href=\"#DejaVuSans-110\"/>\n      <use x=\"242.919922\" xlink:href=\"#DejaVuSans-116\"/>\n     </g>\n    </g>\n   </g>\n   <g id=\"patch_5\">\n    <path d=\"M 75.73125 224.64 \nL 75.73125 7.2 \n\" style=\"fill:none;stroke:#000000;stroke-linecap:square;stroke-linejoin:miter;stroke-width:0.8;\"/>\n   </g>\n   <g id=\"patch_6\">\n    <path d=\"M 410.53125 224.64 \nL 410.53125 7.2 \n\" style=\"fill:none;stroke:#000000;stroke-linecap:square;stroke-linejoin:miter;stroke-width:0.8;\"/>\n   </g>\n   <g id=\"patch_7\">\n    <path d=\"M 75.73125 224.64 \nL 410.53125 224.64 \n\" style=\"fill:none;stroke:#000000;stroke-linecap:square;stroke-linejoin:miter;stroke-width:0.8;\"/>\n   </g>\n   <g id=\"patch_8\">\n    <path d=\"M 75.73125 7.2 \nL 410.53125 7.2 \n\" style=\"fill:none;stroke:#000000;stroke-linecap:square;stroke-linejoin:miter;stroke-width:0.8;\"/>\n   </g>\n  </g>\n </g>\n <defs>\n  <clipPath id=\"pb238c2beb3\">\n   <rect height=\"217.44\" width=\"334.8\" x=\"75.73125\" y=\"7.2\"/>\n  </clipPath>\n </defs>\n</svg>\n",
      "image/png": "[encoded data removed]"
     },
     "metadata": {
      "needs_background": "light"
     }
    }
   ],
   "source": [
    "b = sns.countplot(x='target', data=df)\n",
    "b.set_xlabel(\"label\", fontsize=20)\n",
    "b.set_ylabel(\"count\", fontsize=20)"
   ]
  },
  {
   "cell_type": "code",
   "execution_count": 7,
   "metadata": {},
   "outputs": [],
   "source": [
    "#Label encoding:\n",
    "mapping = {\"Freezing\":0, \"Warm\":1, \"Cold\":2, \"Boiling Hot\":3, \"Hot\": 4, \"Lava Hot\":5}\n",
    "df.loc[:,\"ord_2\"] = df.ord_2.map(mapping)"
   ]
  },
  {
   "cell_type": "code",
   "execution_count": 8,
   "metadata": {},
   "outputs": [
    {
     "output_type": "execute_result",
     "data": {
      "text/plain": [
       "            id  bin_0  bin_1  bin_2 bin_3 bin_4 nom_0      nom_1    nom_2  \\\n",
       "0            0    0.0    0.0    0.0     F     N   Red  Trapezoid  Hamster   \n",
       "1            1    1.0    1.0    0.0     F     Y   Red       Star  Axolotl   \n",
       "2            2    0.0    1.0    0.0     F     N   Red        NaN  Hamster   \n",
       "3            3    NaN    0.0    0.0     F     N   Red     Circle  Hamster   \n",
       "4            4    0.0    NaN    0.0     T     N   Red   Triangle  Hamster   \n",
       "...        ...    ...    ...    ...   ...   ...   ...        ...      ...   \n",
       "599995  599995    0.0    1.0    0.0     T     N   Red    Polygon  Axolotl   \n",
       "599996  599996    1.0    0.0    0.0     T     Y  Blue    Polygon      Dog   \n",
       "599997  599997    0.0    0.0    0.0     F     Y   Red     Circle  Axolotl   \n",
       "599998  599998    1.0    1.0    0.0     F     Y   NaN    Polygon  Axolotl   \n",
       "599999  599999    0.0    0.0    0.0     T     N  Blue   Triangle      Dog   \n",
       "\n",
       "             nom_3  ...      nom_9 ord_0        ord_1 ord_2 ord_3 ord_4  \\\n",
       "0           Russia  ...  02e7c8990   3.0  Contributor   4.0     c     U   \n",
       "1              NaN  ...  f37df64af   3.0  Grandmaster   1.0     e     X   \n",
       "2           Canada  ...        NaN   3.0          NaN   0.0     n     P   \n",
       "3          Finland  ...  f9d456e57   1.0       Novice   5.0     a     C   \n",
       "4       Costa Rica  ...  c5361037c   3.0  Grandmaster   2.0     h     C   \n",
       "...            ...  ...        ...   ...          ...   ...   ...   ...   \n",
       "599995       India  ...  015c63324   3.0       Novice   0.0     a     R   \n",
       "599996  Costa Rica  ...  a02ae6a63   2.0       Novice   3.0     n     N   \n",
       "599997      Russia  ...  40f9610c1   2.0  Contributor   0.0     n     H   \n",
       "599998         NaN  ...  c1a8374a0   1.0       Master   1.0     m     X   \n",
       "599999      Russia  ...  e2aea7784   1.0  Contributor   3.0     b     O   \n",
       "\n",
       "        ord_5  day  month target  \n",
       "0          Pw  6.0    3.0      0  \n",
       "1          pE  7.0    7.0      0  \n",
       "2          eN  5.0    9.0      0  \n",
       "3         NaN  3.0    3.0      0  \n",
       "4          OZ  5.0   12.0      0  \n",
       "...       ...  ...    ...    ...  \n",
       "599995     GZ  5.0    NaN      0  \n",
       "599996     sf  NaN    3.0      0  \n",
       "599997     MV  7.0    5.0      0  \n",
       "599998     Ey  1.0    5.0      0  \n",
       "599999     uI  5.0    8.0      0  \n",
       "\n",
       "[600000 rows x 25 columns]"
      ],
      "text/html": "<div>\n<style scoped>\n    .dataframe tbody tr th:only-of-type {\n        vertical-align: middle;\n    }\n\n    .dataframe tbody tr th {\n        vertical-align: top;\n    }\n\n    .dataframe thead th {\n        text-align: right;\n    }\n</style>\n<table border=\"1\" class=\"dataframe\">\n  <thead>\n    <tr style=\"text-align: right;\">\n      <th></th>\n      <th>id</th>\n      <th>bin_0</th>\n      <th>bin_1</th>\n      <th>bin_2</th>\n      <th>bin_3</th>\n      <th>bin_4</th>\n      <th>nom_0</th>\n      <th>nom_1</th>\n      <th>nom_2</th>\n      <th>nom_3</th>\n      <th>...</th>\n      <th>nom_9</th>\n      <th>ord_0</th>\n      <th>ord_1</th>\n      <th>ord_2</th>\n      <th>ord_3</th>\n      <th>ord_4</th>\n      <th>ord_5</th>\n      <th>day</th>\n      <th>month</th>\n      <th>target</th>\n    </tr>\n  </thead>\n  <tbody>\n    <tr>\n      <th>0</th>\n      <td>0</td>\n      <td>0.0</td>\n      <td>0.0</td>\n      <td>0.0</td>\n      <td>F</td>\n      <td>N</td>\n      <td>Red</td>\n      <td>Trapezoid</td>\n      <td>Hamster</td>\n      <td>Russia</td>\n      <td>...</td>\n      <td>02e7c8990</td>\n      <td>3.0</td>\n      <td>Contributor</td>\n      <td>4.0</td>\n      <td>c</td>\n      <td>U</td>\n      <td>Pw</td>\n      <td>6.0</td>\n      <td>3.0</td>\n      <td>0</td>\n    </tr>\n    <tr>\n      <th>1</th>\n      <td>1</td>\n      <td>1.0</td>\n      <td>1.0</td>\n      <td>0.0</td>\n      <td>F</td>\n      <td>Y</td>\n      <td>Red</td>\n      <td>Star</td>\n      <td>Axolotl</td>\n      <td>NaN</td>\n      <td>...</td>\n      <td>f37df64af</td>\n      <td>3.0</td>\n      <td>Grandmaster</td>\n      <td>1.0</td>\n      <td>e</td>\n      <td>X</td>\n      <td>pE</td>\n      <td>7.0</td>\n      <td>7.0</td>\n      <td>0</td>\n    </tr>\n    <tr>\n      <th>2</th>\n      <td>2</td>\n      <td>0.0</td>\n      <td>1.0</td>\n      <td>0.0</td>\n      <td>F</td>\n      <td>N</td>\n      <td>Red</td>\n      <td>NaN</td>\n      <td>Hamster</td>\n      <td>Canada</td>\n      <td>...</td>\n      <td>NaN</td>\n      <td>3.0</td>\n      <td>NaN</td>\n      <td>0.0</td>\n      <td>n</td>\n      <td>P</td>\n      <td>eN</td>\n      <td>5.0</td>\n      <td>9.0</td>\n      <td>0</td>\n    </tr>\n    <tr>\n      <th>3</th>\n      <td>3</td>\n      <td>NaN</td>\n      <td>0.0</td>\n      <td>0.0</td>\n      <td>F</td>\n      <td>N</td>\n      <td>Red</td>\n      <td>Circle</td>\n      <td>Hamster</td>\n      <td>Finland</td>\n      <td>...</td>\n      <td>f9d456e57</td>\n      <td>1.0</td>\n      <td>Novice</td>\n      <td>5.0</td>\n      <td>a</td>\n      <td>C</td>\n      <td>NaN</td>\n      <td>3.0</td>\n      <td>3.0</td>\n      <td>0</td>\n    </tr>\n    <tr>\n      <th>4</th>\n      <td>4</td>\n      <td>0.0</td>\n      <td>NaN</td>\n      <td>0.0</td>\n      <td>T</td>\n      <td>N</td>\n      <td>Red</td>\n      <td>Triangle</td>\n      <td>Hamster</td>\n      <td>Costa Rica</td>\n      <td>...</td>\n      <td>c5361037c</td>\n      <td>3.0</td>\n      <td>Grandmaster</td>\n      <td>2.0</td>\n      <td>h</td>\n      <td>C</td>\n      <td>OZ</td>\n      <td>5.0</td>\n      <td>12.0</td>\n      <td>0</td>\n    </tr>\n    <tr>\n      <th>...</th>\n      <td>...</td>\n      <td>...</td>\n      <td>...</td>\n      <td>...</td>\n      <td>...</td>\n      <td>...</td>\n      <td>...</td>\n      <td>...</td>\n      <td>...</td>\n      <td>...</td>\n      <td>...</td>\n      <td>...</td>\n      <td>...</td>\n      <td>...</td>\n      <td>...</td>\n      <td>...</td>\n      <td>...</td>\n      <td>...</td>\n      <td>...</td>\n      <td>...</td>\n      <td>...</td>\n    </tr>\n    <tr>\n      <th>599995</th>\n      <td>599995</td>\n      <td>0.0</td>\n      <td>1.0</td>\n      <td>0.0</td>\n      <td>T</td>\n      <td>N</td>\n      <td>Red</td>\n      <td>Polygon</td>\n      <td>Axolotl</td>\n      <td>India</td>\n      <td>...</td>\n      <td>015c63324</td>\n      <td>3.0</td>\n      <td>Novice</td>\n      <td>0.0</td>\n      <td>a</td>\n      <td>R</td>\n      <td>GZ</td>\n      <td>5.0</td>\n      <td>NaN</td>\n      <td>0</td>\n    </tr>\n    <tr>\n      <th>599996</th>\n      <td>599996</td>\n      <td>1.0</td>\n      <td>0.0</td>\n      <td>0.0</td>\n      <td>T</td>\n      <td>Y</td>\n      <td>Blue</td>\n      <td>Polygon</td>\n      <td>Dog</td>\n      <td>Costa Rica</td>\n      <td>...</td>\n      <td>a02ae6a63</td>\n      <td>2.0</td>\n      <td>Novice</td>\n      <td>3.0</td>\n      <td>n</td>\n      <td>N</td>\n      <td>sf</td>\n      <td>NaN</td>\n      <td>3.0</td>\n      <td>0</td>\n    </tr>\n    <tr>\n      <th>599997</th>\n      <td>599997</td>\n      <td>0.0</td>\n      <td>0.0</td>\n      <td>0.0</td>\n      <td>F</td>\n      <td>Y</td>\n      <td>Red</td>\n      <td>Circle</td>\n      <td>Axolotl</td>\n      <td>Russia</td>\n      <td>...</td>\n      <td>40f9610c1</td>\n      <td>2.0</td>\n      <td>Contributor</td>\n      <td>0.0</td>\n      <td>n</td>\n      <td>H</td>\n      <td>MV</td>\n      <td>7.0</td>\n      <td>5.0</td>\n      <td>0</td>\n    </tr>\n    <tr>\n      <th>599998</th>\n      <td>599998</td>\n      <td>1.0</td>\n      <td>1.0</td>\n      <td>0.0</td>\n      <td>F</td>\n      <td>Y</td>\n      <td>NaN</td>\n      <td>Polygon</td>\n      <td>Axolotl</td>\n      <td>NaN</td>\n      <td>...</td>\n      <td>c1a8374a0</td>\n      <td>1.0</td>\n      <td>Master</td>\n      <td>1.0</td>\n      <td>m</td>\n      <td>X</td>\n      <td>Ey</td>\n      <td>1.0</td>\n      <td>5.0</td>\n      <td>0</td>\n    </tr>\n    <tr>\n      <th>599999</th>\n      <td>599999</td>\n      <td>0.0</td>\n      <td>0.0</td>\n      <td>0.0</td>\n      <td>T</td>\n      <td>N</td>\n      <td>Blue</td>\n      <td>Triangle</td>\n      <td>Dog</td>\n      <td>Russia</td>\n      <td>...</td>\n      <td>e2aea7784</td>\n      <td>1.0</td>\n      <td>Contributor</td>\n      <td>3.0</td>\n      <td>b</td>\n      <td>O</td>\n      <td>uI</td>\n      <td>5.0</td>\n      <td>8.0</td>\n      <td>0</td>\n    </tr>\n  </tbody>\n</table>\n<p>600000 rows × 25 columns</p>\n</div>"
     },
     "metadata": {},
     "execution_count": 8
    }
   ],
   "source": [
    "df"
   ]
  },
  {
   "cell_type": "code",
   "execution_count": 9,
   "metadata": {},
   "outputs": [
    {
     "output_type": "execute_result",
     "data": {
      "text/plain": [
       "0.0    142726\n",
       "1.0    124239\n",
       "2.0     97822\n",
       "3.0     84790\n",
       "4.0     67508\n",
       "5.0     64840\n",
       "Name: ord_2, dtype: int64"
      ]
     },
     "metadata": {},
     "execution_count": 9
    }
   ],
   "source": [
    "df.ord_2.value_counts()"
   ]
  },
  {
   "cell_type": "code",
   "execution_count": 10,
   "metadata": {},
   "outputs": [
    {
     "output_type": "execute_result",
     "data": {
      "text/plain": [
       "0    487677\n",
       "1    112323\n",
       "Name: target, dtype: int64"
      ]
     },
     "metadata": {},
     "execution_count": 10
    }
   ],
   "source": [
    "df.target.value_counts()"
   ]
  },
  {
   "cell_type": "code",
   "execution_count": 11,
   "metadata": {},
   "outputs": [],
   "source": [
    "#Label encoding using sklearn\n",
    "from sklearn import preprocessing\n",
    "df = pd.read_csv(\"../input/train.csv\")\n",
    "#fill NaN values in ord_2 column\n",
    "df.loc[:,\"ord_2\"] = df.ord_2.fillna(\"NONE\")"
   ]
  },
  {
   "cell_type": "code",
   "execution_count": 12,
   "metadata": {},
   "outputs": [],
   "source": [
    "#init labelEncoder\n",
    "lbl_enc = preprocessing.LabelEncoder()\n",
    "#fit first then transform\n",
    "df.loc[:,\"ord_2\"] = lbl_enc.fit_transform(df.ord_2.values)"
   ]
  },
  {
   "cell_type": "code",
   "execution_count": 13,
   "metadata": {},
   "outputs": [
    {
     "output_type": "execute_result",
     "data": {
      "text/plain": [
       "   id  bin_0  bin_1  bin_2 bin_3 bin_4 nom_0      nom_1    nom_2       nom_3  \\\n",
       "0   0    0.0    0.0    0.0     F     N   Red  Trapezoid  Hamster      Russia   \n",
       "1   1    1.0    1.0    0.0     F     Y   Red       Star  Axolotl         NaN   \n",
       "2   2    0.0    1.0    0.0     F     N   Red        NaN  Hamster      Canada   \n",
       "3   3    NaN    0.0    0.0     F     N   Red     Circle  Hamster     Finland   \n",
       "4   4    0.0    NaN    0.0     T     N   Red   Triangle  Hamster  Costa Rica   \n",
       "\n",
       "   ...      nom_9 ord_0        ord_1 ord_2 ord_3 ord_4  ord_5  day  month  \\\n",
       "0  ...  02e7c8990   3.0  Contributor     3     c     U     Pw  6.0    3.0   \n",
       "1  ...  f37df64af   3.0  Grandmaster     6     e     X     pE  7.0    7.0   \n",
       "2  ...        NaN   3.0          NaN     2     n     P     eN  5.0    9.0   \n",
       "3  ...  f9d456e57   1.0       Novice     4     a     C    NaN  3.0    3.0   \n",
       "4  ...  c5361037c   3.0  Grandmaster     1     h     C     OZ  5.0   12.0   \n",
       "\n",
       "  target  \n",
       "0      0  \n",
       "1      0  \n",
       "2      0  \n",
       "3      0  \n",
       "4      0  \n",
       "\n",
       "[5 rows x 25 columns]"
      ],
      "text/html": "<div>\n<style scoped>\n    .dataframe tbody tr th:only-of-type {\n        vertical-align: middle;\n    }\n\n    .dataframe tbody tr th {\n        vertical-align: top;\n    }\n\n    .dataframe thead th {\n        text-align: right;\n    }\n</style>\n<table border=\"1\" class=\"dataframe\">\n  <thead>\n    <tr style=\"text-align: right;\">\n      <th></th>\n      <th>id</th>\n      <th>bin_0</th>\n      <th>bin_1</th>\n      <th>bin_2</th>\n      <th>bin_3</th>\n      <th>bin_4</th>\n      <th>nom_0</th>\n      <th>nom_1</th>\n      <th>nom_2</th>\n      <th>nom_3</th>\n      <th>...</th>\n      <th>nom_9</th>\n      <th>ord_0</th>\n      <th>ord_1</th>\n      <th>ord_2</th>\n      <th>ord_3</th>\n      <th>ord_4</th>\n      <th>ord_5</th>\n      <th>day</th>\n      <th>month</th>\n      <th>target</th>\n    </tr>\n  </thead>\n  <tbody>\n    <tr>\n      <th>0</th>\n      <td>0</td>\n      <td>0.0</td>\n      <td>0.0</td>\n      <td>0.0</td>\n      <td>F</td>\n      <td>N</td>\n      <td>Red</td>\n      <td>Trapezoid</td>\n      <td>Hamster</td>\n      <td>Russia</td>\n      <td>...</td>\n      <td>02e7c8990</td>\n      <td>3.0</td>\n      <td>Contributor</td>\n      <td>3</td>\n      <td>c</td>\n      <td>U</td>\n      <td>Pw</td>\n      <td>6.0</td>\n      <td>3.0</td>\n      <td>0</td>\n    </tr>\n    <tr>\n      <th>1</th>\n      <td>1</td>\n      <td>1.0</td>\n      <td>1.0</td>\n      <td>0.0</td>\n      <td>F</td>\n      <td>Y</td>\n      <td>Red</td>\n      <td>Star</td>\n      <td>Axolotl</td>\n      <td>NaN</td>\n      <td>...</td>\n      <td>f37df64af</td>\n      <td>3.0</td>\n      <td>Grandmaster</td>\n      <td>6</td>\n      <td>e</td>\n      <td>X</td>\n      <td>pE</td>\n      <td>7.0</td>\n      <td>7.0</td>\n      <td>0</td>\n    </tr>\n    <tr>\n      <th>2</th>\n      <td>2</td>\n      <td>0.0</td>\n      <td>1.0</td>\n      <td>0.0</td>\n      <td>F</td>\n      <td>N</td>\n      <td>Red</td>\n      <td>NaN</td>\n      <td>Hamster</td>\n      <td>Canada</td>\n      <td>...</td>\n      <td>NaN</td>\n      <td>3.0</td>\n      <td>NaN</td>\n      <td>2</td>\n      <td>n</td>\n      <td>P</td>\n      <td>eN</td>\n      <td>5.0</td>\n      <td>9.0</td>\n      <td>0</td>\n    </tr>\n    <tr>\n      <th>3</th>\n      <td>3</td>\n      <td>NaN</td>\n      <td>0.0</td>\n      <td>0.0</td>\n      <td>F</td>\n      <td>N</td>\n      <td>Red</td>\n      <td>Circle</td>\n      <td>Hamster</td>\n      <td>Finland</td>\n      <td>...</td>\n      <td>f9d456e57</td>\n      <td>1.0</td>\n      <td>Novice</td>\n      <td>4</td>\n      <td>a</td>\n      <td>C</td>\n      <td>NaN</td>\n      <td>3.0</td>\n      <td>3.0</td>\n      <td>0</td>\n    </tr>\n    <tr>\n      <th>4</th>\n      <td>4</td>\n      <td>0.0</td>\n      <td>NaN</td>\n      <td>0.0</td>\n      <td>T</td>\n      <td>N</td>\n      <td>Red</td>\n      <td>Triangle</td>\n      <td>Hamster</td>\n      <td>Costa Rica</td>\n      <td>...</td>\n      <td>c5361037c</td>\n      <td>3.0</td>\n      <td>Grandmaster</td>\n      <td>1</td>\n      <td>h</td>\n      <td>C</td>\n      <td>OZ</td>\n      <td>5.0</td>\n      <td>12.0</td>\n      <td>0</td>\n    </tr>\n  </tbody>\n</table>\n<p>5 rows × 25 columns</p>\n</div>"
     },
     "metadata": {},
     "execution_count": 13
    }
   ],
   "source": [
    "df.head()"
   ]
  },
  {
   "cell_type": "code",
   "execution_count": 14,
   "metadata": {},
   "outputs": [
    {
     "output_type": "stream",
     "name": "stdout",
     "text": [
      "72\n"
     ]
    }
   ],
   "source": [
    "example = np.array([[0,0,1],[1,0,0],[1,0,1]])\n",
    "print(example.nbytes)"
   ]
  },
  {
   "cell_type": "code",
   "execution_count": 15,
   "metadata": {},
   "outputs": [
    {
     "output_type": "stream",
     "name": "stdout",
     "text": [
      "  (0, 2)\t1\n  (1, 0)\t1\n  (2, 0)\t1\n  (2, 2)\t1\n"
     ]
    }
   ],
   "source": [
    "#To reduce number of bytes use sparse representation:\n",
    "from scipy import sparse\n",
    "sparse_example = sparse.csr_matrix(example)\n",
    "print(sparse_example)\n",
    "#save in form of dictionary the location of 1's -> reduce space : 4*8 = 32 bytes"
   ]
  },
  {
   "cell_type": "code",
   "execution_count": 16,
   "metadata": {},
   "outputs": [
    {
     "output_type": "stream",
     "name": "stdout",
     "text": [
      "<class 'scipy.sparse.csr.csr_matrix'>\n"
     ]
    }
   ],
   "source": [
    "print(type(sparse_example))"
   ]
  },
  {
   "cell_type": "code",
   "execution_count": 17,
   "metadata": {},
   "outputs": [
    {
     "output_type": "stream",
     "name": "stdout",
     "text": [
      "64\n"
     ]
    }
   ],
   "source": [
    "print(sparse_example.data.nbytes + sparse_example.indptr.nbytes+sparse_example.indices.nbytes)"
   ]
  },
  {
   "cell_type": "code",
   "execution_count": 18,
   "metadata": {},
   "outputs": [
    {
     "output_type": "stream",
     "name": "stdout",
     "text": [
      "Size of dense array: 800000000\n",
      "Size of sparse array: 39982744\n",
      "Full size of sparse array: 60014120\n"
     ]
    }
   ],
   "source": [
    "#comparing the amount of space using binarization\n",
    "n_rows = 10000\n",
    "n_cols = 10000\n",
    "example = np.random.binomial(1,p = 0.05, size = (n_rows, n_cols))\n",
    "print(f\"Size of dense array: {example.nbytes}\")\n",
    "sparse_example = sparse.csr_matrix(example)\n",
    "print(f\"Size of sparse array: {sparse_example.data.nbytes}\")\n",
    "fullsize = (sparse_example.data.nbytes + sparse_example.indptr.nbytes+sparse_example.indices.nbytes)\n",
    "print(f\"Full size of sparse array: {fullsize}\")"
   ]
  },
  {
   "cell_type": "code",
   "execution_count": 19,
   "metadata": {},
   "outputs": [],
   "source": [
    "# 800 MB = 0.8GB of memory vs 60 MB or 0.06GB of Memory\n",
    "# or x10 bigger data 8GB vs 0.6GB of Memory"
   ]
  },
  {
   "cell_type": "code",
   "execution_count": 20,
   "metadata": {},
   "outputs": [
    {
     "output_type": "stream",
     "name": "stdout",
     "text": [
      "Size of dense array: 144\nSize of sparse array: 24\nFull size of sparse array: 52\n"
     ]
    }
   ],
   "source": [
    "#Using one hot encondig: \n",
    "example = np.array([ [0,0,0,0,1,0],[0,1,0,0,0,0],[1,0,0,0,0,0] ])\n",
    "print(f\"Size of dense array: {example.nbytes}\")\n",
    "\n",
    "sparse_example = sparse.csr_matrix(example)\n",
    "print(f\"Size of sparse array: {sparse_example.data.nbytes}\")\n",
    "\n",
    "full_size = (\n",
    "sparse_example.data.nbytes +\n",
    "sparse_example.indptr.nbytes +\n",
    "sparse_example.indices.nbytes\n",
    ")\n",
    "print(f\"Full size of sparse array: {full_size}\")"
   ]
  },
  {
   "cell_type": "code",
   "execution_count": 21,
   "metadata": {},
   "outputs": [
    {
     "output_type": "stream",
     "name": "stdout",
     "text": [
      "Size of dense array: 8000000000\n"
     ]
    }
   ],
   "source": [
    "#trying 1 hot vector qoth 1001 categories example\n",
    "example = np.random.randint(1000, size = 1000000)\n",
    "#init onehotencoder, sparse False  to get dense array\n",
    "ohe = preprocessing.OneHotEncoder(sparse = False)\n",
    "\n",
    "#fit and transform data\n",
    "ohe_example = ohe.fit_transform(example.reshape(-1,1))\n",
    "print(f\"Size of dense array: {ohe_example.nbytes}\")"
   ]
  },
  {
   "cell_type": "code",
   "execution_count": 22,
   "metadata": {},
   "outputs": [
    {
     "output_type": "stream",
     "name": "stdout",
     "text": [
      "Size of sparse array: 8000000\nFull size of sparse array: 16000004\n"
     ]
    }
   ],
   "source": [
    "# keep sparse = True to get sparse array\n",
    "ohe = preprocessing.OneHotEncoder(sparse=True)\n",
    "ohe_example = ohe.fit_transform(example.reshape(-1, 1))\n",
    "print(f\"Size of sparse array: {ohe_example.data.nbytes}\")\n",
    "full_size = (\n",
    "ohe_example.data.nbytes +\n",
    "ohe_example.indptr.nbytes + ohe_example.indices.nbytes\n",
    ")\n",
    "print(f\"Full size of sparse array: {full_size}\")"
   ]
  },
  {
   "cell_type": "code",
   "execution_count": 23,
   "metadata": {},
   "outputs": [],
   "source": [
    "# 8GB vs 8MB or 16 MB )"
   ]
  },
  {
   "cell_type": "code",
   "execution_count": 24,
   "metadata": {},
   "outputs": [
    {
     "output_type": "execute_result",
     "data": {
      "text/plain": [
       "(84790, 25)"
      ]
     },
     "metadata": {},
     "execution_count": 24
    }
   ],
   "source": [
    "df = pd.read_csv(\"../input/train.csv\")\n",
    "df[df.ord_2 == \"Boiling Hot\"].shape"
   ]
  },
  {
   "cell_type": "code",
   "execution_count": 25,
   "metadata": {},
   "outputs": [
    {
     "output_type": "execute_result",
     "data": {
      "text/plain": [
       "ord_2\n",
       "Boiling Hot     84790\n",
       "Cold            97822\n",
       "Freezing       142726\n",
       "Hot             67508\n",
       "Lava Hot        64840\n",
       "Warm           124239\n",
       "Name: id, dtype: int64"
      ]
     },
     "metadata": {},
     "execution_count": 25
    }
   ],
   "source": [
    "df.groupby([\"ord_2\"])[\"id\"].count()"
   ]
  },
  {
   "cell_type": "code",
   "execution_count": 26,
   "metadata": {},
   "outputs": [
    {
     "output_type": "execute_result",
     "data": {
      "text/plain": [
       "Text(0, 0.5, 'count')"
      ]
     },
     "metadata": {},
     "execution_count": 26
    },
    {
     "output_type": "display_data",
     "data": {
      "text/plain": "<Figure size 432x288 with 1 Axes>",
      "image/svg+xml": "<?xml version=\"1.0\" encoding=\"utf-8\" standalone=\"no\"?>\n<!DOCTYPE svg PUBLIC \"-//W3C//DTD SVG 1.1//EN\"\n  \"http://www.w3.org/Graphics/SVG/1.1/DTD/svg11.dtd\">\n<!-- Created with matplotlib (https://matplotlib.org/) -->\n<svg height=\"271.874375pt\" version=\"1.1\" viewBox=\"0 0 417.73125 271.874375\" width=\"417.73125pt\" xmlns=\"http://www.w3.org/2000/svg\" xmlns:xlink=\"http://www.w3.org/1999/xlink\">\n <defs>\n  <style type=\"text/css\">\n*{stroke-linecap:butt;stroke-linejoin:round;}\n  </style>\n </defs>\n <g id=\"figure_1\">\n  <g id=\"patch_1\">\n   <path d=\"M 0 271.874375 \nL 417.73125 271.874375 \nL 417.73125 0 \nL 0 0 \nz\n\" style=\"fill:none;\"/>\n  </g>\n  <g id=\"axes_1\">\n   <g id=\"patch_2\">\n    <path d=\"M 75.73125 224.64 \nL 410.53125 224.64 \nL 410.53125 7.2 \nL 75.73125 7.2 \nz\n\" style=\"fill:#ffffff;\"/>\n   </g>\n   <g id=\"patch_3\">\n    <path clip-path=\"url(#pe38468f2c7)\" d=\"M 81.31125 224.64 \nL 125.95125 224.64 \nL 125.95125 126.690486 \nL 81.31125 126.690486 \nz\n\" style=\"fill:#3274a1;\"/>\n   </g>\n   <g id=\"patch_4\">\n    <path clip-path=\"url(#pe38468f2c7)\" d=\"M 137.11125 224.64 \nL 181.75125 224.64 \nL 181.75125 44.377665 \nL 137.11125 44.377665 \nz\n\" style=\"fill:#e1812c;\"/>\n   </g>\n   <g id=\"patch_5\">\n    <path clip-path=\"url(#pe38468f2c7)\" d=\"M 192.91125 224.64 \nL 237.55125 224.64 \nL 237.55125 17.554286 \nL 192.91125 17.554286 \nz\n\" style=\"fill:#3a923a;\"/>\n   </g>\n   <g id=\"patch_6\">\n    <path clip-path=\"url(#pe38468f2c7)\" d=\"M 248.71125 224.64 \nL 293.35125 224.64 \nL 293.35125 130.561572 \nL 248.71125 130.561572 \nz\n\" style=\"fill:#c03d3e;\"/>\n   </g>\n   <g id=\"patch_7\">\n    <path clip-path=\"url(#pe38468f2c7)\" d=\"M 304.51125 224.64 \nL 349.15125 224.64 \nL 349.15125 82.706934 \nL 304.51125 82.706934 \nz\n\" style=\"fill:#9372b2;\"/>\n   </g>\n   <g id=\"patch_8\">\n    <path clip-path=\"url(#pe38468f2c7)\" d=\"M 360.31125 224.64 \nL 404.95125 224.64 \nL 404.95125 101.615479 \nL 360.31125 101.615479 \nz\n\" style=\"fill:#845b53;\"/>\n   </g>\n   <g id=\"matplotlib.axis_1\">\n    <g id=\"xtick_1\">\n     <g id=\"line2d_1\">\n      <defs>\n       <path d=\"M 0 0 \nL 0 3.5 \n\" id=\"maedec0f832\" style=\"stroke:#000000;stroke-width:0.8;\"/>\n      </defs>\n      <g>\n       <use style=\"stroke:#000000;stroke-width:0.8;\" x=\"103.63125\" xlink:href=\"#maedec0f832\" y=\"224.64\"/>\n      </g>\n     </g>\n     <g id=\"text_1\">\n      <!-- Hot -->\n      <defs>\n       <path d=\"M 9.8125 72.90625 \nL 19.671875 72.90625 \nL 19.671875 43.015625 \nL 55.515625 43.015625 \nL 55.515625 72.90625 \nL 65.375 72.90625 \nL 65.375 0 \nL 55.515625 0 \nL 55.515625 34.71875 \nL 19.671875 34.71875 \nL 19.671875 0 \nL 9.8125 0 \nz\n\" id=\"DejaVuSans-72\"/>\n       <path d=\"M 30.609375 48.390625 \nQ 23.390625 48.390625 19.1875 42.75 \nQ 14.984375 37.109375 14.984375 27.296875 \nQ 14.984375 17.484375 19.15625 11.84375 \nQ 23.34375 6.203125 30.609375 6.203125 \nQ 37.796875 6.203125 41.984375 11.859375 \nQ 46.1875 17.53125 46.1875 27.296875 \nQ 46.1875 37.015625 41.984375 42.703125 \nQ 37.796875 48.390625 30.609375 48.390625 \nz\nM 30.609375 56 \nQ 42.328125 56 49.015625 48.375 \nQ 55.71875 40.765625 55.71875 27.296875 \nQ 55.71875 13.875 49.015625 6.21875 \nQ 42.328125 -1.421875 30.609375 -1.421875 \nQ 18.84375 -1.421875 12.171875 6.21875 \nQ 5.515625 13.875 5.515625 27.296875 \nQ 5.515625 40.765625 12.171875 48.375 \nQ 18.84375 56 30.609375 56 \nz\n\" id=\"DejaVuSans-111\"/>\n       <path d=\"M 18.3125 70.21875 \nL 18.3125 54.6875 \nL 36.8125 54.6875 \nL 36.8125 47.703125 \nL 18.3125 47.703125 \nL 18.3125 18.015625 \nQ 18.3125 11.328125 20.140625 9.421875 \nQ 21.96875 7.515625 27.59375 7.515625 \nL 36.8125 7.515625 \nL 36.8125 0 \nL 27.59375 0 \nQ 17.1875 0 13.234375 3.875 \nQ 9.28125 7.765625 9.28125 18.015625 \nL 9.28125 47.703125 \nL 2.6875 47.703125 \nL 2.6875 54.6875 \nL 9.28125 54.6875 \nL 9.28125 70.21875 \nz\n\" id=\"DejaVuSans-116\"/>\n      </defs>\n      <g transform=\"translate(94.851562 239.238437)scale(0.1 -0.1)\">\n       <use xlink:href=\"#DejaVuSans-72\"/>\n       <use x=\"75.195312\" xlink:href=\"#DejaVuSans-111\"/>\n       <use x=\"136.376953\" xlink:href=\"#DejaVuSans-116\"/>\n      </g>\n     </g>\n    </g>\n    <g id=\"xtick_2\">\n     <g id=\"line2d_2\">\n      <g>\n       <use style=\"stroke:#000000;stroke-width:0.8;\" x=\"159.43125\" xlink:href=\"#maedec0f832\" y=\"224.64\"/>\n      </g>\n     </g>\n     <g id=\"text_2\">\n      <!-- Warm -->\n      <defs>\n       <path d=\"M 3.328125 72.90625 \nL 13.28125 72.90625 \nL 28.609375 11.28125 \nL 43.890625 72.90625 \nL 54.984375 72.90625 \nL 70.3125 11.28125 \nL 85.59375 72.90625 \nL 95.609375 72.90625 \nL 77.296875 0 \nL 64.890625 0 \nL 49.515625 63.28125 \nL 33.984375 0 \nL 21.578125 0 \nz\n\" id=\"DejaVuSans-87\"/>\n       <path d=\"M 34.28125 27.484375 \nQ 23.390625 27.484375 19.1875 25 \nQ 14.984375 22.515625 14.984375 16.5 \nQ 14.984375 11.71875 18.140625 8.90625 \nQ 21.296875 6.109375 26.703125 6.109375 \nQ 34.1875 6.109375 38.703125 11.40625 \nQ 43.21875 16.703125 43.21875 25.484375 \nL 43.21875 27.484375 \nz\nM 52.203125 31.203125 \nL 52.203125 0 \nL 43.21875 0 \nL 43.21875 8.296875 \nQ 40.140625 3.328125 35.546875 0.953125 \nQ 30.953125 -1.421875 24.3125 -1.421875 \nQ 15.921875 -1.421875 10.953125 3.296875 \nQ 6 8.015625 6 15.921875 \nQ 6 25.140625 12.171875 29.828125 \nQ 18.359375 34.515625 30.609375 34.515625 \nL 43.21875 34.515625 \nL 43.21875 35.40625 \nQ 43.21875 41.609375 39.140625 45 \nQ 35.0625 48.390625 27.6875 48.390625 \nQ 23 48.390625 18.546875 47.265625 \nQ 14.109375 46.140625 10.015625 43.890625 \nL 10.015625 52.203125 \nQ 14.9375 54.109375 19.578125 55.046875 \nQ 24.21875 56 28.609375 56 \nQ 40.484375 56 46.34375 49.84375 \nQ 52.203125 43.703125 52.203125 31.203125 \nz\n\" id=\"DejaVuSans-97\"/>\n       <path d=\"M 41.109375 46.296875 \nQ 39.59375 47.171875 37.8125 47.578125 \nQ 36.03125 48 33.890625 48 \nQ 26.265625 48 22.1875 43.046875 \nQ 18.109375 38.09375 18.109375 28.8125 \nL 18.109375 0 \nL 9.078125 0 \nL 9.078125 54.6875 \nL 18.109375 54.6875 \nL 18.109375 46.1875 \nQ 20.953125 51.171875 25.484375 53.578125 \nQ 30.03125 56 36.53125 56 \nQ 37.453125 56 38.578125 55.875 \nQ 39.703125 55.765625 41.0625 55.515625 \nz\n\" id=\"DejaVuSans-114\"/>\n       <path d=\"M 52 44.1875 \nQ 55.375 50.25 60.0625 53.125 \nQ 64.75 56 71.09375 56 \nQ 79.640625 56 84.28125 50.015625 \nQ 88.921875 44.046875 88.921875 33.015625 \nL 88.921875 0 \nL 79.890625 0 \nL 79.890625 32.71875 \nQ 79.890625 40.578125 77.09375 44.375 \nQ 74.3125 48.1875 68.609375 48.1875 \nQ 61.625 48.1875 57.5625 43.546875 \nQ 53.515625 38.921875 53.515625 30.90625 \nL 53.515625 0 \nL 44.484375 0 \nL 44.484375 32.71875 \nQ 44.484375 40.625 41.703125 44.40625 \nQ 38.921875 48.1875 33.109375 48.1875 \nQ 26.21875 48.1875 22.15625 43.53125 \nQ 18.109375 38.875 18.109375 30.90625 \nL 18.109375 0 \nL 9.078125 0 \nL 9.078125 54.6875 \nL 18.109375 54.6875 \nL 18.109375 46.1875 \nQ 21.1875 51.21875 25.484375 53.609375 \nQ 29.78125 56 35.6875 56 \nQ 41.65625 56 45.828125 52.96875 \nQ 50 49.953125 52 44.1875 \nz\n\" id=\"DejaVuSans-109\"/>\n      </defs>\n      <g transform=\"translate(144.503125 239.238437)scale(0.1 -0.1)\">\n       <use xlink:href=\"#DejaVuSans-87\"/>\n       <use x=\"98.783203\" xlink:href=\"#DejaVuSans-97\"/>\n       <use x=\"160.0625\" xlink:href=\"#DejaVuSans-114\"/>\n       <use x=\"201.160156\" xlink:href=\"#DejaVuSans-109\"/>\n      </g>\n     </g>\n    </g>\n    <g id=\"xtick_3\">\n     <g id=\"line2d_3\">\n      <g>\n       <use style=\"stroke:#000000;stroke-width:0.8;\" x=\"215.23125\" xlink:href=\"#maedec0f832\" y=\"224.64\"/>\n      </g>\n     </g>\n     <g id=\"text_3\">\n      <!-- Freezing -->\n      <defs>\n       <path d=\"M 9.8125 72.90625 \nL 51.703125 72.90625 \nL 51.703125 64.59375 \nL 19.671875 64.59375 \nL 19.671875 43.109375 \nL 48.578125 43.109375 \nL 48.578125 34.8125 \nL 19.671875 34.8125 \nL 19.671875 0 \nL 9.8125 0 \nz\n\" id=\"DejaVuSans-70\"/>\n       <path d=\"M 56.203125 29.59375 \nL 56.203125 25.203125 \nL 14.890625 25.203125 \nQ 15.484375 15.921875 20.484375 11.0625 \nQ 25.484375 6.203125 34.421875 6.203125 \nQ 39.59375 6.203125 44.453125 7.46875 \nQ 49.3125 8.734375 54.109375 11.28125 \nL 54.109375 2.78125 \nQ 49.265625 0.734375 44.1875 -0.34375 \nQ 39.109375 -1.421875 33.890625 -1.421875 \nQ 20.796875 -1.421875 13.15625 6.1875 \nQ 5.515625 13.8125 5.515625 26.8125 \nQ 5.515625 40.234375 12.765625 48.109375 \nQ 20.015625 56 32.328125 56 \nQ 43.359375 56 49.78125 48.890625 \nQ 56.203125 41.796875 56.203125 29.59375 \nz\nM 47.21875 32.234375 \nQ 47.125 39.59375 43.09375 43.984375 \nQ 39.0625 48.390625 32.421875 48.390625 \nQ 24.90625 48.390625 20.390625 44.140625 \nQ 15.875 39.890625 15.1875 32.171875 \nz\n\" id=\"DejaVuSans-101\"/>\n       <path d=\"M 5.515625 54.6875 \nL 48.1875 54.6875 \nL 48.1875 46.484375 \nL 14.40625 7.171875 \nL 48.1875 7.171875 \nL 48.1875 0 \nL 4.296875 0 \nL 4.296875 8.203125 \nL 38.09375 47.515625 \nL 5.515625 47.515625 \nz\n\" id=\"DejaVuSans-122\"/>\n       <path d=\"M 9.421875 54.6875 \nL 18.40625 54.6875 \nL 18.40625 0 \nL 9.421875 0 \nz\nM 9.421875 75.984375 \nL 18.40625 75.984375 \nL 18.40625 64.59375 \nL 9.421875 64.59375 \nz\n\" id=\"DejaVuSans-105\"/>\n       <path d=\"M 54.890625 33.015625 \nL 54.890625 0 \nL 45.90625 0 \nL 45.90625 32.71875 \nQ 45.90625 40.484375 42.875 44.328125 \nQ 39.84375 48.1875 33.796875 48.1875 \nQ 26.515625 48.1875 22.3125 43.546875 \nQ 18.109375 38.921875 18.109375 30.90625 \nL 18.109375 0 \nL 9.078125 0 \nL 9.078125 54.6875 \nL 18.109375 54.6875 \nL 18.109375 46.1875 \nQ 21.34375 51.125 25.703125 53.5625 \nQ 30.078125 56 35.796875 56 \nQ 45.21875 56 50.046875 50.171875 \nQ 54.890625 44.34375 54.890625 33.015625 \nz\n\" id=\"DejaVuSans-110\"/>\n       <path d=\"M 45.40625 27.984375 \nQ 45.40625 37.75 41.375 43.109375 \nQ 37.359375 48.484375 30.078125 48.484375 \nQ 22.859375 48.484375 18.828125 43.109375 \nQ 14.796875 37.75 14.796875 27.984375 \nQ 14.796875 18.265625 18.828125 12.890625 \nQ 22.859375 7.515625 30.078125 7.515625 \nQ 37.359375 7.515625 41.375 12.890625 \nQ 45.40625 18.265625 45.40625 27.984375 \nz\nM 54.390625 6.78125 \nQ 54.390625 -7.171875 48.1875 -13.984375 \nQ 42 -20.796875 29.203125 -20.796875 \nQ 24.46875 -20.796875 20.265625 -20.09375 \nQ 16.0625 -19.390625 12.109375 -17.921875 \nL 12.109375 -9.1875 \nQ 16.0625 -11.328125 19.921875 -12.34375 \nQ 23.78125 -13.375 27.78125 -13.375 \nQ 36.625 -13.375 41.015625 -8.765625 \nQ 45.40625 -4.15625 45.40625 5.171875 \nL 45.40625 9.625 \nQ 42.625 4.78125 38.28125 2.390625 \nQ 33.9375 0 27.875 0 \nQ 17.828125 0 11.671875 7.65625 \nQ 5.515625 15.328125 5.515625 27.984375 \nQ 5.515625 40.671875 11.671875 48.328125 \nQ 17.828125 56 27.875 56 \nQ 33.9375 56 38.28125 53.609375 \nQ 42.625 51.21875 45.40625 46.390625 \nL 45.40625 54.6875 \nL 54.390625 54.6875 \nz\n\" id=\"DejaVuSans-103\"/>\n      </defs>\n      <g transform=\"translate(193.797656 239.238437)scale(0.1 -0.1)\">\n       <use xlink:href=\"#DejaVuSans-70\"/>\n       <use x=\"57.410156\" xlink:href=\"#DejaVuSans-114\"/>\n       <use x=\"98.492188\" xlink:href=\"#DejaVuSans-101\"/>\n       <use x=\"160.015625\" xlink:href=\"#DejaVuSans-101\"/>\n       <use x=\"221.539062\" xlink:href=\"#DejaVuSans-122\"/>\n       <use x=\"274.029297\" xlink:href=\"#DejaVuSans-105\"/>\n       <use x=\"301.8125\" xlink:href=\"#DejaVuSans-110\"/>\n       <use x=\"365.191406\" xlink:href=\"#DejaVuSans-103\"/>\n      </g>\n     </g>\n    </g>\n    <g id=\"xtick_4\">\n     <g id=\"line2d_4\">\n      <g>\n       <use style=\"stroke:#000000;stroke-width:0.8;\" x=\"271.03125\" xlink:href=\"#maedec0f832\" y=\"224.64\"/>\n      </g>\n     </g>\n     <g id=\"text_4\">\n      <!-- Lava Hot -->\n      <defs>\n       <path d=\"M 9.8125 72.90625 \nL 19.671875 72.90625 \nL 19.671875 8.296875 \nL 55.171875 8.296875 \nL 55.171875 0 \nL 9.8125 0 \nz\n\" id=\"DejaVuSans-76\"/>\n       <path d=\"M 2.984375 54.6875 \nL 12.5 54.6875 \nL 29.59375 8.796875 \nL 46.6875 54.6875 \nL 56.203125 54.6875 \nL 35.6875 0 \nL 23.484375 0 \nz\n\" id=\"DejaVuSans-118\"/>\n       <path id=\"DejaVuSans-32\"/>\n      </defs>\n      <g transform=\"translate(248.789062 239.238437)scale(0.1 -0.1)\">\n       <use xlink:href=\"#DejaVuSans-76\"/>\n       <use x=\"55.712891\" xlink:href=\"#DejaVuSans-97\"/>\n       <use x=\"116.992188\" xlink:href=\"#DejaVuSans-118\"/>\n       <use x=\"176.171875\" xlink:href=\"#DejaVuSans-97\"/>\n       <use x=\"237.451172\" xlink:href=\"#DejaVuSans-32\"/>\n       <use x=\"269.238281\" xlink:href=\"#DejaVuSans-72\"/>\n       <use x=\"344.433594\" xlink:href=\"#DejaVuSans-111\"/>\n       <use x=\"405.615234\" xlink:href=\"#DejaVuSans-116\"/>\n      </g>\n     </g>\n    </g>\n    <g id=\"xtick_5\">\n     <g id=\"line2d_5\">\n      <g>\n       <use style=\"stroke:#000000;stroke-width:0.8;\" x=\"326.83125\" xlink:href=\"#maedec0f832\" y=\"224.64\"/>\n      </g>\n     </g>\n     <g id=\"text_5\">\n      <!-- Cold -->\n      <defs>\n       <path d=\"M 64.40625 67.28125 \nL 64.40625 56.890625 \nQ 59.421875 61.53125 53.78125 63.8125 \nQ 48.140625 66.109375 41.796875 66.109375 \nQ 29.296875 66.109375 22.65625 58.46875 \nQ 16.015625 50.828125 16.015625 36.375 \nQ 16.015625 21.96875 22.65625 14.328125 \nQ 29.296875 6.6875 41.796875 6.6875 \nQ 48.140625 6.6875 53.78125 8.984375 \nQ 59.421875 11.28125 64.40625 15.921875 \nL 64.40625 5.609375 \nQ 59.234375 2.09375 53.4375 0.328125 \nQ 47.65625 -1.421875 41.21875 -1.421875 \nQ 24.65625 -1.421875 15.125 8.703125 \nQ 5.609375 18.84375 5.609375 36.375 \nQ 5.609375 53.953125 15.125 64.078125 \nQ 24.65625 74.21875 41.21875 74.21875 \nQ 47.75 74.21875 53.53125 72.484375 \nQ 59.328125 70.75 64.40625 67.28125 \nz\n\" id=\"DejaVuSans-67\"/>\n       <path d=\"M 9.421875 75.984375 \nL 18.40625 75.984375 \nL 18.40625 0 \nL 9.421875 0 \nz\n\" id=\"DejaVuSans-108\"/>\n       <path d=\"M 45.40625 46.390625 \nL 45.40625 75.984375 \nL 54.390625 75.984375 \nL 54.390625 0 \nL 45.40625 0 \nL 45.40625 8.203125 \nQ 42.578125 3.328125 38.25 0.953125 \nQ 33.9375 -1.421875 27.875 -1.421875 \nQ 17.96875 -1.421875 11.734375 6.484375 \nQ 5.515625 14.40625 5.515625 27.296875 \nQ 5.515625 40.1875 11.734375 48.09375 \nQ 17.96875 56 27.875 56 \nQ 33.9375 56 38.25 53.625 \nQ 42.578125 51.265625 45.40625 46.390625 \nz\nM 14.796875 27.296875 \nQ 14.796875 17.390625 18.875 11.75 \nQ 22.953125 6.109375 30.078125 6.109375 \nQ 37.203125 6.109375 41.296875 11.75 \nQ 45.40625 17.390625 45.40625 27.296875 \nQ 45.40625 37.203125 41.296875 42.84375 \nQ 37.203125 48.484375 30.078125 48.484375 \nQ 22.953125 48.484375 18.875 42.84375 \nQ 14.796875 37.203125 14.796875 27.296875 \nz\n\" id=\"DejaVuSans-100\"/>\n      </defs>\n      <g transform=\"translate(315.717187 239.238437)scale(0.1 -0.1)\">\n       <use xlink:href=\"#DejaVuSans-67\"/>\n       <use x=\"69.824219\" xlink:href=\"#DejaVuSans-111\"/>\n       <use x=\"131.005859\" xlink:href=\"#DejaVuSans-108\"/>\n       <use x=\"158.789062\" xlink:href=\"#DejaVuSans-100\"/>\n      </g>\n     </g>\n    </g>\n    <g id=\"xtick_6\">\n     <g id=\"line2d_6\">\n      <g>\n       <use style=\"stroke:#000000;stroke-width:0.8;\" x=\"382.63125\" xlink:href=\"#maedec0f832\" y=\"224.64\"/>\n      </g>\n     </g>\n     <g id=\"text_6\">\n      <!-- Boiling Hot -->\n      <defs>\n       <path d=\"M 19.671875 34.8125 \nL 19.671875 8.109375 \nL 35.5 8.109375 \nQ 43.453125 8.109375 47.28125 11.40625 \nQ 51.125 14.703125 51.125 21.484375 \nQ 51.125 28.328125 47.28125 31.5625 \nQ 43.453125 34.8125 35.5 34.8125 \nz\nM 19.671875 64.796875 \nL 19.671875 42.828125 \nL 34.28125 42.828125 \nQ 41.5 42.828125 45.03125 45.53125 \nQ 48.578125 48.25 48.578125 53.8125 \nQ 48.578125 59.328125 45.03125 62.0625 \nQ 41.5 64.796875 34.28125 64.796875 \nz\nM 9.8125 72.90625 \nL 35.015625 72.90625 \nQ 46.296875 72.90625 52.390625 68.21875 \nQ 58.5 63.53125 58.5 54.890625 \nQ 58.5 48.1875 55.375 44.234375 \nQ 52.25 40.28125 46.1875 39.3125 \nQ 53.46875 37.75 57.5 32.78125 \nQ 61.53125 27.828125 61.53125 20.40625 \nQ 61.53125 10.640625 54.890625 5.3125 \nQ 48.25 0 35.984375 0 \nL 9.8125 0 \nz\n\" id=\"DejaVuSans-66\"/>\n      </defs>\n      <g transform=\"translate(355.2625 239.238437)scale(0.1 -0.1)\">\n       <use xlink:href=\"#DejaVuSans-66\"/>\n       <use x=\"68.603516\" xlink:href=\"#DejaVuSans-111\"/>\n       <use x=\"129.785156\" xlink:href=\"#DejaVuSans-105\"/>\n       <use x=\"157.568359\" xlink:href=\"#DejaVuSans-108\"/>\n       <use x=\"185.351562\" xlink:href=\"#DejaVuSans-105\"/>\n       <use x=\"213.134766\" xlink:href=\"#DejaVuSans-110\"/>\n       <use x=\"276.513672\" xlink:href=\"#DejaVuSans-103\"/>\n       <use x=\"339.990234\" xlink:href=\"#DejaVuSans-32\"/>\n       <use x=\"371.777344\" xlink:href=\"#DejaVuSans-72\"/>\n       <use x=\"446.972656\" xlink:href=\"#DejaVuSans-111\"/>\n       <use x=\"508.154297\" xlink:href=\"#DejaVuSans-116\"/>\n      </g>\n     </g>\n    </g>\n    <g id=\"text_7\">\n     <!-- label -->\n     <defs>\n      <path d=\"M 48.6875 27.296875 \nQ 48.6875 37.203125 44.609375 42.84375 \nQ 40.53125 48.484375 33.40625 48.484375 \nQ 26.265625 48.484375 22.1875 42.84375 \nQ 18.109375 37.203125 18.109375 27.296875 \nQ 18.109375 17.390625 22.1875 11.75 \nQ 26.265625 6.109375 33.40625 6.109375 \nQ 40.53125 6.109375 44.609375 11.75 \nQ 48.6875 17.390625 48.6875 27.296875 \nz\nM 18.109375 46.390625 \nQ 20.953125 51.265625 25.265625 53.625 \nQ 29.59375 56 35.59375 56 \nQ 45.5625 56 51.78125 48.09375 \nQ 58.015625 40.1875 58.015625 27.296875 \nQ 58.015625 14.40625 51.78125 6.484375 \nQ 45.5625 -1.421875 35.59375 -1.421875 \nQ 29.59375 -1.421875 25.265625 0.953125 \nQ 20.953125 3.328125 18.109375 8.203125 \nL 18.109375 0 \nL 9.078125 0 \nL 9.078125 75.984375 \nL 18.109375 75.984375 \nz\n\" id=\"DejaVuSans-98\"/>\n     </defs>\n     <g transform=\"translate(218.945313 260.515)scale(0.2 -0.2)\">\n      <use xlink:href=\"#DejaVuSans-108\"/>\n      <use x=\"27.783203\" xlink:href=\"#DejaVuSans-97\"/>\n      <use x=\"89.0625\" xlink:href=\"#DejaVuSans-98\"/>\n      <use x=\"152.539062\" xlink:href=\"#DejaVuSans-101\"/>\n      <use x=\"214.0625\" xlink:href=\"#DejaVuSans-108\"/>\n     </g>\n    </g>\n   </g>\n   <g id=\"matplotlib.axis_2\">\n    <g id=\"ytick_1\">\n     <g id=\"line2d_7\">\n      <defs>\n       <path d=\"M 0 0 \nL -3.5 0 \n\" id=\"m4aa5445f69\" style=\"stroke:#000000;stroke-width:0.8;\"/>\n      </defs>\n      <g>\n       <use style=\"stroke:#000000;stroke-width:0.8;\" x=\"75.73125\" xlink:href=\"#m4aa5445f69\" y=\"224.64\"/>\n      </g>\n     </g>\n     <g id=\"text_8\">\n      <!-- 0 -->\n      <defs>\n       <path d=\"M 31.78125 66.40625 \nQ 24.171875 66.40625 20.328125 58.90625 \nQ 16.5 51.421875 16.5 36.375 \nQ 16.5 21.390625 20.328125 13.890625 \nQ 24.171875 6.390625 31.78125 6.390625 \nQ 39.453125 6.390625 43.28125 13.890625 \nQ 47.125 21.390625 47.125 36.375 \nQ 47.125 51.421875 43.28125 58.90625 \nQ 39.453125 66.40625 31.78125 66.40625 \nz\nM 31.78125 74.21875 \nQ 44.046875 74.21875 50.515625 64.515625 \nQ 56.984375 54.828125 56.984375 36.375 \nQ 56.984375 17.96875 50.515625 8.265625 \nQ 44.046875 -1.421875 31.78125 -1.421875 \nQ 19.53125 -1.421875 13.0625 8.265625 \nQ 6.59375 17.96875 6.59375 36.375 \nQ 6.59375 54.828125 13.0625 64.515625 \nQ 19.53125 74.21875 31.78125 74.21875 \nz\n\" id=\"DejaVuSans-48\"/>\n      </defs>\n      <g transform=\"translate(62.36875 228.439219)scale(0.1 -0.1)\">\n       <use xlink:href=\"#DejaVuSans-48\"/>\n      </g>\n     </g>\n    </g>\n    <g id=\"ytick_2\">\n     <g id=\"line2d_8\">\n      <g>\n       <use style=\"stroke:#000000;stroke-width:0.8;\" x=\"75.73125\" xlink:href=\"#m4aa5445f69\" y=\"195.621361\"/>\n      </g>\n     </g>\n     <g id=\"text_9\">\n      <!-- 20000 -->\n      <defs>\n       <path d=\"M 19.1875 8.296875 \nL 53.609375 8.296875 \nL 53.609375 0 \nL 7.328125 0 \nL 7.328125 8.296875 \nQ 12.9375 14.109375 22.625 23.890625 \nQ 32.328125 33.6875 34.8125 36.53125 \nQ 39.546875 41.84375 41.421875 45.53125 \nQ 43.3125 49.21875 43.3125 52.78125 \nQ 43.3125 58.59375 39.234375 62.25 \nQ 35.15625 65.921875 28.609375 65.921875 \nQ 23.96875 65.921875 18.8125 64.3125 \nQ 13.671875 62.703125 7.8125 59.421875 \nL 7.8125 69.390625 \nQ 13.765625 71.78125 18.9375 73 \nQ 24.125 74.21875 28.421875 74.21875 \nQ 39.75 74.21875 46.484375 68.546875 \nQ 53.21875 62.890625 53.21875 53.421875 \nQ 53.21875 48.921875 51.53125 44.890625 \nQ 49.859375 40.875 45.40625 35.40625 \nQ 44.1875 33.984375 37.640625 27.21875 \nQ 31.109375 20.453125 19.1875 8.296875 \nz\n\" id=\"DejaVuSans-50\"/>\n      </defs>\n      <g transform=\"translate(36.91875 199.42058)scale(0.1 -0.1)\">\n       <use xlink:href=\"#DejaVuSans-50\"/>\n       <use x=\"63.623047\" xlink:href=\"#DejaVuSans-48\"/>\n       <use x=\"127.246094\" xlink:href=\"#DejaVuSans-48\"/>\n       <use x=\"190.869141\" xlink:href=\"#DejaVuSans-48\"/>\n       <use x=\"254.492188\" xlink:href=\"#DejaVuSans-48\"/>\n      </g>\n     </g>\n    </g>\n    <g id=\"ytick_3\">\n     <g id=\"line2d_9\">\n      <g>\n       <use style=\"stroke:#000000;stroke-width:0.8;\" x=\"75.73125\" xlink:href=\"#m4aa5445f69\" y=\"166.602722\"/>\n      </g>\n     </g>\n     <g id=\"text_10\">\n      <!-- 40000 -->\n      <defs>\n       <path d=\"M 37.796875 64.3125 \nL 12.890625 25.390625 \nL 37.796875 25.390625 \nz\nM 35.203125 72.90625 \nL 47.609375 72.90625 \nL 47.609375 25.390625 \nL 58.015625 25.390625 \nL 58.015625 17.1875 \nL 47.609375 17.1875 \nL 47.609375 0 \nL 37.796875 0 \nL 37.796875 17.1875 \nL 4.890625 17.1875 \nL 4.890625 26.703125 \nz\n\" id=\"DejaVuSans-52\"/>\n      </defs>\n      <g transform=\"translate(36.91875 170.401941)scale(0.1 -0.1)\">\n       <use xlink:href=\"#DejaVuSans-52\"/>\n       <use x=\"63.623047\" xlink:href=\"#DejaVuSans-48\"/>\n       <use x=\"127.246094\" xlink:href=\"#DejaVuSans-48\"/>\n       <use x=\"190.869141\" xlink:href=\"#DejaVuSans-48\"/>\n       <use x=\"254.492188\" xlink:href=\"#DejaVuSans-48\"/>\n      </g>\n     </g>\n    </g>\n    <g id=\"ytick_4\">\n     <g id=\"line2d_10\">\n      <g>\n       <use style=\"stroke:#000000;stroke-width:0.8;\" x=\"75.73125\" xlink:href=\"#m4aa5445f69\" y=\"137.584083\"/>\n      </g>\n     </g>\n     <g id=\"text_11\">\n      <!-- 60000 -->\n      <defs>\n       <path d=\"M 33.015625 40.375 \nQ 26.375 40.375 22.484375 35.828125 \nQ 18.609375 31.296875 18.609375 23.390625 \nQ 18.609375 15.53125 22.484375 10.953125 \nQ 26.375 6.390625 33.015625 6.390625 \nQ 39.65625 6.390625 43.53125 10.953125 \nQ 47.40625 15.53125 47.40625 23.390625 \nQ 47.40625 31.296875 43.53125 35.828125 \nQ 39.65625 40.375 33.015625 40.375 \nz\nM 52.59375 71.296875 \nL 52.59375 62.3125 \nQ 48.875 64.0625 45.09375 64.984375 \nQ 41.3125 65.921875 37.59375 65.921875 \nQ 27.828125 65.921875 22.671875 59.328125 \nQ 17.53125 52.734375 16.796875 39.40625 \nQ 19.671875 43.65625 24.015625 45.921875 \nQ 28.375 48.1875 33.59375 48.1875 \nQ 44.578125 48.1875 50.953125 41.515625 \nQ 57.328125 34.859375 57.328125 23.390625 \nQ 57.328125 12.15625 50.6875 5.359375 \nQ 44.046875 -1.421875 33.015625 -1.421875 \nQ 20.359375 -1.421875 13.671875 8.265625 \nQ 6.984375 17.96875 6.984375 36.375 \nQ 6.984375 53.65625 15.1875 63.9375 \nQ 23.390625 74.21875 37.203125 74.21875 \nQ 40.921875 74.21875 44.703125 73.484375 \nQ 48.484375 72.75 52.59375 71.296875 \nz\n\" id=\"DejaVuSans-54\"/>\n      </defs>\n      <g transform=\"translate(36.91875 141.383301)scale(0.1 -0.1)\">\n       <use xlink:href=\"#DejaVuSans-54\"/>\n       <use x=\"63.623047\" xlink:href=\"#DejaVuSans-48\"/>\n       <use x=\"127.246094\" xlink:href=\"#DejaVuSans-48\"/>\n       <use x=\"190.869141\" xlink:href=\"#DejaVuSans-48\"/>\n       <use x=\"254.492188\" xlink:href=\"#DejaVuSans-48\"/>\n      </g>\n     </g>\n    </g>\n    <g id=\"ytick_5\">\n     <g id=\"line2d_11\">\n      <g>\n       <use style=\"stroke:#000000;stroke-width:0.8;\" x=\"75.73125\" xlink:href=\"#m4aa5445f69\" y=\"108.565444\"/>\n      </g>\n     </g>\n     <g id=\"text_12\">\n      <!-- 80000 -->\n      <defs>\n       <path d=\"M 31.78125 34.625 \nQ 24.75 34.625 20.71875 30.859375 \nQ 16.703125 27.09375 16.703125 20.515625 \nQ 16.703125 13.921875 20.71875 10.15625 \nQ 24.75 6.390625 31.78125 6.390625 \nQ 38.8125 6.390625 42.859375 10.171875 \nQ 46.921875 13.96875 46.921875 20.515625 \nQ 46.921875 27.09375 42.890625 30.859375 \nQ 38.875 34.625 31.78125 34.625 \nz\nM 21.921875 38.8125 \nQ 15.578125 40.375 12.03125 44.71875 \nQ 8.5 49.078125 8.5 55.328125 \nQ 8.5 64.0625 14.71875 69.140625 \nQ 20.953125 74.21875 31.78125 74.21875 \nQ 42.671875 74.21875 48.875 69.140625 \nQ 55.078125 64.0625 55.078125 55.328125 \nQ 55.078125 49.078125 51.53125 44.71875 \nQ 48 40.375 41.703125 38.8125 \nQ 48.828125 37.15625 52.796875 32.3125 \nQ 56.78125 27.484375 56.78125 20.515625 \nQ 56.78125 9.90625 50.3125 4.234375 \nQ 43.84375 -1.421875 31.78125 -1.421875 \nQ 19.734375 -1.421875 13.25 4.234375 \nQ 6.78125 9.90625 6.78125 20.515625 \nQ 6.78125 27.484375 10.78125 32.3125 \nQ 14.796875 37.15625 21.921875 38.8125 \nz\nM 18.3125 54.390625 \nQ 18.3125 48.734375 21.84375 45.5625 \nQ 25.390625 42.390625 31.78125 42.390625 \nQ 38.140625 42.390625 41.71875 45.5625 \nQ 45.3125 48.734375 45.3125 54.390625 \nQ 45.3125 60.0625 41.71875 63.234375 \nQ 38.140625 66.40625 31.78125 66.40625 \nQ 25.390625 66.40625 21.84375 63.234375 \nQ 18.3125 60.0625 18.3125 54.390625 \nz\n\" id=\"DejaVuSans-56\"/>\n      </defs>\n      <g transform=\"translate(36.91875 112.364662)scale(0.1 -0.1)\">\n       <use xlink:href=\"#DejaVuSans-56\"/>\n       <use x=\"63.623047\" xlink:href=\"#DejaVuSans-48\"/>\n       <use x=\"127.246094\" xlink:href=\"#DejaVuSans-48\"/>\n       <use x=\"190.869141\" xlink:href=\"#DejaVuSans-48\"/>\n       <use x=\"254.492188\" xlink:href=\"#DejaVuSans-48\"/>\n      </g>\n     </g>\n    </g>\n    <g id=\"ytick_6\">\n     <g id=\"line2d_12\">\n      <g>\n       <use style=\"stroke:#000000;stroke-width:0.8;\" x=\"75.73125\" xlink:href=\"#m4aa5445f69\" y=\"79.546804\"/>\n      </g>\n     </g>\n     <g id=\"text_13\">\n      <!-- 100000 -->\n      <defs>\n       <path d=\"M 12.40625 8.296875 \nL 28.515625 8.296875 \nL 28.515625 63.921875 \nL 10.984375 60.40625 \nL 10.984375 69.390625 \nL 28.421875 72.90625 \nL 38.28125 72.90625 \nL 38.28125 8.296875 \nL 54.390625 8.296875 \nL 54.390625 0 \nL 12.40625 0 \nz\n\" id=\"DejaVuSans-49\"/>\n      </defs>\n      <g transform=\"translate(30.55625 83.346023)scale(0.1 -0.1)\">\n       <use xlink:href=\"#DejaVuSans-49\"/>\n       <use x=\"63.623047\" xlink:href=\"#DejaVuSans-48\"/>\n       <use x=\"127.246094\" xlink:href=\"#DejaVuSans-48\"/>\n       <use x=\"190.869141\" xlink:href=\"#DejaVuSans-48\"/>\n       <use x=\"254.492188\" xlink:href=\"#DejaVuSans-48\"/>\n       <use x=\"318.115234\" xlink:href=\"#DejaVuSans-48\"/>\n      </g>\n     </g>\n    </g>\n    <g id=\"ytick_7\">\n     <g id=\"line2d_13\">\n      <g>\n       <use style=\"stroke:#000000;stroke-width:0.8;\" x=\"75.73125\" xlink:href=\"#m4aa5445f69\" y=\"50.528165\"/>\n      </g>\n     </g>\n     <g id=\"text_14\">\n      <!-- 120000 -->\n      <g transform=\"translate(30.55625 54.327384)scale(0.1 -0.1)\">\n       <use xlink:href=\"#DejaVuSans-49\"/>\n       <use x=\"63.623047\" xlink:href=\"#DejaVuSans-50\"/>\n       <use x=\"127.246094\" xlink:href=\"#DejaVuSans-48\"/>\n       <use x=\"190.869141\" xlink:href=\"#DejaVuSans-48\"/>\n       <use x=\"254.492188\" xlink:href=\"#DejaVuSans-48\"/>\n       <use x=\"318.115234\" xlink:href=\"#DejaVuSans-48\"/>\n      </g>\n     </g>\n    </g>\n    <g id=\"ytick_8\">\n     <g id=\"line2d_14\">\n      <g>\n       <use style=\"stroke:#000000;stroke-width:0.8;\" x=\"75.73125\" xlink:href=\"#m4aa5445f69\" y=\"21.509526\"/>\n      </g>\n     </g>\n     <g id=\"text_15\">\n      <!-- 140000 -->\n      <g transform=\"translate(30.55625 25.308745)scale(0.1 -0.1)\">\n       <use xlink:href=\"#DejaVuSans-49\"/>\n       <use x=\"63.623047\" xlink:href=\"#DejaVuSans-52\"/>\n       <use x=\"127.246094\" xlink:href=\"#DejaVuSans-48\"/>\n       <use x=\"190.869141\" xlink:href=\"#DejaVuSans-48\"/>\n       <use x=\"254.492188\" xlink:href=\"#DejaVuSans-48\"/>\n       <use x=\"318.115234\" xlink:href=\"#DejaVuSans-48\"/>\n      </g>\n     </g>\n    </g>\n    <g id=\"text_16\">\n     <!-- count -->\n     <defs>\n      <path d=\"M 48.78125 52.59375 \nL 48.78125 44.1875 \nQ 44.96875 46.296875 41.140625 47.34375 \nQ 37.3125 48.390625 33.40625 48.390625 \nQ 24.65625 48.390625 19.8125 42.84375 \nQ 14.984375 37.3125 14.984375 27.296875 \nQ 14.984375 17.28125 19.8125 11.734375 \nQ 24.65625 6.203125 33.40625 6.203125 \nQ 37.3125 6.203125 41.140625 7.25 \nQ 44.96875 8.296875 48.78125 10.40625 \nL 48.78125 2.09375 \nQ 45.015625 0.34375 40.984375 -0.53125 \nQ 36.96875 -1.421875 32.421875 -1.421875 \nQ 20.0625 -1.421875 12.78125 6.34375 \nQ 5.515625 14.109375 5.515625 27.296875 \nQ 5.515625 40.671875 12.859375 48.328125 \nQ 20.21875 56 33.015625 56 \nQ 37.15625 56 41.109375 55.140625 \nQ 45.0625 54.296875 48.78125 52.59375 \nz\n\" id=\"DejaVuSans-99\"/>\n      <path d=\"M 8.5 21.578125 \nL 8.5 54.6875 \nL 17.484375 54.6875 \nL 17.484375 21.921875 \nQ 17.484375 14.15625 20.5 10.265625 \nQ 23.53125 6.390625 29.59375 6.390625 \nQ 36.859375 6.390625 41.078125 11.03125 \nQ 45.3125 15.671875 45.3125 23.6875 \nL 45.3125 54.6875 \nL 54.296875 54.6875 \nL 54.296875 0 \nL 45.3125 0 \nL 45.3125 8.40625 \nQ 42.046875 3.421875 37.71875 1 \nQ 33.40625 -1.421875 27.6875 -1.421875 \nQ 18.265625 -1.421875 13.375 4.4375 \nQ 8.5 10.296875 8.5 21.578125 \nz\nM 31.109375 56 \nz\n\" id=\"DejaVuSans-117\"/>\n     </defs>\n     <g transform=\"translate(22.396875 144.1325)rotate(-90)scale(0.2 -0.2)\">\n      <use xlink:href=\"#DejaVuSans-99\"/>\n      <use x=\"54.980469\" xlink:href=\"#DejaVuSans-111\"/>\n      <use x=\"116.162109\" xlink:href=\"#DejaVuSans-117\"/>\n      <use x=\"179.541016\" xlink:href=\"#DejaVuSans-110\"/>\n      <use x=\"242.919922\" xlink:href=\"#DejaVuSans-116\"/>\n     </g>\n    </g>\n   </g>\n   <g id=\"patch_9\">\n    <path d=\"M 75.73125 224.64 \nL 75.73125 7.2 \n\" style=\"fill:none;stroke:#000000;stroke-linecap:square;stroke-linejoin:miter;stroke-width:0.8;\"/>\n   </g>\n   <g id=\"patch_10\">\n    <path d=\"M 410.53125 224.64 \nL 410.53125 7.2 \n\" style=\"fill:none;stroke:#000000;stroke-linecap:square;stroke-linejoin:miter;stroke-width:0.8;\"/>\n   </g>\n   <g id=\"patch_11\">\n    <path d=\"M 75.73125 224.64 \nL 410.53125 224.64 \n\" style=\"fill:none;stroke:#000000;stroke-linecap:square;stroke-linejoin:miter;stroke-width:0.8;\"/>\n   </g>\n   <g id=\"patch_12\">\n    <path d=\"M 75.73125 7.2 \nL 410.53125 7.2 \n\" style=\"fill:none;stroke:#000000;stroke-linecap:square;stroke-linejoin:miter;stroke-width:0.8;\"/>\n   </g>\n  </g>\n </g>\n <defs>\n  <clipPath id=\"pe38468f2c7\">\n   <rect height=\"217.44\" width=\"334.8\" x=\"75.73125\" y=\"7.2\"/>\n  </clipPath>\n </defs>\n</svg>\n",
      "image/png": "[encoded data removed]"
     },
     "metadata": {
      "needs_background": "light"
     }
    }
   ],
   "source": [
    "b = sns.countplot(x='ord_2', data=df)\n",
    "b.set_xlabel(\"label\", fontsize=20)\n",
    "b.set_ylabel(\"count\", fontsize=20)"
   ]
  },
  {
   "cell_type": "code",
   "execution_count": 27,
   "metadata": {},
   "outputs": [
    {
     "output_type": "execute_result",
     "data": {
      "text/plain": [
       "Freezing       142726\n",
       "Warm           124239\n",
       "Cold            97822\n",
       "Boiling Hot     84790\n",
       "Hot             67508\n",
       "Lava Hot        64840\n",
       "Name: ord_2, dtype: int64"
      ]
     },
     "metadata": {},
     "execution_count": 27
    }
   ],
   "source": [
    "df.ord_2.value_counts()"
   ]
  },
  {
   "cell_type": "code",
   "execution_count": 28,
   "metadata": {},
   "outputs": [
    {
     "output_type": "execute_result",
     "data": {
      "text/plain": [
       "0          67508.0\n",
       "1         124239.0\n",
       "2         142726.0\n",
       "3          64840.0\n",
       "4          97822.0\n",
       "            ...   \n",
       "599995    142726.0\n",
       "599996     84790.0\n",
       "599997    142726.0\n",
       "599998    124239.0\n",
       "599999     84790.0\n",
       "Name: id, Length: 600000, dtype: float64"
      ]
     },
     "metadata": {},
     "execution_count": 28
    }
   ],
   "source": [
    "#replacing ord_\" with its counts values\n",
    "df.groupby([\"ord_2\"])[\"id\"].transform(\"count\")"
   ]
  },
  {
   "cell_type": "code",
   "execution_count": 29,
   "metadata": {},
   "outputs": [
    {
     "output_type": "execute_result",
     "data": {
      "text/plain": [
       "   id  bin_0  bin_1  bin_2 bin_3 bin_4 nom_0      nom_1    nom_2       nom_3  \\\n",
       "0   0    0.0    0.0    0.0     F     N   Red  Trapezoid  Hamster      Russia   \n",
       "1   1    1.0    1.0    0.0     F     Y   Red       Star  Axolotl         NaN   \n",
       "2   2    0.0    1.0    0.0     F     N   Red        NaN  Hamster      Canada   \n",
       "3   3    NaN    0.0    0.0     F     N   Red     Circle  Hamster     Finland   \n",
       "4   4    0.0    NaN    0.0     T     N   Red   Triangle  Hamster  Costa Rica   \n",
       "\n",
       "   ...      nom_9 ord_0        ord_1     ord_2 ord_3 ord_4  ord_5  day month  \\\n",
       "0  ...  02e7c8990   3.0  Contributor       Hot     c     U     Pw  6.0   3.0   \n",
       "1  ...  f37df64af   3.0  Grandmaster      Warm     e     X     pE  7.0   7.0   \n",
       "2  ...        NaN   3.0          NaN  Freezing     n     P     eN  5.0   9.0   \n",
       "3  ...  f9d456e57   1.0       Novice  Lava Hot     a     C    NaN  3.0   3.0   \n",
       "4  ...  c5361037c   3.0  Grandmaster      Cold     h     C     OZ  5.0  12.0   \n",
       "\n",
       "  target  \n",
       "0      0  \n",
       "1      0  \n",
       "2      0  \n",
       "3      0  \n",
       "4      0  \n",
       "\n",
       "[5 rows x 25 columns]"
      ],
      "text/html": "<div>\n<style scoped>\n    .dataframe tbody tr th:only-of-type {\n        vertical-align: middle;\n    }\n\n    .dataframe tbody tr th {\n        vertical-align: top;\n    }\n\n    .dataframe thead th {\n        text-align: right;\n    }\n</style>\n<table border=\"1\" class=\"dataframe\">\n  <thead>\n    <tr style=\"text-align: right;\">\n      <th></th>\n      <th>id</th>\n      <th>bin_0</th>\n      <th>bin_1</th>\n      <th>bin_2</th>\n      <th>bin_3</th>\n      <th>bin_4</th>\n      <th>nom_0</th>\n      <th>nom_1</th>\n      <th>nom_2</th>\n      <th>nom_3</th>\n      <th>...</th>\n      <th>nom_9</th>\n      <th>ord_0</th>\n      <th>ord_1</th>\n      <th>ord_2</th>\n      <th>ord_3</th>\n      <th>ord_4</th>\n      <th>ord_5</th>\n      <th>day</th>\n      <th>month</th>\n      <th>target</th>\n    </tr>\n  </thead>\n  <tbody>\n    <tr>\n      <th>0</th>\n      <td>0</td>\n      <td>0.0</td>\n      <td>0.0</td>\n      <td>0.0</td>\n      <td>F</td>\n      <td>N</td>\n      <td>Red</td>\n      <td>Trapezoid</td>\n      <td>Hamster</td>\n      <td>Russia</td>\n      <td>...</td>\n      <td>02e7c8990</td>\n      <td>3.0</td>\n      <td>Contributor</td>\n      <td>Hot</td>\n      <td>c</td>\n      <td>U</td>\n      <td>Pw</td>\n      <td>6.0</td>\n      <td>3.0</td>\n      <td>0</td>\n    </tr>\n    <tr>\n      <th>1</th>\n      <td>1</td>\n      <td>1.0</td>\n      <td>1.0</td>\n      <td>0.0</td>\n      <td>F</td>\n      <td>Y</td>\n      <td>Red</td>\n      <td>Star</td>\n      <td>Axolotl</td>\n      <td>NaN</td>\n      <td>...</td>\n      <td>f37df64af</td>\n      <td>3.0</td>\n      <td>Grandmaster</td>\n      <td>Warm</td>\n      <td>e</td>\n      <td>X</td>\n      <td>pE</td>\n      <td>7.0</td>\n      <td>7.0</td>\n      <td>0</td>\n    </tr>\n    <tr>\n      <th>2</th>\n      <td>2</td>\n      <td>0.0</td>\n      <td>1.0</td>\n      <td>0.0</td>\n      <td>F</td>\n      <td>N</td>\n      <td>Red</td>\n      <td>NaN</td>\n      <td>Hamster</td>\n      <td>Canada</td>\n      <td>...</td>\n      <td>NaN</td>\n      <td>3.0</td>\n      <td>NaN</td>\n      <td>Freezing</td>\n      <td>n</td>\n      <td>P</td>\n      <td>eN</td>\n      <td>5.0</td>\n      <td>9.0</td>\n      <td>0</td>\n    </tr>\n    <tr>\n      <th>3</th>\n      <td>3</td>\n      <td>NaN</td>\n      <td>0.0</td>\n      <td>0.0</td>\n      <td>F</td>\n      <td>N</td>\n      <td>Red</td>\n      <td>Circle</td>\n      <td>Hamster</td>\n      <td>Finland</td>\n      <td>...</td>\n      <td>f9d456e57</td>\n      <td>1.0</td>\n      <td>Novice</td>\n      <td>Lava Hot</td>\n      <td>a</td>\n      <td>C</td>\n      <td>NaN</td>\n      <td>3.0</td>\n      <td>3.0</td>\n      <td>0</td>\n    </tr>\n    <tr>\n      <th>4</th>\n      <td>4</td>\n      <td>0.0</td>\n      <td>NaN</td>\n      <td>0.0</td>\n      <td>T</td>\n      <td>N</td>\n      <td>Red</td>\n      <td>Triangle</td>\n      <td>Hamster</td>\n      <td>Costa Rica</td>\n      <td>...</td>\n      <td>c5361037c</td>\n      <td>3.0</td>\n      <td>Grandmaster</td>\n      <td>Cold</td>\n      <td>h</td>\n      <td>C</td>\n      <td>OZ</td>\n      <td>5.0</td>\n      <td>12.0</td>\n      <td>0</td>\n    </tr>\n  </tbody>\n</table>\n<p>5 rows × 25 columns</p>\n</div>"
     },
     "metadata": {},
     "execution_count": 29
    }
   ],
   "source": [
    "df.head()"
   ]
  },
  {
   "cell_type": "code",
   "execution_count": 30,
   "metadata": {},
   "outputs": [
    {
     "output_type": "execute_result",
     "data": {
      "text/plain": [
       "          ord_1        ord_2  count\n",
       "0   Contributor  Boiling Hot  15634\n",
       "1   Contributor         Cold  17734\n",
       "2   Contributor     Freezing  26082\n",
       "3   Contributor          Hot  12428\n",
       "4   Contributor     Lava Hot  11919\n",
       "5   Contributor         Warm  22774\n",
       "6        Expert  Boiling Hot  19477\n",
       "7        Expert         Cold  22956\n",
       "8        Expert     Freezing  33249\n",
       "9        Expert          Hot  15792\n",
       "10       Expert     Lava Hot  15078\n",
       "11       Expert         Warm  28900\n",
       "12  Grandmaster  Boiling Hot  13623\n",
       "13  Grandmaster         Cold  15464\n",
       "14  Grandmaster     Freezing  22818\n",
       "15  Grandmaster          Hot  10805\n",
       "16  Grandmaster     Lava Hot  10363\n",
       "17  Grandmaster         Warm  19899\n",
       "18       Master  Boiling Hot  10800\n",
       "19       Master         Cold  12364\n",
       "20       Master     Freezing  18035\n",
       "21       Master          Hot   8594\n",
       "22       Master     Lava Hot   8209\n",
       "23       Master         Warm  15734\n",
       "24       Novice  Boiling Hot  22718\n",
       "25       Novice         Cold  26271\n",
       "26       Novice     Freezing  38233\n",
       "27       Novice          Hot  17850\n",
       "28       Novice     Lava Hot  17373\n",
       "29       Novice         Warm  33263"
      ],
      "text/html": "<div>\n<style scoped>\n    .dataframe tbody tr th:only-of-type {\n        vertical-align: middle;\n    }\n\n    .dataframe tbody tr th {\n        vertical-align: top;\n    }\n\n    .dataframe thead th {\n        text-align: right;\n    }\n</style>\n<table border=\"1\" class=\"dataframe\">\n  <thead>\n    <tr style=\"text-align: right;\">\n      <th></th>\n      <th>ord_1</th>\n      <th>ord_2</th>\n      <th>count</th>\n    </tr>\n  </thead>\n  <tbody>\n    <tr>\n      <th>0</th>\n      <td>Contributor</td>\n      <td>Boiling Hot</td>\n      <td>15634</td>\n    </tr>\n    <tr>\n      <th>1</th>\n      <td>Contributor</td>\n      <td>Cold</td>\n      <td>17734</td>\n    </tr>\n    <tr>\n      <th>2</th>\n      <td>Contributor</td>\n      <td>Freezing</td>\n      <td>26082</td>\n    </tr>\n    <tr>\n      <th>3</th>\n      <td>Contributor</td>\n      <td>Hot</td>\n      <td>12428</td>\n    </tr>\n    <tr>\n      <th>4</th>\n      <td>Contributor</td>\n      <td>Lava Hot</td>\n      <td>11919</td>\n    </tr>\n    <tr>\n      <th>5</th>\n      <td>Contributor</td>\n      <td>Warm</td>\n      <td>22774</td>\n    </tr>\n    <tr>\n      <th>6</th>\n      <td>Expert</td>\n      <td>Boiling Hot</td>\n      <td>19477</td>\n    </tr>\n    <tr>\n      <th>7</th>\n      <td>Expert</td>\n      <td>Cold</td>\n      <td>22956</td>\n    </tr>\n    <tr>\n      <th>8</th>\n      <td>Expert</td>\n      <td>Freezing</td>\n      <td>33249</td>\n    </tr>\n    <tr>\n      <th>9</th>\n      <td>Expert</td>\n      <td>Hot</td>\n      <td>15792</td>\n    </tr>\n    <tr>\n      <th>10</th>\n      <td>Expert</td>\n      <td>Lava Hot</td>\n      <td>15078</td>\n    </tr>\n    <tr>\n      <th>11</th>\n      <td>Expert</td>\n      <td>Warm</td>\n      <td>28900</td>\n    </tr>\n    <tr>\n      <th>12</th>\n      <td>Grandmaster</td>\n      <td>Boiling Hot</td>\n      <td>13623</td>\n    </tr>\n    <tr>\n      <th>13</th>\n      <td>Grandmaster</td>\n      <td>Cold</td>\n      <td>15464</td>\n    </tr>\n    <tr>\n      <th>14</th>\n      <td>Grandmaster</td>\n      <td>Freezing</td>\n      <td>22818</td>\n    </tr>\n    <tr>\n      <th>15</th>\n      <td>Grandmaster</td>\n      <td>Hot</td>\n      <td>10805</td>\n    </tr>\n    <tr>\n      <th>16</th>\n      <td>Grandmaster</td>\n      <td>Lava Hot</td>\n      <td>10363</td>\n    </tr>\n    <tr>\n      <th>17</th>\n      <td>Grandmaster</td>\n      <td>Warm</td>\n      <td>19899</td>\n    </tr>\n    <tr>\n      <th>18</th>\n      <td>Master</td>\n      <td>Boiling Hot</td>\n      <td>10800</td>\n    </tr>\n    <tr>\n      <th>19</th>\n      <td>Master</td>\n      <td>Cold</td>\n      <td>12364</td>\n    </tr>\n    <tr>\n      <th>20</th>\n      <td>Master</td>\n      <td>Freezing</td>\n      <td>18035</td>\n    </tr>\n    <tr>\n      <th>21</th>\n      <td>Master</td>\n      <td>Hot</td>\n      <td>8594</td>\n    </tr>\n    <tr>\n      <th>22</th>\n      <td>Master</td>\n      <td>Lava Hot</td>\n      <td>8209</td>\n    </tr>\n    <tr>\n      <th>23</th>\n      <td>Master</td>\n      <td>Warm</td>\n      <td>15734</td>\n    </tr>\n    <tr>\n      <th>24</th>\n      <td>Novice</td>\n      <td>Boiling Hot</td>\n      <td>22718</td>\n    </tr>\n    <tr>\n      <th>25</th>\n      <td>Novice</td>\n      <td>Cold</td>\n      <td>26271</td>\n    </tr>\n    <tr>\n      <th>26</th>\n      <td>Novice</td>\n      <td>Freezing</td>\n      <td>38233</td>\n    </tr>\n    <tr>\n      <th>27</th>\n      <td>Novice</td>\n      <td>Hot</td>\n      <td>17850</td>\n    </tr>\n    <tr>\n      <th>28</th>\n      <td>Novice</td>\n      <td>Lava Hot</td>\n      <td>17373</td>\n    </tr>\n    <tr>\n      <th>29</th>\n      <td>Novice</td>\n      <td>Warm</td>\n      <td>33263</td>\n    </tr>\n  </tbody>\n</table>\n</div>"
     },
     "metadata": {},
     "execution_count": 30
    }
   ],
   "source": [
    "df.groupby([\"ord_1\",\"ord_2\"])[\"id\"].count().reset_index(name=\"count\")"
   ]
  },
  {
   "cell_type": "code",
   "execution_count": 31,
   "metadata": {},
   "outputs": [
    {
     "output_type": "execute_result",
     "data": {
      "text/plain": [
       "0                 Contributor_Hot\n",
       "1                Grandmaster_Warm\n",
       "2                    nan_Freezing\n",
       "3                 Novice_Lava Hot\n",
       "4                Grandmaster_Cold\n",
       "                   ...           \n",
       "599995            Novice_Freezing\n",
       "599996         Novice_Boiling Hot\n",
       "599997       Contributor_Freezing\n",
       "599998                Master_Warm\n",
       "599999    Contributor_Boiling Hot\n",
       "Name: new_feature, Length: 600000, dtype: object"
      ]
     },
     "metadata": {},
     "execution_count": 31
    }
   ],
   "source": [
    "#Create new features:\n",
    "df[\"new_feature\"] = (df.ord_1.astype(str)+ \"_\"+ df.ord_2.astype(str) )\n",
    "df.new_feature\n"
   ]
  },
  {
   "cell_type": "code",
   "execution_count": 32,
   "metadata": {},
   "outputs": [
    {
     "output_type": "execute_result",
     "data": {
      "text/plain": [
       "   id  bin_0  bin_1  bin_2 bin_3 bin_4 nom_0      nom_1    nom_2       nom_3  \\\n",
       "0   0    0.0    0.0    0.0     F     N   Red  Trapezoid  Hamster      Russia   \n",
       "1   1    1.0    1.0    0.0     F     Y   Red       Star  Axolotl         NaN   \n",
       "2   2    0.0    1.0    0.0     F     N   Red        NaN  Hamster      Canada   \n",
       "3   3    NaN    0.0    0.0     F     N   Red     Circle  Hamster     Finland   \n",
       "4   4    0.0    NaN    0.0     T     N   Red   Triangle  Hamster  Costa Rica   \n",
       "\n",
       "   ... ord_0        ord_1     ord_2 ord_3 ord_4 ord_5  day month target  \\\n",
       "0  ...   3.0  Contributor       Hot     c     U    Pw  6.0   3.0      0   \n",
       "1  ...   3.0  Grandmaster      Warm     e     X    pE  7.0   7.0      0   \n",
       "2  ...   3.0          NaN  Freezing     n     P    eN  5.0   9.0      0   \n",
       "3  ...   1.0       Novice  Lava Hot     a     C   NaN  3.0   3.0      0   \n",
       "4  ...   3.0  Grandmaster      Cold     h     C    OZ  5.0  12.0      0   \n",
       "\n",
       "        new_feature  \n",
       "0   Contributor_Hot  \n",
       "1  Grandmaster_Warm  \n",
       "2      nan_Freezing  \n",
       "3   Novice_Lava Hot  \n",
       "4  Grandmaster_Cold  \n",
       "\n",
       "[5 rows x 26 columns]"
      ],
      "text/html": "<div>\n<style scoped>\n    .dataframe tbody tr th:only-of-type {\n        vertical-align: middle;\n    }\n\n    .dataframe tbody tr th {\n        vertical-align: top;\n    }\n\n    .dataframe thead th {\n        text-align: right;\n    }\n</style>\n<table border=\"1\" class=\"dataframe\">\n  <thead>\n    <tr style=\"text-align: right;\">\n      <th></th>\n      <th>id</th>\n      <th>bin_0</th>\n      <th>bin_1</th>\n      <th>bin_2</th>\n      <th>bin_3</th>\n      <th>bin_4</th>\n      <th>nom_0</th>\n      <th>nom_1</th>\n      <th>nom_2</th>\n      <th>nom_3</th>\n      <th>...</th>\n      <th>ord_0</th>\n      <th>ord_1</th>\n      <th>ord_2</th>\n      <th>ord_3</th>\n      <th>ord_4</th>\n      <th>ord_5</th>\n      <th>day</th>\n      <th>month</th>\n      <th>target</th>\n      <th>new_feature</th>\n    </tr>\n  </thead>\n  <tbody>\n    <tr>\n      <th>0</th>\n      <td>0</td>\n      <td>0.0</td>\n      <td>0.0</td>\n      <td>0.0</td>\n      <td>F</td>\n      <td>N</td>\n      <td>Red</td>\n      <td>Trapezoid</td>\n      <td>Hamster</td>\n      <td>Russia</td>\n      <td>...</td>\n      <td>3.0</td>\n      <td>Contributor</td>\n      <td>Hot</td>\n      <td>c</td>\n      <td>U</td>\n      <td>Pw</td>\n      <td>6.0</td>\n      <td>3.0</td>\n      <td>0</td>\n      <td>Contributor_Hot</td>\n    </tr>\n    <tr>\n      <th>1</th>\n      <td>1</td>\n      <td>1.0</td>\n      <td>1.0</td>\n      <td>0.0</td>\n      <td>F</td>\n      <td>Y</td>\n      <td>Red</td>\n      <td>Star</td>\n      <td>Axolotl</td>\n      <td>NaN</td>\n      <td>...</td>\n      <td>3.0</td>\n      <td>Grandmaster</td>\n      <td>Warm</td>\n      <td>e</td>\n      <td>X</td>\n      <td>pE</td>\n      <td>7.0</td>\n      <td>7.0</td>\n      <td>0</td>\n      <td>Grandmaster_Warm</td>\n    </tr>\n    <tr>\n      <th>2</th>\n      <td>2</td>\n      <td>0.0</td>\n      <td>1.0</td>\n      <td>0.0</td>\n      <td>F</td>\n      <td>N</td>\n      <td>Red</td>\n      <td>NaN</td>\n      <td>Hamster</td>\n      <td>Canada</td>\n      <td>...</td>\n      <td>3.0</td>\n      <td>NaN</td>\n      <td>Freezing</td>\n      <td>n</td>\n      <td>P</td>\n      <td>eN</td>\n      <td>5.0</td>\n      <td>9.0</td>\n      <td>0</td>\n      <td>nan_Freezing</td>\n    </tr>\n    <tr>\n      <th>3</th>\n      <td>3</td>\n      <td>NaN</td>\n      <td>0.0</td>\n      <td>0.0</td>\n      <td>F</td>\n      <td>N</td>\n      <td>Red</td>\n      <td>Circle</td>\n      <td>Hamster</td>\n      <td>Finland</td>\n      <td>...</td>\n      <td>1.0</td>\n      <td>Novice</td>\n      <td>Lava Hot</td>\n      <td>a</td>\n      <td>C</td>\n      <td>NaN</td>\n      <td>3.0</td>\n      <td>3.0</td>\n      <td>0</td>\n      <td>Novice_Lava Hot</td>\n    </tr>\n    <tr>\n      <th>4</th>\n      <td>4</td>\n      <td>0.0</td>\n      <td>NaN</td>\n      <td>0.0</td>\n      <td>T</td>\n      <td>N</td>\n      <td>Red</td>\n      <td>Triangle</td>\n      <td>Hamster</td>\n      <td>Costa Rica</td>\n      <td>...</td>\n      <td>3.0</td>\n      <td>Grandmaster</td>\n      <td>Cold</td>\n      <td>h</td>\n      <td>C</td>\n      <td>OZ</td>\n      <td>5.0</td>\n      <td>12.0</td>\n      <td>0</td>\n      <td>Grandmaster_Cold</td>\n    </tr>\n  </tbody>\n</table>\n<p>5 rows × 26 columns</p>\n</div>"
     },
     "metadata": {},
     "execution_count": 32
    }
   ],
   "source": [
    "df.head()"
   ]
  },
  {
   "cell_type": "code",
   "execution_count": 33,
   "metadata": {},
   "outputs": [
    {
     "output_type": "execute_result",
     "data": {
      "text/plain": [
       "Freezing       142726\n",
       "Warm           124239\n",
       "Cold            97822\n",
       "Boiling Hot     84790\n",
       "Hot             67508\n",
       "Lava Hot        64840\n",
       "Name: ord_2, dtype: int64"
      ]
     },
     "metadata": {},
     "execution_count": 33
    }
   ],
   "source": [
    "#handling NaN values, treat them as a new category:\n",
    "df = pd.read_csv(\"../input/train.csv\")\n",
    "df.ord_2.value_counts()"
   ]
  },
  {
   "cell_type": "code",
   "execution_count": 34,
   "metadata": {},
   "outputs": [],
   "source": [
    "df.ord_2.fillna(value = \"NONE\", inplace= True)"
   ]
  },
  {
   "cell_type": "code",
   "execution_count": 35,
   "metadata": {},
   "outputs": [
    {
     "output_type": "execute_result",
     "data": {
      "text/plain": [
       "Freezing       142726\n",
       "Warm           124239\n",
       "Cold            97822\n",
       "Boiling Hot     84790\n",
       "Hot             67508\n",
       "Lava Hot        64840\n",
       "NONE            18075\n",
       "Name: ord_2, dtype: int64"
      ]
     },
     "metadata": {},
     "execution_count": 35
    }
   ],
   "source": [
    "#The new category in NONE\n",
    "df.ord_2.value_counts()"
   ]
  },
  {
   "cell_type": "code",
   "execution_count": 49,
   "metadata": {},
   "outputs": [
    {
     "output_type": "execute_result",
     "data": {
      "text/plain": [
       "    id  bin_0  bin_1  bin_2 bin_3 bin_4  nom_0      nom_1    nom_2  \\\n",
       "0    0    0.0    0.0    0.0     F     N    Red  Trapezoid  Hamster   \n",
       "1    1    1.0    1.0    0.0     F     Y    Red       Star  Axolotl   \n",
       "2    2    0.0    1.0    0.0     F     N    Red        NaN  Hamster   \n",
       "3    3    NaN    0.0    0.0     F     N    Red     Circle  Hamster   \n",
       "4    4    0.0    NaN    0.0     T     N    Red   Triangle  Hamster   \n",
       "5    5    0.0    NaN    1.0     T     N    Red   Triangle     Lion   \n",
       "6    6    0.0    0.0    0.0     F     N    Red   Triangle  Hamster   \n",
       "7    7    0.0    0.0    1.0     T     N    Red   Triangle  Axolotl   \n",
       "8    8    0.0    0.0    0.0     F     N   Blue    Polygon  Hamster   \n",
       "9    9    0.0    0.0    NaN     F     Y    Red    Polygon  Hamster   \n",
       "10  10    0.0    0.0    1.0     T     Y   Blue   Triangle  Hamster   \n",
       "11  11    0.0    0.0    1.0     F     Y    Red     Square  Hamster   \n",
       "12  12    0.0    0.0    0.0     T   NaN    Red     Circle  Axolotl   \n",
       "13  13    0.0    1.0    0.0     F     N   Blue  Trapezoid     Lion   \n",
       "14  14    0.0    0.0    0.0     F     Y    Red    Polygon  Hamster   \n",
       "15  15    1.0    0.0    NaN     F   NaN    Red    Polygon  Hamster   \n",
       "16  16    0.0    0.0    0.0     F     Y    Red   Triangle     Lion   \n",
       "17  17    NaN    1.0    1.0     F     N    Red  Trapezoid  Hamster   \n",
       "18  18    1.0    0.0    0.0     F     Y    Red     Circle  Axolotl   \n",
       "19  19    0.0    1.0    0.0     F     Y    Red   Triangle  Hamster   \n",
       "20  20    0.0    0.0    0.0     T     N   Blue   Triangle      Dog   \n",
       "21  21    1.0    1.0    0.0     F     N    Red   Triangle      Cat   \n",
       "22  22    0.0    0.0    0.0   NaN     N  Green     Circle  Hamster   \n",
       "23  23    0.0    0.0    0.0     T     N    Red    Polygon  Hamster   \n",
       "24  24    0.0    1.0    1.0     F     Y    Red     Circle  Hamster   \n",
       "25  25    0.0    0.0    0.0   NaN     Y   Blue     Circle      Dog   \n",
       "26  26    0.0    1.0    0.0     F     N   Blue     Circle     Lion   \n",
       "27  27    0.0    0.0    0.0     F     N    Red     Circle  Axolotl   \n",
       "28  28    0.0    0.0    0.0     F     N  Green        NaN     Lion   \n",
       "29  29    0.0    NaN    1.0     F     Y   Blue     Square     Lion   \n",
       "\n",
       "         nom_3  ...      nom_9 ord_0        ord_1        ord_2 ord_3 ord_4  \\\n",
       "0       Russia  ...  02e7c8990   3.0  Contributor          Hot     c     U   \n",
       "1          NaN  ...  f37df64af   3.0  Grandmaster         Warm     e     X   \n",
       "2       Canada  ...        NaN   3.0          NaN     Freezing     n     P   \n",
       "3      Finland  ...  f9d456e57   1.0       Novice     Lava Hot     a     C   \n",
       "4   Costa Rica  ...  c5361037c   3.0  Grandmaster         Cold     h     C   \n",
       "5        China  ...  05afc0f8b   2.0       Expert          Hot     b     Q   \n",
       "6   Costa Rica  ...  4d3766412   1.0  Grandmaster         Cold     c     R   \n",
       "7      Finland  ...  a651dec43   3.0       Expert         Cold     b     Y   \n",
       "8       Russia  ...        NaN   1.0       Novice  Boiling Hot     c     N   \n",
       "9      Finland  ...  79b29d54c   3.0  Contributor     Lava Hot     n     I   \n",
       "10     Finland  ...  9bfe3ee22   1.0       Novice          Hot     b     O   \n",
       "11  Costa Rica  ...  6c73b62e4   1.0  Contributor          Hot     b     M   \n",
       "12      Russia  ...  ed7765a22   3.0       Novice     Freezing     a     Y   \n",
       "13  Costa Rica  ...  fb68fb0cf   3.0  Contributor     Lava Hot     h     C   \n",
       "14  Costa Rica  ...  e23161f2e   2.0       Master     Freezing     d     Y   \n",
       "15      Russia  ...  e5260d8ba   2.0  Contributor          Hot     k     P   \n",
       "16  Costa Rica  ...  99f6dca00   1.0       Novice  Boiling Hot     h     E   \n",
       "17      Russia  ...  bc5c8fe51   3.0       Novice         Warm     g     I   \n",
       "18       India  ...  bf2a46c9a   3.0       Master          Hot     h     V   \n",
       "19  Costa Rica  ...  602d7a9af   1.0  Grandmaster  Boiling Hot     n     K   \n",
       "20       India  ...  7df225ca0   3.0       Novice     Freezing     h     E   \n",
       "21      Canada  ...  dfaef9aac   3.0  Contributor          Hot     h     N   \n",
       "22      Canada  ...  7f228b10f   2.0       Master          Hot     k     G   \n",
       "23       India  ...  d7b264c91   1.0       Novice         Warm     n     K   \n",
       "24       India  ...  1bb10e6ca   1.0  Grandmaster  Boiling Hot     b     B   \n",
       "25      Canada  ...  85334bf6e   1.0       Expert         Warm     c     H   \n",
       "26       India  ...  d518a193a   3.0  Grandmaster     Freezing     o     O   \n",
       "27  Costa Rica  ...  1c61b1687   1.0       Novice         Cold     a     I   \n",
       "28  Costa Rica  ...  2efbc0f39   1.0       Novice         Warm     a  NONE   \n",
       "29       India  ...  5e7d3277d   1.0       Expert         Cold     a     U   \n",
       "\n",
       "    ord_5  day month target  \n",
       "0      Pw  6.0   3.0      0  \n",
       "1      pE  7.0   7.0      0  \n",
       "2      eN  5.0   9.0      0  \n",
       "3     NaN  3.0   3.0      0  \n",
       "4      OZ  5.0  12.0      0  \n",
       "5      wa  3.0   4.0      0  \n",
       "6      rg  5.0   6.0      0  \n",
       "7      PS  1.0   1.0      0  \n",
       "8      mX  6.0   3.0      0  \n",
       "9      OZ  1.0   8.0      1  \n",
       "10     hG  7.0   5.0      1  \n",
       "11     xF  2.0   8.0      0  \n",
       "12     RV  3.0   5.0      0  \n",
       "13     Nh  6.0   3.0      0  \n",
       "14     dp  2.0   8.0      0  \n",
       "15     SS  1.0  11.0      0  \n",
       "16    NaN  6.0   7.0      0  \n",
       "17     OM  7.0   5.0      1  \n",
       "18     Rv  NaN   3.0      1  \n",
       "19     HF  6.0  12.0      0  \n",
       "20     RV  7.0  11.0      0  \n",
       "21     iS  7.0   8.0      0  \n",
       "22     HK  5.0  12.0      0  \n",
       "23     hG  4.0   NaN      0  \n",
       "24     Ib  6.0   4.0      0  \n",
       "25     AW  3.0   3.0      0  \n",
       "26     mi  2.0  11.0      0  \n",
       "27     jf  5.0   8.0      0  \n",
       "28     Tz  7.0   4.0      0  \n",
       "29     ok  5.0   8.0      0  \n",
       "\n",
       "[30 rows x 25 columns]"
      ],
      "text/html": "<div>\n<style scoped>\n    .dataframe tbody tr th:only-of-type {\n        vertical-align: middle;\n    }\n\n    .dataframe tbody tr th {\n        vertical-align: top;\n    }\n\n    .dataframe thead th {\n        text-align: right;\n    }\n</style>\n<table border=\"1\" class=\"dataframe\">\n  <thead>\n    <tr style=\"text-align: right;\">\n      <th></th>\n      <th>id</th>\n      <th>bin_0</th>\n      <th>bin_1</th>\n      <th>bin_2</th>\n      <th>bin_3</th>\n      <th>bin_4</th>\n      <th>nom_0</th>\n      <th>nom_1</th>\n      <th>nom_2</th>\n      <th>nom_3</th>\n      <th>...</th>\n      <th>nom_9</th>\n      <th>ord_0</th>\n      <th>ord_1</th>\n      <th>ord_2</th>\n      <th>ord_3</th>\n      <th>ord_4</th>\n      <th>ord_5</th>\n      <th>day</th>\n      <th>month</th>\n      <th>target</th>\n    </tr>\n  </thead>\n  <tbody>\n    <tr>\n      <th>0</th>\n      <td>0</td>\n      <td>0.0</td>\n      <td>0.0</td>\n      <td>0.0</td>\n      <td>F</td>\n      <td>N</td>\n      <td>Red</td>\n      <td>Trapezoid</td>\n      <td>Hamster</td>\n      <td>Russia</td>\n      <td>...</td>\n      <td>02e7c8990</td>\n      <td>3.0</td>\n      <td>Contributor</td>\n      <td>Hot</td>\n      <td>c</td>\n      <td>U</td>\n      <td>Pw</td>\n      <td>6.0</td>\n      <td>3.0</td>\n      <td>0</td>\n    </tr>\n    <tr>\n      <th>1</th>\n      <td>1</td>\n      <td>1.0</td>\n      <td>1.0</td>\n      <td>0.0</td>\n      <td>F</td>\n      <td>Y</td>\n      <td>Red</td>\n      <td>Star</td>\n      <td>Axolotl</td>\n      <td>NaN</td>\n      <td>...</td>\n      <td>f37df64af</td>\n      <td>3.0</td>\n      <td>Grandmaster</td>\n      <td>Warm</td>\n      <td>e</td>\n      <td>X</td>\n      <td>pE</td>\n      <td>7.0</td>\n      <td>7.0</td>\n      <td>0</td>\n    </tr>\n    <tr>\n      <th>2</th>\n      <td>2</td>\n      <td>0.0</td>\n      <td>1.0</td>\n      <td>0.0</td>\n      <td>F</td>\n      <td>N</td>\n      <td>Red</td>\n      <td>NaN</td>\n      <td>Hamster</td>\n      <td>Canada</td>\n      <td>...</td>\n      <td>NaN</td>\n      <td>3.0</td>\n      <td>NaN</td>\n      <td>Freezing</td>\n      <td>n</td>\n      <td>P</td>\n      <td>eN</td>\n      <td>5.0</td>\n      <td>9.0</td>\n      <td>0</td>\n    </tr>\n    <tr>\n      <th>3</th>\n      <td>3</td>\n      <td>NaN</td>\n      <td>0.0</td>\n      <td>0.0</td>\n      <td>F</td>\n      <td>N</td>\n      <td>Red</td>\n      <td>Circle</td>\n      <td>Hamster</td>\n      <td>Finland</td>\n      <td>...</td>\n      <td>f9d456e57</td>\n      <td>1.0</td>\n      <td>Novice</td>\n      <td>Lava Hot</td>\n      <td>a</td>\n      <td>C</td>\n      <td>NaN</td>\n      <td>3.0</td>\n      <td>3.0</td>\n      <td>0</td>\n    </tr>\n    <tr>\n      <th>4</th>\n      <td>4</td>\n      <td>0.0</td>\n      <td>NaN</td>\n      <td>0.0</td>\n      <td>T</td>\n      <td>N</td>\n      <td>Red</td>\n      <td>Triangle</td>\n      <td>Hamster</td>\n      <td>Costa Rica</td>\n      <td>...</td>\n      <td>c5361037c</td>\n      <td>3.0</td>\n      <td>Grandmaster</td>\n      <td>Cold</td>\n      <td>h</td>\n      <td>C</td>\n      <td>OZ</td>\n      <td>5.0</td>\n      <td>12.0</td>\n      <td>0</td>\n    </tr>\n    <tr>\n      <th>5</th>\n      <td>5</td>\n      <td>0.0</td>\n      <td>NaN</td>\n      <td>1.0</td>\n      <td>T</td>\n      <td>N</td>\n      <td>Red</td>\n      <td>Triangle</td>\n      <td>Lion</td>\n      <td>China</td>\n      <td>...</td>\n      <td>05afc0f8b</td>\n      <td>2.0</td>\n      <td>Expert</td>\n      <td>Hot</td>\n      <td>b</td>\n      <td>Q</td>\n      <td>wa</td>\n      <td>3.0</td>\n      <td>4.0</td>\n      <td>0</td>\n    </tr>\n    <tr>\n      <th>6</th>\n      <td>6</td>\n      <td>0.0</td>\n      <td>0.0</td>\n      <td>0.0</td>\n      <td>F</td>\n      <td>N</td>\n      <td>Red</td>\n      <td>Triangle</td>\n      <td>Hamster</td>\n      <td>Costa Rica</td>\n      <td>...</td>\n      <td>4d3766412</td>\n      <td>1.0</td>\n      <td>Grandmaster</td>\n      <td>Cold</td>\n      <td>c</td>\n      <td>R</td>\n      <td>rg</td>\n      <td>5.0</td>\n      <td>6.0</td>\n      <td>0</td>\n    </tr>\n    <tr>\n      <th>7</th>\n      <td>7</td>\n      <td>0.0</td>\n      <td>0.0</td>\n      <td>1.0</td>\n      <td>T</td>\n      <td>N</td>\n      <td>Red</td>\n      <td>Triangle</td>\n      <td>Axolotl</td>\n      <td>Finland</td>\n      <td>...</td>\n      <td>a651dec43</td>\n      <td>3.0</td>\n      <td>Expert</td>\n      <td>Cold</td>\n      <td>b</td>\n      <td>Y</td>\n      <td>PS</td>\n      <td>1.0</td>\n      <td>1.0</td>\n      <td>0</td>\n    </tr>\n    <tr>\n      <th>8</th>\n      <td>8</td>\n      <td>0.0</td>\n      <td>0.0</td>\n      <td>0.0</td>\n      <td>F</td>\n      <td>N</td>\n      <td>Blue</td>\n      <td>Polygon</td>\n      <td>Hamster</td>\n      <td>Russia</td>\n      <td>...</td>\n      <td>NaN</td>\n      <td>1.0</td>\n      <td>Novice</td>\n      <td>Boiling Hot</td>\n      <td>c</td>\n      <td>N</td>\n      <td>mX</td>\n      <td>6.0</td>\n      <td>3.0</td>\n      <td>0</td>\n    </tr>\n    <tr>\n      <th>9</th>\n      <td>9</td>\n      <td>0.0</td>\n      <td>0.0</td>\n      <td>NaN</td>\n      <td>F</td>\n      <td>Y</td>\n      <td>Red</td>\n      <td>Polygon</td>\n      <td>Hamster</td>\n      <td>Finland</td>\n      <td>...</td>\n      <td>79b29d54c</td>\n      <td>3.0</td>\n      <td>Contributor</td>\n      <td>Lava Hot</td>\n      <td>n</td>\n      <td>I</td>\n      <td>OZ</td>\n      <td>1.0</td>\n      <td>8.0</td>\n      <td>1</td>\n    </tr>\n    <tr>\n      <th>10</th>\n      <td>10</td>\n      <td>0.0</td>\n      <td>0.0</td>\n      <td>1.0</td>\n      <td>T</td>\n      <td>Y</td>\n      <td>Blue</td>\n      <td>Triangle</td>\n      <td>Hamster</td>\n      <td>Finland</td>\n      <td>...</td>\n      <td>9bfe3ee22</td>\n      <td>1.0</td>\n      <td>Novice</td>\n      <td>Hot</td>\n      <td>b</td>\n      <td>O</td>\n      <td>hG</td>\n      <td>7.0</td>\n      <td>5.0</td>\n      <td>1</td>\n    </tr>\n    <tr>\n      <th>11</th>\n      <td>11</td>\n      <td>0.0</td>\n      <td>0.0</td>\n      <td>1.0</td>\n      <td>F</td>\n      <td>Y</td>\n      <td>Red</td>\n      <td>Square</td>\n      <td>Hamster</td>\n      <td>Costa Rica</td>\n      <td>...</td>\n      <td>6c73b62e4</td>\n      <td>1.0</td>\n      <td>Contributor</td>\n      <td>Hot</td>\n      <td>b</td>\n      <td>M</td>\n      <td>xF</td>\n      <td>2.0</td>\n      <td>8.0</td>\n      <td>0</td>\n    </tr>\n    <tr>\n      <th>12</th>\n      <td>12</td>\n      <td>0.0</td>\n      <td>0.0</td>\n      <td>0.0</td>\n      <td>T</td>\n      <td>NaN</td>\n      <td>Red</td>\n      <td>Circle</td>\n      <td>Axolotl</td>\n      <td>Russia</td>\n      <td>...</td>\n      <td>ed7765a22</td>\n      <td>3.0</td>\n      <td>Novice</td>\n      <td>Freezing</td>\n      <td>a</td>\n      <td>Y</td>\n      <td>RV</td>\n      <td>3.0</td>\n      <td>5.0</td>\n      <td>0</td>\n    </tr>\n    <tr>\n      <th>13</th>\n      <td>13</td>\n      <td>0.0</td>\n      <td>1.0</td>\n      <td>0.0</td>\n      <td>F</td>\n      <td>N</td>\n      <td>Blue</td>\n      <td>Trapezoid</td>\n      <td>Lion</td>\n      <td>Costa Rica</td>\n      <td>...</td>\n      <td>fb68fb0cf</td>\n      <td>3.0</td>\n      <td>Contributor</td>\n      <td>Lava Hot</td>\n      <td>h</td>\n      <td>C</td>\n      <td>Nh</td>\n      <td>6.0</td>\n      <td>3.0</td>\n      <td>0</td>\n    </tr>\n    <tr>\n      <th>14</th>\n      <td>14</td>\n      <td>0.0</td>\n      <td>0.0</td>\n      <td>0.0</td>\n      <td>F</td>\n      <td>Y</td>\n      <td>Red</td>\n      <td>Polygon</td>\n      <td>Hamster</td>\n      <td>Costa Rica</td>\n      <td>...</td>\n      <td>e23161f2e</td>\n      <td>2.0</td>\n      <td>Master</td>\n      <td>Freezing</td>\n      <td>d</td>\n      <td>Y</td>\n      <td>dp</td>\n      <td>2.0</td>\n      <td>8.0</td>\n      <td>0</td>\n    </tr>\n    <tr>\n      <th>15</th>\n      <td>15</td>\n      <td>1.0</td>\n      <td>0.0</td>\n      <td>NaN</td>\n      <td>F</td>\n      <td>NaN</td>\n      <td>Red</td>\n      <td>Polygon</td>\n      <td>Hamster</td>\n      <td>Russia</td>\n      <td>...</td>\n      <td>e5260d8ba</td>\n      <td>2.0</td>\n      <td>Contributor</td>\n      <td>Hot</td>\n      <td>k</td>\n      <td>P</td>\n      <td>SS</td>\n      <td>1.0</td>\n      <td>11.0</td>\n      <td>0</td>\n    </tr>\n    <tr>\n      <th>16</th>\n      <td>16</td>\n      <td>0.0</td>\n      <td>0.0</td>\n      <td>0.0</td>\n      <td>F</td>\n      <td>Y</td>\n      <td>Red</td>\n      <td>Triangle</td>\n      <td>Lion</td>\n      <td>Costa Rica</td>\n      <td>...</td>\n      <td>99f6dca00</td>\n      <td>1.0</td>\n      <td>Novice</td>\n      <td>Boiling Hot</td>\n      <td>h</td>\n      <td>E</td>\n      <td>NaN</td>\n      <td>6.0</td>\n      <td>7.0</td>\n      <td>0</td>\n    </tr>\n    <tr>\n      <th>17</th>\n      <td>17</td>\n      <td>NaN</td>\n      <td>1.0</td>\n      <td>1.0</td>\n      <td>F</td>\n      <td>N</td>\n      <td>Red</td>\n      <td>Trapezoid</td>\n      <td>Hamster</td>\n      <td>Russia</td>\n      <td>...</td>\n      <td>bc5c8fe51</td>\n      <td>3.0</td>\n      <td>Novice</td>\n      <td>Warm</td>\n      <td>g</td>\n      <td>I</td>\n      <td>OM</td>\n      <td>7.0</td>\n      <td>5.0</td>\n      <td>1</td>\n    </tr>\n    <tr>\n      <th>18</th>\n      <td>18</td>\n      <td>1.0</td>\n      <td>0.0</td>\n      <td>0.0</td>\n      <td>F</td>\n      <td>Y</td>\n      <td>Red</td>\n      <td>Circle</td>\n      <td>Axolotl</td>\n      <td>India</td>\n      <td>...</td>\n      <td>bf2a46c9a</td>\n      <td>3.0</td>\n      <td>Master</td>\n      <td>Hot</td>\n      <td>h</td>\n      <td>V</td>\n      <td>Rv</td>\n      <td>NaN</td>\n      <td>3.0</td>\n      <td>1</td>\n    </tr>\n    <tr>\n      <th>19</th>\n      <td>19</td>\n      <td>0.0</td>\n      <td>1.0</td>\n      <td>0.0</td>\n      <td>F</td>\n      <td>Y</td>\n      <td>Red</td>\n      <td>Triangle</td>\n      <td>Hamster</td>\n      <td>Costa Rica</td>\n      <td>...</td>\n      <td>602d7a9af</td>\n      <td>1.0</td>\n      <td>Grandmaster</td>\n      <td>Boiling Hot</td>\n      <td>n</td>\n      <td>K</td>\n      <td>HF</td>\n      <td>6.0</td>\n      <td>12.0</td>\n      <td>0</td>\n    </tr>\n    <tr>\n      <th>20</th>\n      <td>20</td>\n      <td>0.0</td>\n      <td>0.0</td>\n      <td>0.0</td>\n      <td>T</td>\n      <td>N</td>\n      <td>Blue</td>\n      <td>Triangle</td>\n      <td>Dog</td>\n      <td>India</td>\n      <td>...</td>\n      <td>7df225ca0</td>\n      <td>3.0</td>\n      <td>Novice</td>\n      <td>Freezing</td>\n      <td>h</td>\n      <td>E</td>\n      <td>RV</td>\n      <td>7.0</td>\n      <td>11.0</td>\n      <td>0</td>\n    </tr>\n    <tr>\n      <th>21</th>\n      <td>21</td>\n      <td>1.0</td>\n      <td>1.0</td>\n      <td>0.0</td>\n      <td>F</td>\n      <td>N</td>\n      <td>Red</td>\n      <td>Triangle</td>\n      <td>Cat</td>\n      <td>Canada</td>\n      <td>...</td>\n      <td>dfaef9aac</td>\n      <td>3.0</td>\n      <td>Contributor</td>\n      <td>Hot</td>\n      <td>h</td>\n      <td>N</td>\n      <td>iS</td>\n      <td>7.0</td>\n      <td>8.0</td>\n      <td>0</td>\n    </tr>\n    <tr>\n      <th>22</th>\n      <td>22</td>\n      <td>0.0</td>\n      <td>0.0</td>\n      <td>0.0</td>\n      <td>NaN</td>\n      <td>N</td>\n      <td>Green</td>\n      <td>Circle</td>\n      <td>Hamster</td>\n      <td>Canada</td>\n      <td>...</td>\n      <td>7f228b10f</td>\n      <td>2.0</td>\n      <td>Master</td>\n      <td>Hot</td>\n      <td>k</td>\n      <td>G</td>\n      <td>HK</td>\n      <td>5.0</td>\n      <td>12.0</td>\n      <td>0</td>\n    </tr>\n    <tr>\n      <th>23</th>\n      <td>23</td>\n      <td>0.0</td>\n      <td>0.0</td>\n      <td>0.0</td>\n      <td>T</td>\n      <td>N</td>\n      <td>Red</td>\n      <td>Polygon</td>\n      <td>Hamster</td>\n      <td>India</td>\n      <td>...</td>\n      <td>d7b264c91</td>\n      <td>1.0</td>\n      <td>Novice</td>\n      <td>Warm</td>\n      <td>n</td>\n      <td>K</td>\n      <td>hG</td>\n      <td>4.0</td>\n      <td>NaN</td>\n      <td>0</td>\n    </tr>\n    <tr>\n      <th>24</th>\n      <td>24</td>\n      <td>0.0</td>\n      <td>1.0</td>\n      <td>1.0</td>\n      <td>F</td>\n      <td>Y</td>\n      <td>Red</td>\n      <td>Circle</td>\n      <td>Hamster</td>\n      <td>India</td>\n      <td>...</td>\n      <td>1bb10e6ca</td>\n      <td>1.0</td>\n      <td>Grandmaster</td>\n      <td>Boiling Hot</td>\n      <td>b</td>\n      <td>B</td>\n      <td>Ib</td>\n      <td>6.0</td>\n      <td>4.0</td>\n      <td>0</td>\n    </tr>\n    <tr>\n      <th>25</th>\n      <td>25</td>\n      <td>0.0</td>\n      <td>0.0</td>\n      <td>0.0</td>\n      <td>NaN</td>\n      <td>Y</td>\n      <td>Blue</td>\n      <td>Circle</td>\n      <td>Dog</td>\n      <td>Canada</td>\n      <td>...</td>\n      <td>85334bf6e</td>\n      <td>1.0</td>\n      <td>Expert</td>\n      <td>Warm</td>\n      <td>c</td>\n      <td>H</td>\n      <td>AW</td>\n      <td>3.0</td>\n      <td>3.0</td>\n      <td>0</td>\n    </tr>\n    <tr>\n      <th>26</th>\n      <td>26</td>\n      <td>0.0</td>\n      <td>1.0</td>\n      <td>0.0</td>\n      <td>F</td>\n      <td>N</td>\n      <td>Blue</td>\n      <td>Circle</td>\n      <td>Lion</td>\n      <td>India</td>\n      <td>...</td>\n      <td>d518a193a</td>\n      <td>3.0</td>\n      <td>Grandmaster</td>\n      <td>Freezing</td>\n      <td>o</td>\n      <td>O</td>\n      <td>mi</td>\n      <td>2.0</td>\n      <td>11.0</td>\n      <td>0</td>\n    </tr>\n    <tr>\n      <th>27</th>\n      <td>27</td>\n      <td>0.0</td>\n      <td>0.0</td>\n      <td>0.0</td>\n      <td>F</td>\n      <td>N</td>\n      <td>Red</td>\n      <td>Circle</td>\n      <td>Axolotl</td>\n      <td>Costa Rica</td>\n      <td>...</td>\n      <td>1c61b1687</td>\n      <td>1.0</td>\n      <td>Novice</td>\n      <td>Cold</td>\n      <td>a</td>\n      <td>I</td>\n      <td>jf</td>\n      <td>5.0</td>\n      <td>8.0</td>\n      <td>0</td>\n    </tr>\n    <tr>\n      <th>28</th>\n      <td>28</td>\n      <td>0.0</td>\n      <td>0.0</td>\n      <td>0.0</td>\n      <td>F</td>\n      <td>N</td>\n      <td>Green</td>\n      <td>NaN</td>\n      <td>Lion</td>\n      <td>Costa Rica</td>\n      <td>...</td>\n      <td>2efbc0f39</td>\n      <td>1.0</td>\n      <td>Novice</td>\n      <td>Warm</td>\n      <td>a</td>\n      <td>NONE</td>\n      <td>Tz</td>\n      <td>7.0</td>\n      <td>4.0</td>\n      <td>0</td>\n    </tr>\n    <tr>\n      <th>29</th>\n      <td>29</td>\n      <td>0.0</td>\n      <td>NaN</td>\n      <td>1.0</td>\n      <td>F</td>\n      <td>Y</td>\n      <td>Blue</td>\n      <td>Square</td>\n      <td>Lion</td>\n      <td>India</td>\n      <td>...</td>\n      <td>5e7d3277d</td>\n      <td>1.0</td>\n      <td>Expert</td>\n      <td>Cold</td>\n      <td>a</td>\n      <td>U</td>\n      <td>ok</td>\n      <td>5.0</td>\n      <td>8.0</td>\n      <td>0</td>\n    </tr>\n  </tbody>\n</table>\n<p>30 rows × 25 columns</p>\n</div>"
     },
     "metadata": {},
     "execution_count": 49
    }
   ],
   "source": [
    "df.head(30)"
   ]
  },
  {
   "cell_type": "code",
   "execution_count": 36,
   "metadata": {},
   "outputs": [
    {
     "output_type": "execute_result",
     "data": {
      "text/plain": [
       "Text(0, 0.5, 'count')"
      ]
     },
     "metadata": {},
     "execution_count": 36
    },
    {
     "output_type": "display_data",
     "data": {
      "text/plain": "<Figure size 432x288 with 1 Axes>",
      "image/svg+xml": "<?xml version=\"1.0\" encoding=\"utf-8\" standalone=\"no\"?>\n<!DOCTYPE svg PUBLIC \"-//W3C//DTD SVG 1.1//EN\"\n  \"http://www.w3.org/Graphics/SVG/1.1/DTD/svg11.dtd\">\n<!-- Created with matplotlib (https://matplotlib.org/) -->\n<svg height=\"271.874375pt\" version=\"1.1\" viewBox=\"0 0 417.73125 271.874375\" width=\"417.73125pt\" xmlns=\"http://www.w3.org/2000/svg\" xmlns:xlink=\"http://www.w3.org/1999/xlink\">\n <defs>\n  <style type=\"text/css\">\n*{stroke-linecap:butt;stroke-linejoin:round;}\n  </style>\n </defs>\n <g id=\"figure_1\">\n  <g id=\"patch_1\">\n   <path d=\"M 0 271.874375 \nL 417.73125 271.874375 \nL 417.73125 0 \nL 0 0 \nz\n\" style=\"fill:none;\"/>\n  </g>\n  <g id=\"axes_1\">\n   <g id=\"patch_2\">\n    <path d=\"M 75.73125 224.64 \nL 410.53125 224.64 \nL 410.53125 7.2 \nL 75.73125 7.2 \nz\n\" style=\"fill:#ffffff;\"/>\n   </g>\n   <g id=\"patch_3\">\n    <path clip-path=\"url(#p5c2e85bdd9)\" d=\"M 80.514107 224.64 \nL 118.776964 224.64 \nL 118.776964 126.690486 \nL 80.514107 126.690486 \nz\n\" style=\"fill:#3274a1;\"/>\n   </g>\n   <g id=\"patch_4\">\n    <path clip-path=\"url(#p5c2e85bdd9)\" d=\"M 128.342679 224.64 \nL 166.605536 224.64 \nL 166.605536 44.377665 \nL 128.342679 44.377665 \nz\n\" style=\"fill:#e1812c;\"/>\n   </g>\n   <g id=\"patch_5\">\n    <path clip-path=\"url(#p5c2e85bdd9)\" d=\"M 176.17125 224.64 \nL 214.434107 224.64 \nL 214.434107 17.554286 \nL 176.17125 17.554286 \nz\n\" style=\"fill:#3a923a;\"/>\n   </g>\n   <g id=\"patch_6\">\n    <path clip-path=\"url(#p5c2e85bdd9)\" d=\"M 223.999821 224.64 \nL 262.262679 224.64 \nL 262.262679 130.561572 \nL 223.999821 130.561572 \nz\n\" style=\"fill:#c03d3e;\"/>\n   </g>\n   <g id=\"patch_7\">\n    <path clip-path=\"url(#p5c2e85bdd9)\" d=\"M 271.828393 224.64 \nL 310.09125 224.64 \nL 310.09125 82.706934 \nL 271.828393 82.706934 \nz\n\" style=\"fill:#9372b2;\"/>\n   </g>\n   <g id=\"patch_8\">\n    <path clip-path=\"url(#p5c2e85bdd9)\" d=\"M 319.656964 224.64 \nL 357.919821 224.64 \nL 357.919821 101.615479 \nL 319.656964 101.615479 \nz\n\" style=\"fill:#845b53;\"/>\n   </g>\n   <g id=\"patch_9\">\n    <path clip-path=\"url(#p5c2e85bdd9)\" d=\"M 367.485536 224.64 \nL 405.748393 224.64 \nL 405.748393 198.414405 \nL 367.485536 198.414405 \nz\n\" style=\"fill:#d684bd;\"/>\n   </g>\n   <g id=\"matplotlib.axis_1\">\n    <g id=\"xtick_1\">\n     <g id=\"line2d_1\">\n      <defs>\n       <path d=\"M 0 0 \nL 0 3.5 \n\" id=\"m4f10559ef9\" style=\"stroke:#000000;stroke-width:0.8;\"/>\n      </defs>\n      <g>\n       <use style=\"stroke:#000000;stroke-width:0.8;\" x=\"99.645536\" xlink:href=\"#m4f10559ef9\" y=\"224.64\"/>\n      </g>\n     </g>\n     <g id=\"text_1\">\n      <!-- Hot -->\n      <defs>\n       <path d=\"M 9.8125 72.90625 \nL 19.671875 72.90625 \nL 19.671875 43.015625 \nL 55.515625 43.015625 \nL 55.515625 72.90625 \nL 65.375 72.90625 \nL 65.375 0 \nL 55.515625 0 \nL 55.515625 34.71875 \nL 19.671875 34.71875 \nL 19.671875 0 \nL 9.8125 0 \nz\n\" id=\"DejaVuSans-72\"/>\n       <path d=\"M 30.609375 48.390625 \nQ 23.390625 48.390625 19.1875 42.75 \nQ 14.984375 37.109375 14.984375 27.296875 \nQ 14.984375 17.484375 19.15625 11.84375 \nQ 23.34375 6.203125 30.609375 6.203125 \nQ 37.796875 6.203125 41.984375 11.859375 \nQ 46.1875 17.53125 46.1875 27.296875 \nQ 46.1875 37.015625 41.984375 42.703125 \nQ 37.796875 48.390625 30.609375 48.390625 \nz\nM 30.609375 56 \nQ 42.328125 56 49.015625 48.375 \nQ 55.71875 40.765625 55.71875 27.296875 \nQ 55.71875 13.875 49.015625 6.21875 \nQ 42.328125 -1.421875 30.609375 -1.421875 \nQ 18.84375 -1.421875 12.171875 6.21875 \nQ 5.515625 13.875 5.515625 27.296875 \nQ 5.515625 40.765625 12.171875 48.375 \nQ 18.84375 56 30.609375 56 \nz\n\" id=\"DejaVuSans-111\"/>\n       <path d=\"M 18.3125 70.21875 \nL 18.3125 54.6875 \nL 36.8125 54.6875 \nL 36.8125 47.703125 \nL 18.3125 47.703125 \nL 18.3125 18.015625 \nQ 18.3125 11.328125 20.140625 9.421875 \nQ 21.96875 7.515625 27.59375 7.515625 \nL 36.8125 7.515625 \nL 36.8125 0 \nL 27.59375 0 \nQ 17.1875 0 13.234375 3.875 \nQ 9.28125 7.765625 9.28125 18.015625 \nL 9.28125 47.703125 \nL 2.6875 47.703125 \nL 2.6875 54.6875 \nL 9.28125 54.6875 \nL 9.28125 70.21875 \nz\n\" id=\"DejaVuSans-116\"/>\n      </defs>\n      <g transform=\"translate(90.865848 239.238437)scale(0.1 -0.1)\">\n       <use xlink:href=\"#DejaVuSans-72\"/>\n       <use x=\"75.195312\" xlink:href=\"#DejaVuSans-111\"/>\n       <use x=\"136.376953\" xlink:href=\"#DejaVuSans-116\"/>\n      </g>\n     </g>\n    </g>\n    <g id=\"xtick_2\">\n     <g id=\"line2d_2\">\n      <g>\n       <use style=\"stroke:#000000;stroke-width:0.8;\" x=\"147.474107\" xlink:href=\"#m4f10559ef9\" y=\"224.64\"/>\n      </g>\n     </g>\n     <g id=\"text_2\">\n      <!-- Warm -->\n      <defs>\n       <path d=\"M 3.328125 72.90625 \nL 13.28125 72.90625 \nL 28.609375 11.28125 \nL 43.890625 72.90625 \nL 54.984375 72.90625 \nL 70.3125 11.28125 \nL 85.59375 72.90625 \nL 95.609375 72.90625 \nL 77.296875 0 \nL 64.890625 0 \nL 49.515625 63.28125 \nL 33.984375 0 \nL 21.578125 0 \nz\n\" id=\"DejaVuSans-87\"/>\n       <path d=\"M 34.28125 27.484375 \nQ 23.390625 27.484375 19.1875 25 \nQ 14.984375 22.515625 14.984375 16.5 \nQ 14.984375 11.71875 18.140625 8.90625 \nQ 21.296875 6.109375 26.703125 6.109375 \nQ 34.1875 6.109375 38.703125 11.40625 \nQ 43.21875 16.703125 43.21875 25.484375 \nL 43.21875 27.484375 \nz\nM 52.203125 31.203125 \nL 52.203125 0 \nL 43.21875 0 \nL 43.21875 8.296875 \nQ 40.140625 3.328125 35.546875 0.953125 \nQ 30.953125 -1.421875 24.3125 -1.421875 \nQ 15.921875 -1.421875 10.953125 3.296875 \nQ 6 8.015625 6 15.921875 \nQ 6 25.140625 12.171875 29.828125 \nQ 18.359375 34.515625 30.609375 34.515625 \nL 43.21875 34.515625 \nL 43.21875 35.40625 \nQ 43.21875 41.609375 39.140625 45 \nQ 35.0625 48.390625 27.6875 48.390625 \nQ 23 48.390625 18.546875 47.265625 \nQ 14.109375 46.140625 10.015625 43.890625 \nL 10.015625 52.203125 \nQ 14.9375 54.109375 19.578125 55.046875 \nQ 24.21875 56 28.609375 56 \nQ 40.484375 56 46.34375 49.84375 \nQ 52.203125 43.703125 52.203125 31.203125 \nz\n\" id=\"DejaVuSans-97\"/>\n       <path d=\"M 41.109375 46.296875 \nQ 39.59375 47.171875 37.8125 47.578125 \nQ 36.03125 48 33.890625 48 \nQ 26.265625 48 22.1875 43.046875 \nQ 18.109375 38.09375 18.109375 28.8125 \nL 18.109375 0 \nL 9.078125 0 \nL 9.078125 54.6875 \nL 18.109375 54.6875 \nL 18.109375 46.1875 \nQ 20.953125 51.171875 25.484375 53.578125 \nQ 30.03125 56 36.53125 56 \nQ 37.453125 56 38.578125 55.875 \nQ 39.703125 55.765625 41.0625 55.515625 \nz\n\" id=\"DejaVuSans-114\"/>\n       <path d=\"M 52 44.1875 \nQ 55.375 50.25 60.0625 53.125 \nQ 64.75 56 71.09375 56 \nQ 79.640625 56 84.28125 50.015625 \nQ 88.921875 44.046875 88.921875 33.015625 \nL 88.921875 0 \nL 79.890625 0 \nL 79.890625 32.71875 \nQ 79.890625 40.578125 77.09375 44.375 \nQ 74.3125 48.1875 68.609375 48.1875 \nQ 61.625 48.1875 57.5625 43.546875 \nQ 53.515625 38.921875 53.515625 30.90625 \nL 53.515625 0 \nL 44.484375 0 \nL 44.484375 32.71875 \nQ 44.484375 40.625 41.703125 44.40625 \nQ 38.921875 48.1875 33.109375 48.1875 \nQ 26.21875 48.1875 22.15625 43.53125 \nQ 18.109375 38.875 18.109375 30.90625 \nL 18.109375 0 \nL 9.078125 0 \nL 9.078125 54.6875 \nL 18.109375 54.6875 \nL 18.109375 46.1875 \nQ 21.1875 51.21875 25.484375 53.609375 \nQ 29.78125 56 35.6875 56 \nQ 41.65625 56 45.828125 52.96875 \nQ 50 49.953125 52 44.1875 \nz\n\" id=\"DejaVuSans-109\"/>\n      </defs>\n      <g transform=\"translate(132.545982 239.238437)scale(0.1 -0.1)\">\n       <use xlink:href=\"#DejaVuSans-87\"/>\n       <use x=\"98.783203\" xlink:href=\"#DejaVuSans-97\"/>\n       <use x=\"160.0625\" xlink:href=\"#DejaVuSans-114\"/>\n       <use x=\"201.160156\" xlink:href=\"#DejaVuSans-109\"/>\n      </g>\n     </g>\n    </g>\n    <g id=\"xtick_3\">\n     <g id=\"line2d_3\">\n      <g>\n       <use style=\"stroke:#000000;stroke-width:0.8;\" x=\"195.302679\" xlink:href=\"#m4f10559ef9\" y=\"224.64\"/>\n      </g>\n     </g>\n     <g id=\"text_3\">\n      <!-- Freezing -->\n      <defs>\n       <path d=\"M 9.8125 72.90625 \nL 51.703125 72.90625 \nL 51.703125 64.59375 \nL 19.671875 64.59375 \nL 19.671875 43.109375 \nL 48.578125 43.109375 \nL 48.578125 34.8125 \nL 19.671875 34.8125 \nL 19.671875 0 \nL 9.8125 0 \nz\n\" id=\"DejaVuSans-70\"/>\n       <path d=\"M 56.203125 29.59375 \nL 56.203125 25.203125 \nL 14.890625 25.203125 \nQ 15.484375 15.921875 20.484375 11.0625 \nQ 25.484375 6.203125 34.421875 6.203125 \nQ 39.59375 6.203125 44.453125 7.46875 \nQ 49.3125 8.734375 54.109375 11.28125 \nL 54.109375 2.78125 \nQ 49.265625 0.734375 44.1875 -0.34375 \nQ 39.109375 -1.421875 33.890625 -1.421875 \nQ 20.796875 -1.421875 13.15625 6.1875 \nQ 5.515625 13.8125 5.515625 26.8125 \nQ 5.515625 40.234375 12.765625 48.109375 \nQ 20.015625 56 32.328125 56 \nQ 43.359375 56 49.78125 48.890625 \nQ 56.203125 41.796875 56.203125 29.59375 \nz\nM 47.21875 32.234375 \nQ 47.125 39.59375 43.09375 43.984375 \nQ 39.0625 48.390625 32.421875 48.390625 \nQ 24.90625 48.390625 20.390625 44.140625 \nQ 15.875 39.890625 15.1875 32.171875 \nz\n\" id=\"DejaVuSans-101\"/>\n       <path d=\"M 5.515625 54.6875 \nL 48.1875 54.6875 \nL 48.1875 46.484375 \nL 14.40625 7.171875 \nL 48.1875 7.171875 \nL 48.1875 0 \nL 4.296875 0 \nL 4.296875 8.203125 \nL 38.09375 47.515625 \nL 5.515625 47.515625 \nz\n\" id=\"DejaVuSans-122\"/>\n       <path d=\"M 9.421875 54.6875 \nL 18.40625 54.6875 \nL 18.40625 0 \nL 9.421875 0 \nz\nM 9.421875 75.984375 \nL 18.40625 75.984375 \nL 18.40625 64.59375 \nL 9.421875 64.59375 \nz\n\" id=\"DejaVuSans-105\"/>\n       <path d=\"M 54.890625 33.015625 \nL 54.890625 0 \nL 45.90625 0 \nL 45.90625 32.71875 \nQ 45.90625 40.484375 42.875 44.328125 \nQ 39.84375 48.1875 33.796875 48.1875 \nQ 26.515625 48.1875 22.3125 43.546875 \nQ 18.109375 38.921875 18.109375 30.90625 \nL 18.109375 0 \nL 9.078125 0 \nL 9.078125 54.6875 \nL 18.109375 54.6875 \nL 18.109375 46.1875 \nQ 21.34375 51.125 25.703125 53.5625 \nQ 30.078125 56 35.796875 56 \nQ 45.21875 56 50.046875 50.171875 \nQ 54.890625 44.34375 54.890625 33.015625 \nz\n\" id=\"DejaVuSans-110\"/>\n       <path d=\"M 45.40625 27.984375 \nQ 45.40625 37.75 41.375 43.109375 \nQ 37.359375 48.484375 30.078125 48.484375 \nQ 22.859375 48.484375 18.828125 43.109375 \nQ 14.796875 37.75 14.796875 27.984375 \nQ 14.796875 18.265625 18.828125 12.890625 \nQ 22.859375 7.515625 30.078125 7.515625 \nQ 37.359375 7.515625 41.375 12.890625 \nQ 45.40625 18.265625 45.40625 27.984375 \nz\nM 54.390625 6.78125 \nQ 54.390625 -7.171875 48.1875 -13.984375 \nQ 42 -20.796875 29.203125 -20.796875 \nQ 24.46875 -20.796875 20.265625 -20.09375 \nQ 16.0625 -19.390625 12.109375 -17.921875 \nL 12.109375 -9.1875 \nQ 16.0625 -11.328125 19.921875 -12.34375 \nQ 23.78125 -13.375 27.78125 -13.375 \nQ 36.625 -13.375 41.015625 -8.765625 \nQ 45.40625 -4.15625 45.40625 5.171875 \nL 45.40625 9.625 \nQ 42.625 4.78125 38.28125 2.390625 \nQ 33.9375 0 27.875 0 \nQ 17.828125 0 11.671875 7.65625 \nQ 5.515625 15.328125 5.515625 27.984375 \nQ 5.515625 40.671875 11.671875 48.328125 \nQ 17.828125 56 27.875 56 \nQ 33.9375 56 38.28125 53.609375 \nQ 42.625 51.21875 45.40625 46.390625 \nL 45.40625 54.6875 \nL 54.390625 54.6875 \nz\n\" id=\"DejaVuSans-103\"/>\n      </defs>\n      <g transform=\"translate(173.869085 239.238437)scale(0.1 -0.1)\">\n       <use xlink:href=\"#DejaVuSans-70\"/>\n       <use x=\"57.410156\" xlink:href=\"#DejaVuSans-114\"/>\n       <use x=\"98.492188\" xlink:href=\"#DejaVuSans-101\"/>\n       <use x=\"160.015625\" xlink:href=\"#DejaVuSans-101\"/>\n       <use x=\"221.539062\" xlink:href=\"#DejaVuSans-122\"/>\n       <use x=\"274.029297\" xlink:href=\"#DejaVuSans-105\"/>\n       <use x=\"301.8125\" xlink:href=\"#DejaVuSans-110\"/>\n       <use x=\"365.191406\" xlink:href=\"#DejaVuSans-103\"/>\n      </g>\n     </g>\n    </g>\n    <g id=\"xtick_4\">\n     <g id=\"line2d_4\">\n      <g>\n       <use style=\"stroke:#000000;stroke-width:0.8;\" x=\"243.13125\" xlink:href=\"#m4f10559ef9\" y=\"224.64\"/>\n      </g>\n     </g>\n     <g id=\"text_4\">\n      <!-- Lava Hot -->\n      <defs>\n       <path d=\"M 9.8125 72.90625 \nL 19.671875 72.90625 \nL 19.671875 8.296875 \nL 55.171875 8.296875 \nL 55.171875 0 \nL 9.8125 0 \nz\n\" id=\"DejaVuSans-76\"/>\n       <path d=\"M 2.984375 54.6875 \nL 12.5 54.6875 \nL 29.59375 8.796875 \nL 46.6875 54.6875 \nL 56.203125 54.6875 \nL 35.6875 0 \nL 23.484375 0 \nz\n\" id=\"DejaVuSans-118\"/>\n       <path id=\"DejaVuSans-32\"/>\n      </defs>\n      <g transform=\"translate(220.889063 239.238437)scale(0.1 -0.1)\">\n       <use xlink:href=\"#DejaVuSans-76\"/>\n       <use x=\"55.712891\" xlink:href=\"#DejaVuSans-97\"/>\n       <use x=\"116.992188\" xlink:href=\"#DejaVuSans-118\"/>\n       <use x=\"176.171875\" xlink:href=\"#DejaVuSans-97\"/>\n       <use x=\"237.451172\" xlink:href=\"#DejaVuSans-32\"/>\n       <use x=\"269.238281\" xlink:href=\"#DejaVuSans-72\"/>\n       <use x=\"344.433594\" xlink:href=\"#DejaVuSans-111\"/>\n       <use x=\"405.615234\" xlink:href=\"#DejaVuSans-116\"/>\n      </g>\n     </g>\n    </g>\n    <g id=\"xtick_5\">\n     <g id=\"line2d_5\">\n      <g>\n       <use style=\"stroke:#000000;stroke-width:0.8;\" x=\"290.959821\" xlink:href=\"#m4f10559ef9\" y=\"224.64\"/>\n      </g>\n     </g>\n     <g id=\"text_5\">\n      <!-- Cold -->\n      <defs>\n       <path d=\"M 64.40625 67.28125 \nL 64.40625 56.890625 \nQ 59.421875 61.53125 53.78125 63.8125 \nQ 48.140625 66.109375 41.796875 66.109375 \nQ 29.296875 66.109375 22.65625 58.46875 \nQ 16.015625 50.828125 16.015625 36.375 \nQ 16.015625 21.96875 22.65625 14.328125 \nQ 29.296875 6.6875 41.796875 6.6875 \nQ 48.140625 6.6875 53.78125 8.984375 \nQ 59.421875 11.28125 64.40625 15.921875 \nL 64.40625 5.609375 \nQ 59.234375 2.09375 53.4375 0.328125 \nQ 47.65625 -1.421875 41.21875 -1.421875 \nQ 24.65625 -1.421875 15.125 8.703125 \nQ 5.609375 18.84375 5.609375 36.375 \nQ 5.609375 53.953125 15.125 64.078125 \nQ 24.65625 74.21875 41.21875 74.21875 \nQ 47.75 74.21875 53.53125 72.484375 \nQ 59.328125 70.75 64.40625 67.28125 \nz\n\" id=\"DejaVuSans-67\"/>\n       <path d=\"M 9.421875 75.984375 \nL 18.40625 75.984375 \nL 18.40625 0 \nL 9.421875 0 \nz\n\" id=\"DejaVuSans-108\"/>\n       <path d=\"M 45.40625 46.390625 \nL 45.40625 75.984375 \nL 54.390625 75.984375 \nL 54.390625 0 \nL 45.40625 0 \nL 45.40625 8.203125 \nQ 42.578125 3.328125 38.25 0.953125 \nQ 33.9375 -1.421875 27.875 -1.421875 \nQ 17.96875 -1.421875 11.734375 6.484375 \nQ 5.515625 14.40625 5.515625 27.296875 \nQ 5.515625 40.1875 11.734375 48.09375 \nQ 17.96875 56 27.875 56 \nQ 33.9375 56 38.25 53.625 \nQ 42.578125 51.265625 45.40625 46.390625 \nz\nM 14.796875 27.296875 \nQ 14.796875 17.390625 18.875 11.75 \nQ 22.953125 6.109375 30.078125 6.109375 \nQ 37.203125 6.109375 41.296875 11.75 \nQ 45.40625 17.390625 45.40625 27.296875 \nQ 45.40625 37.203125 41.296875 42.84375 \nQ 37.203125 48.484375 30.078125 48.484375 \nQ 22.953125 48.484375 18.875 42.84375 \nQ 14.796875 37.203125 14.796875 27.296875 \nz\n\" id=\"DejaVuSans-100\"/>\n      </defs>\n      <g transform=\"translate(279.845759 239.238437)scale(0.1 -0.1)\">\n       <use xlink:href=\"#DejaVuSans-67\"/>\n       <use x=\"69.824219\" xlink:href=\"#DejaVuSans-111\"/>\n       <use x=\"131.005859\" xlink:href=\"#DejaVuSans-108\"/>\n       <use x=\"158.789062\" xlink:href=\"#DejaVuSans-100\"/>\n      </g>\n     </g>\n    </g>\n    <g id=\"xtick_6\">\n     <g id=\"line2d_6\">\n      <g>\n       <use style=\"stroke:#000000;stroke-width:0.8;\" x=\"338.788393\" xlink:href=\"#m4f10559ef9\" y=\"224.64\"/>\n      </g>\n     </g>\n     <g id=\"text_6\">\n      <!-- Boiling Hot -->\n      <defs>\n       <path d=\"M 19.671875 34.8125 \nL 19.671875 8.109375 \nL 35.5 8.109375 \nQ 43.453125 8.109375 47.28125 11.40625 \nQ 51.125 14.703125 51.125 21.484375 \nQ 51.125 28.328125 47.28125 31.5625 \nQ 43.453125 34.8125 35.5 34.8125 \nz\nM 19.671875 64.796875 \nL 19.671875 42.828125 \nL 34.28125 42.828125 \nQ 41.5 42.828125 45.03125 45.53125 \nQ 48.578125 48.25 48.578125 53.8125 \nQ 48.578125 59.328125 45.03125 62.0625 \nQ 41.5 64.796875 34.28125 64.796875 \nz\nM 9.8125 72.90625 \nL 35.015625 72.90625 \nQ 46.296875 72.90625 52.390625 68.21875 \nQ 58.5 63.53125 58.5 54.890625 \nQ 58.5 48.1875 55.375 44.234375 \nQ 52.25 40.28125 46.1875 39.3125 \nQ 53.46875 37.75 57.5 32.78125 \nQ 61.53125 27.828125 61.53125 20.40625 \nQ 61.53125 10.640625 54.890625 5.3125 \nQ 48.25 0 35.984375 0 \nL 9.8125 0 \nz\n\" id=\"DejaVuSans-66\"/>\n      </defs>\n      <g transform=\"translate(311.419643 239.238437)scale(0.1 -0.1)\">\n       <use xlink:href=\"#DejaVuSans-66\"/>\n       <use x=\"68.603516\" xlink:href=\"#DejaVuSans-111\"/>\n       <use x=\"129.785156\" xlink:href=\"#DejaVuSans-105\"/>\n       <use x=\"157.568359\" xlink:href=\"#DejaVuSans-108\"/>\n       <use x=\"185.351562\" xlink:href=\"#DejaVuSans-105\"/>\n       <use x=\"213.134766\" xlink:href=\"#DejaVuSans-110\"/>\n       <use x=\"276.513672\" xlink:href=\"#DejaVuSans-103\"/>\n       <use x=\"339.990234\" xlink:href=\"#DejaVuSans-32\"/>\n       <use x=\"371.777344\" xlink:href=\"#DejaVuSans-72\"/>\n       <use x=\"446.972656\" xlink:href=\"#DejaVuSans-111\"/>\n       <use x=\"508.154297\" xlink:href=\"#DejaVuSans-116\"/>\n      </g>\n     </g>\n    </g>\n    <g id=\"xtick_7\">\n     <g id=\"line2d_7\">\n      <g>\n       <use style=\"stroke:#000000;stroke-width:0.8;\" x=\"386.616964\" xlink:href=\"#m4f10559ef9\" y=\"224.64\"/>\n      </g>\n     </g>\n     <g id=\"text_7\">\n      <!-- NONE -->\n      <defs>\n       <path d=\"M 9.8125 72.90625 \nL 23.09375 72.90625 \nL 55.421875 11.921875 \nL 55.421875 72.90625 \nL 64.984375 72.90625 \nL 64.984375 0 \nL 51.703125 0 \nL 19.390625 60.984375 \nL 19.390625 0 \nL 9.8125 0 \nz\n\" id=\"DejaVuSans-78\"/>\n       <path d=\"M 39.40625 66.21875 \nQ 28.65625 66.21875 22.328125 58.203125 \nQ 16.015625 50.203125 16.015625 36.375 \nQ 16.015625 22.609375 22.328125 14.59375 \nQ 28.65625 6.59375 39.40625 6.59375 \nQ 50.140625 6.59375 56.421875 14.59375 \nQ 62.703125 22.609375 62.703125 36.375 \nQ 62.703125 50.203125 56.421875 58.203125 \nQ 50.140625 66.21875 39.40625 66.21875 \nz\nM 39.40625 74.21875 \nQ 54.734375 74.21875 63.90625 63.9375 \nQ 73.09375 53.65625 73.09375 36.375 \nQ 73.09375 19.140625 63.90625 8.859375 \nQ 54.734375 -1.421875 39.40625 -1.421875 \nQ 24.03125 -1.421875 14.8125 8.828125 \nQ 5.609375 19.09375 5.609375 36.375 \nQ 5.609375 53.65625 14.8125 63.9375 \nQ 24.03125 74.21875 39.40625 74.21875 \nz\n\" id=\"DejaVuSans-79\"/>\n       <path d=\"M 9.8125 72.90625 \nL 55.90625 72.90625 \nL 55.90625 64.59375 \nL 19.671875 64.59375 \nL 19.671875 43.015625 \nL 54.390625 43.015625 \nL 54.390625 34.71875 \nL 19.671875 34.71875 \nL 19.671875 8.296875 \nL 56.78125 8.296875 \nL 56.78125 0 \nL 9.8125 0 \nz\n\" id=\"DejaVuSans-69\"/>\n      </defs>\n      <g transform=\"translate(372.040402 239.238437)scale(0.1 -0.1)\">\n       <use xlink:href=\"#DejaVuSans-78\"/>\n       <use x=\"74.804688\" xlink:href=\"#DejaVuSans-79\"/>\n       <use x=\"153.515625\" xlink:href=\"#DejaVuSans-78\"/>\n       <use x=\"228.320312\" xlink:href=\"#DejaVuSans-69\"/>\n      </g>\n     </g>\n    </g>\n    <g id=\"text_8\">\n     <!-- label -->\n     <defs>\n      <path d=\"M 48.6875 27.296875 \nQ 48.6875 37.203125 44.609375 42.84375 \nQ 40.53125 48.484375 33.40625 48.484375 \nQ 26.265625 48.484375 22.1875 42.84375 \nQ 18.109375 37.203125 18.109375 27.296875 \nQ 18.109375 17.390625 22.1875 11.75 \nQ 26.265625 6.109375 33.40625 6.109375 \nQ 40.53125 6.109375 44.609375 11.75 \nQ 48.6875 17.390625 48.6875 27.296875 \nz\nM 18.109375 46.390625 \nQ 20.953125 51.265625 25.265625 53.625 \nQ 29.59375 56 35.59375 56 \nQ 45.5625 56 51.78125 48.09375 \nQ 58.015625 40.1875 58.015625 27.296875 \nQ 58.015625 14.40625 51.78125 6.484375 \nQ 45.5625 -1.421875 35.59375 -1.421875 \nQ 29.59375 -1.421875 25.265625 0.953125 \nQ 20.953125 3.328125 18.109375 8.203125 \nL 18.109375 0 \nL 9.078125 0 \nL 9.078125 75.984375 \nL 18.109375 75.984375 \nz\n\" id=\"DejaVuSans-98\"/>\n     </defs>\n     <g transform=\"translate(218.945313 260.515)scale(0.2 -0.2)\">\n      <use xlink:href=\"#DejaVuSans-108\"/>\n      <use x=\"27.783203\" xlink:href=\"#DejaVuSans-97\"/>\n      <use x=\"89.0625\" xlink:href=\"#DejaVuSans-98\"/>\n      <use x=\"152.539062\" xlink:href=\"#DejaVuSans-101\"/>\n      <use x=\"214.0625\" xlink:href=\"#DejaVuSans-108\"/>\n     </g>\n    </g>\n   </g>\n   <g id=\"matplotlib.axis_2\">\n    <g id=\"ytick_1\">\n     <g id=\"line2d_8\">\n      <defs>\n       <path d=\"M 0 0 \nL -3.5 0 \n\" id=\"m8d37698292\" style=\"stroke:#000000;stroke-width:0.8;\"/>\n      </defs>\n      <g>\n       <use style=\"stroke:#000000;stroke-width:0.8;\" x=\"75.73125\" xlink:href=\"#m8d37698292\" y=\"224.64\"/>\n      </g>\n     </g>\n     <g id=\"text_9\">\n      <!-- 0 -->\n      <defs>\n       <path d=\"M 31.78125 66.40625 \nQ 24.171875 66.40625 20.328125 58.90625 \nQ 16.5 51.421875 16.5 36.375 \nQ 16.5 21.390625 20.328125 13.890625 \nQ 24.171875 6.390625 31.78125 6.390625 \nQ 39.453125 6.390625 43.28125 13.890625 \nQ 47.125 21.390625 47.125 36.375 \nQ 47.125 51.421875 43.28125 58.90625 \nQ 39.453125 66.40625 31.78125 66.40625 \nz\nM 31.78125 74.21875 \nQ 44.046875 74.21875 50.515625 64.515625 \nQ 56.984375 54.828125 56.984375 36.375 \nQ 56.984375 17.96875 50.515625 8.265625 \nQ 44.046875 -1.421875 31.78125 -1.421875 \nQ 19.53125 -1.421875 13.0625 8.265625 \nQ 6.59375 17.96875 6.59375 36.375 \nQ 6.59375 54.828125 13.0625 64.515625 \nQ 19.53125 74.21875 31.78125 74.21875 \nz\n\" id=\"DejaVuSans-48\"/>\n      </defs>\n      <g transform=\"translate(62.36875 228.439219)scale(0.1 -0.1)\">\n       <use xlink:href=\"#DejaVuSans-48\"/>\n      </g>\n     </g>\n    </g>\n    <g id=\"ytick_2\">\n     <g id=\"line2d_9\">\n      <g>\n       <use style=\"stroke:#000000;stroke-width:0.8;\" x=\"75.73125\" xlink:href=\"#m8d37698292\" y=\"195.621361\"/>\n      </g>\n     </g>\n     <g id=\"text_10\">\n      <!-- 20000 -->\n      <defs>\n       <path d=\"M 19.1875 8.296875 \nL 53.609375 8.296875 \nL 53.609375 0 \nL 7.328125 0 \nL 7.328125 8.296875 \nQ 12.9375 14.109375 22.625 23.890625 \nQ 32.328125 33.6875 34.8125 36.53125 \nQ 39.546875 41.84375 41.421875 45.53125 \nQ 43.3125 49.21875 43.3125 52.78125 \nQ 43.3125 58.59375 39.234375 62.25 \nQ 35.15625 65.921875 28.609375 65.921875 \nQ 23.96875 65.921875 18.8125 64.3125 \nQ 13.671875 62.703125 7.8125 59.421875 \nL 7.8125 69.390625 \nQ 13.765625 71.78125 18.9375 73 \nQ 24.125 74.21875 28.421875 74.21875 \nQ 39.75 74.21875 46.484375 68.546875 \nQ 53.21875 62.890625 53.21875 53.421875 \nQ 53.21875 48.921875 51.53125 44.890625 \nQ 49.859375 40.875 45.40625 35.40625 \nQ 44.1875 33.984375 37.640625 27.21875 \nQ 31.109375 20.453125 19.1875 8.296875 \nz\n\" id=\"DejaVuSans-50\"/>\n      </defs>\n      <g transform=\"translate(36.91875 199.42058)scale(0.1 -0.1)\">\n       <use xlink:href=\"#DejaVuSans-50\"/>\n       <use x=\"63.623047\" xlink:href=\"#DejaVuSans-48\"/>\n       <use x=\"127.246094\" xlink:href=\"#DejaVuSans-48\"/>\n       <use x=\"190.869141\" xlink:href=\"#DejaVuSans-48\"/>\n       <use x=\"254.492188\" xlink:href=\"#DejaVuSans-48\"/>\n      </g>\n     </g>\n    </g>\n    <g id=\"ytick_3\">\n     <g id=\"line2d_10\">\n      <g>\n       <use style=\"stroke:#000000;stroke-width:0.8;\" x=\"75.73125\" xlink:href=\"#m8d37698292\" y=\"166.602722\"/>\n      </g>\n     </g>\n     <g id=\"text_11\">\n      <!-- 40000 -->\n      <defs>\n       <path d=\"M 37.796875 64.3125 \nL 12.890625 25.390625 \nL 37.796875 25.390625 \nz\nM 35.203125 72.90625 \nL 47.609375 72.90625 \nL 47.609375 25.390625 \nL 58.015625 25.390625 \nL 58.015625 17.1875 \nL 47.609375 17.1875 \nL 47.609375 0 \nL 37.796875 0 \nL 37.796875 17.1875 \nL 4.890625 17.1875 \nL 4.890625 26.703125 \nz\n\" id=\"DejaVuSans-52\"/>\n      </defs>\n      <g transform=\"translate(36.91875 170.401941)scale(0.1 -0.1)\">\n       <use xlink:href=\"#DejaVuSans-52\"/>\n       <use x=\"63.623047\" xlink:href=\"#DejaVuSans-48\"/>\n       <use x=\"127.246094\" xlink:href=\"#DejaVuSans-48\"/>\n       <use x=\"190.869141\" xlink:href=\"#DejaVuSans-48\"/>\n       <use x=\"254.492188\" xlink:href=\"#DejaVuSans-48\"/>\n      </g>\n     </g>\n    </g>\n    <g id=\"ytick_4\">\n     <g id=\"line2d_11\">\n      <g>\n       <use style=\"stroke:#000000;stroke-width:0.8;\" x=\"75.73125\" xlink:href=\"#m8d37698292\" y=\"137.584083\"/>\n      </g>\n     </g>\n     <g id=\"text_12\">\n      <!-- 60000 -->\n      <defs>\n       <path d=\"M 33.015625 40.375 \nQ 26.375 40.375 22.484375 35.828125 \nQ 18.609375 31.296875 18.609375 23.390625 \nQ 18.609375 15.53125 22.484375 10.953125 \nQ 26.375 6.390625 33.015625 6.390625 \nQ 39.65625 6.390625 43.53125 10.953125 \nQ 47.40625 15.53125 47.40625 23.390625 \nQ 47.40625 31.296875 43.53125 35.828125 \nQ 39.65625 40.375 33.015625 40.375 \nz\nM 52.59375 71.296875 \nL 52.59375 62.3125 \nQ 48.875 64.0625 45.09375 64.984375 \nQ 41.3125 65.921875 37.59375 65.921875 \nQ 27.828125 65.921875 22.671875 59.328125 \nQ 17.53125 52.734375 16.796875 39.40625 \nQ 19.671875 43.65625 24.015625 45.921875 \nQ 28.375 48.1875 33.59375 48.1875 \nQ 44.578125 48.1875 50.953125 41.515625 \nQ 57.328125 34.859375 57.328125 23.390625 \nQ 57.328125 12.15625 50.6875 5.359375 \nQ 44.046875 -1.421875 33.015625 -1.421875 \nQ 20.359375 -1.421875 13.671875 8.265625 \nQ 6.984375 17.96875 6.984375 36.375 \nQ 6.984375 53.65625 15.1875 63.9375 \nQ 23.390625 74.21875 37.203125 74.21875 \nQ 40.921875 74.21875 44.703125 73.484375 \nQ 48.484375 72.75 52.59375 71.296875 \nz\n\" id=\"DejaVuSans-54\"/>\n      </defs>\n      <g transform=\"translate(36.91875 141.383301)scale(0.1 -0.1)\">\n       <use xlink:href=\"#DejaVuSans-54\"/>\n       <use x=\"63.623047\" xlink:href=\"#DejaVuSans-48\"/>\n       <use x=\"127.246094\" xlink:href=\"#DejaVuSans-48\"/>\n       <use x=\"190.869141\" xlink:href=\"#DejaVuSans-48\"/>\n       <use x=\"254.492188\" xlink:href=\"#DejaVuSans-48\"/>\n      </g>\n     </g>\n    </g>\n    <g id=\"ytick_5\">\n     <g id=\"line2d_12\">\n      <g>\n       <use style=\"stroke:#000000;stroke-width:0.8;\" x=\"75.73125\" xlink:href=\"#m8d37698292\" y=\"108.565444\"/>\n      </g>\n     </g>\n     <g id=\"text_13\">\n      <!-- 80000 -->\n      <defs>\n       <path d=\"M 31.78125 34.625 \nQ 24.75 34.625 20.71875 30.859375 \nQ 16.703125 27.09375 16.703125 20.515625 \nQ 16.703125 13.921875 20.71875 10.15625 \nQ 24.75 6.390625 31.78125 6.390625 \nQ 38.8125 6.390625 42.859375 10.171875 \nQ 46.921875 13.96875 46.921875 20.515625 \nQ 46.921875 27.09375 42.890625 30.859375 \nQ 38.875 34.625 31.78125 34.625 \nz\nM 21.921875 38.8125 \nQ 15.578125 40.375 12.03125 44.71875 \nQ 8.5 49.078125 8.5 55.328125 \nQ 8.5 64.0625 14.71875 69.140625 \nQ 20.953125 74.21875 31.78125 74.21875 \nQ 42.671875 74.21875 48.875 69.140625 \nQ 55.078125 64.0625 55.078125 55.328125 \nQ 55.078125 49.078125 51.53125 44.71875 \nQ 48 40.375 41.703125 38.8125 \nQ 48.828125 37.15625 52.796875 32.3125 \nQ 56.78125 27.484375 56.78125 20.515625 \nQ 56.78125 9.90625 50.3125 4.234375 \nQ 43.84375 -1.421875 31.78125 -1.421875 \nQ 19.734375 -1.421875 13.25 4.234375 \nQ 6.78125 9.90625 6.78125 20.515625 \nQ 6.78125 27.484375 10.78125 32.3125 \nQ 14.796875 37.15625 21.921875 38.8125 \nz\nM 18.3125 54.390625 \nQ 18.3125 48.734375 21.84375 45.5625 \nQ 25.390625 42.390625 31.78125 42.390625 \nQ 38.140625 42.390625 41.71875 45.5625 \nQ 45.3125 48.734375 45.3125 54.390625 \nQ 45.3125 60.0625 41.71875 63.234375 \nQ 38.140625 66.40625 31.78125 66.40625 \nQ 25.390625 66.40625 21.84375 63.234375 \nQ 18.3125 60.0625 18.3125 54.390625 \nz\n\" id=\"DejaVuSans-56\"/>\n      </defs>\n      <g transform=\"translate(36.91875 112.364662)scale(0.1 -0.1)\">\n       <use xlink:href=\"#DejaVuSans-56\"/>\n       <use x=\"63.623047\" xlink:href=\"#DejaVuSans-48\"/>\n       <use x=\"127.246094\" xlink:href=\"#DejaVuSans-48\"/>\n       <use x=\"190.869141\" xlink:href=\"#DejaVuSans-48\"/>\n       <use x=\"254.492188\" xlink:href=\"#DejaVuSans-48\"/>\n      </g>\n     </g>\n    </g>\n    <g id=\"ytick_6\">\n     <g id=\"line2d_13\">\n      <g>\n       <use style=\"stroke:#000000;stroke-width:0.8;\" x=\"75.73125\" xlink:href=\"#m8d37698292\" y=\"79.546804\"/>\n      </g>\n     </g>\n     <g id=\"text_14\">\n      <!-- 100000 -->\n      <defs>\n       <path d=\"M 12.40625 8.296875 \nL 28.515625 8.296875 \nL 28.515625 63.921875 \nL 10.984375 60.40625 \nL 10.984375 69.390625 \nL 28.421875 72.90625 \nL 38.28125 72.90625 \nL 38.28125 8.296875 \nL 54.390625 8.296875 \nL 54.390625 0 \nL 12.40625 0 \nz\n\" id=\"DejaVuSans-49\"/>\n      </defs>\n      <g transform=\"translate(30.55625 83.346023)scale(0.1 -0.1)\">\n       <use xlink:href=\"#DejaVuSans-49\"/>\n       <use x=\"63.623047\" xlink:href=\"#DejaVuSans-48\"/>\n       <use x=\"127.246094\" xlink:href=\"#DejaVuSans-48\"/>\n       <use x=\"190.869141\" xlink:href=\"#DejaVuSans-48\"/>\n       <use x=\"254.492188\" xlink:href=\"#DejaVuSans-48\"/>\n       <use x=\"318.115234\" xlink:href=\"#DejaVuSans-48\"/>\n      </g>\n     </g>\n    </g>\n    <g id=\"ytick_7\">\n     <g id=\"line2d_14\">\n      <g>\n       <use style=\"stroke:#000000;stroke-width:0.8;\" x=\"75.73125\" xlink:href=\"#m8d37698292\" y=\"50.528165\"/>\n      </g>\n     </g>\n     <g id=\"text_15\">\n      <!-- 120000 -->\n      <g transform=\"translate(30.55625 54.327384)scale(0.1 -0.1)\">\n       <use xlink:href=\"#DejaVuSans-49\"/>\n       <use x=\"63.623047\" xlink:href=\"#DejaVuSans-50\"/>\n       <use x=\"127.246094\" xlink:href=\"#DejaVuSans-48\"/>\n       <use x=\"190.869141\" xlink:href=\"#DejaVuSans-48\"/>\n       <use x=\"254.492188\" xlink:href=\"#DejaVuSans-48\"/>\n       <use x=\"318.115234\" xlink:href=\"#DejaVuSans-48\"/>\n      </g>\n     </g>\n    </g>\n    <g id=\"ytick_8\">\n     <g id=\"line2d_15\">\n      <g>\n       <use style=\"stroke:#000000;stroke-width:0.8;\" x=\"75.73125\" xlink:href=\"#m8d37698292\" y=\"21.509526\"/>\n      </g>\n     </g>\n     <g id=\"text_16\">\n      <!-- 140000 -->\n      <g transform=\"translate(30.55625 25.308745)scale(0.1 -0.1)\">\n       <use xlink:href=\"#DejaVuSans-49\"/>\n       <use x=\"63.623047\" xlink:href=\"#DejaVuSans-52\"/>\n       <use x=\"127.246094\" xlink:href=\"#DejaVuSans-48\"/>\n       <use x=\"190.869141\" xlink:href=\"#DejaVuSans-48\"/>\n       <use x=\"254.492188\" xlink:href=\"#DejaVuSans-48\"/>\n       <use x=\"318.115234\" xlink:href=\"#DejaVuSans-48\"/>\n      </g>\n     </g>\n    </g>\n    <g id=\"text_17\">\n     <!-- count -->\n     <defs>\n      <path d=\"M 48.78125 52.59375 \nL 48.78125 44.1875 \nQ 44.96875 46.296875 41.140625 47.34375 \nQ 37.3125 48.390625 33.40625 48.390625 \nQ 24.65625 48.390625 19.8125 42.84375 \nQ 14.984375 37.3125 14.984375 27.296875 \nQ 14.984375 17.28125 19.8125 11.734375 \nQ 24.65625 6.203125 33.40625 6.203125 \nQ 37.3125 6.203125 41.140625 7.25 \nQ 44.96875 8.296875 48.78125 10.40625 \nL 48.78125 2.09375 \nQ 45.015625 0.34375 40.984375 -0.53125 \nQ 36.96875 -1.421875 32.421875 -1.421875 \nQ 20.0625 -1.421875 12.78125 6.34375 \nQ 5.515625 14.109375 5.515625 27.296875 \nQ 5.515625 40.671875 12.859375 48.328125 \nQ 20.21875 56 33.015625 56 \nQ 37.15625 56 41.109375 55.140625 \nQ 45.0625 54.296875 48.78125 52.59375 \nz\n\" id=\"DejaVuSans-99\"/>\n      <path d=\"M 8.5 21.578125 \nL 8.5 54.6875 \nL 17.484375 54.6875 \nL 17.484375 21.921875 \nQ 17.484375 14.15625 20.5 10.265625 \nQ 23.53125 6.390625 29.59375 6.390625 \nQ 36.859375 6.390625 41.078125 11.03125 \nQ 45.3125 15.671875 45.3125 23.6875 \nL 45.3125 54.6875 \nL 54.296875 54.6875 \nL 54.296875 0 \nL 45.3125 0 \nL 45.3125 8.40625 \nQ 42.046875 3.421875 37.71875 1 \nQ 33.40625 -1.421875 27.6875 -1.421875 \nQ 18.265625 -1.421875 13.375 4.4375 \nQ 8.5 10.296875 8.5 21.578125 \nz\nM 31.109375 56 \nz\n\" id=\"DejaVuSans-117\"/>\n     </defs>\n     <g transform=\"translate(22.396875 144.1325)rotate(-90)scale(0.2 -0.2)\">\n      <use xlink:href=\"#DejaVuSans-99\"/>\n      <use x=\"54.980469\" xlink:href=\"#DejaVuSans-111\"/>\n      <use x=\"116.162109\" xlink:href=\"#DejaVuSans-117\"/>\n      <use x=\"179.541016\" xlink:href=\"#DejaVuSans-110\"/>\n      <use x=\"242.919922\" xlink:href=\"#DejaVuSans-116\"/>\n     </g>\n    </g>\n   </g>\n   <g id=\"patch_10\">\n    <path d=\"M 75.73125 224.64 \nL 75.73125 7.2 \n\" style=\"fill:none;stroke:#000000;stroke-linecap:square;stroke-linejoin:miter;stroke-width:0.8;\"/>\n   </g>\n   <g id=\"patch_11\">\n    <path d=\"M 410.53125 224.64 \nL 410.53125 7.2 \n\" style=\"fill:none;stroke:#000000;stroke-linecap:square;stroke-linejoin:miter;stroke-width:0.8;\"/>\n   </g>\n   <g id=\"patch_12\">\n    <path d=\"M 75.73125 224.64 \nL 410.53125 224.64 \n\" style=\"fill:none;stroke:#000000;stroke-linecap:square;stroke-linejoin:miter;stroke-width:0.8;\"/>\n   </g>\n   <g id=\"patch_13\">\n    <path d=\"M 75.73125 7.2 \nL 410.53125 7.2 \n\" style=\"fill:none;stroke:#000000;stroke-linecap:square;stroke-linejoin:miter;stroke-width:0.8;\"/>\n   </g>\n  </g>\n </g>\n <defs>\n  <clipPath id=\"p5c2e85bdd9\">\n   <rect height=\"217.44\" width=\"334.8\" x=\"75.73125\" y=\"7.2\"/>\n  </clipPath>\n </defs>\n</svg>\n",
      "image/png": "[encoded data removed]"
     },
     "metadata": {
      "needs_background": "light"
     }
    }
   ],
   "source": [
    "b = sns.countplot(x='ord_2', data=df)\n",
    "b.set_xlabel(\"label\", fontsize=20)\n",
    "b.set_ylabel(\"count\", fontsize=20)"
   ]
  },
  {
   "cell_type": "code",
   "execution_count": 37,
   "metadata": {},
   "outputs": [
    {
     "output_type": "execute_result",
     "data": {
      "text/plain": [
       "Freezing       142726\n",
       "Warm           124239\n",
       "Cold            97822\n",
       "Boiling Hot     84790\n",
       "Hot             67508\n",
       "Lava Hot        64840\n",
       "NONE            18075\n",
       "Name: ord_2, dtype: int64"
      ]
     },
     "metadata": {},
     "execution_count": 37
    }
   ],
   "source": [
    "df.ord_2.value_counts()"
   ]
  },
  {
   "cell_type": "code",
   "execution_count": 38,
   "metadata": {},
   "outputs": [
    {
     "output_type": "execute_result",
     "data": {
      "text/plain": [
       "(600000, 25)"
      ]
     },
     "metadata": {},
     "execution_count": 38
    }
   ],
   "source": [
    "df.shape"
   ]
  },
  {
   "cell_type": "code",
   "execution_count": 39,
   "metadata": {},
   "outputs": [
    {
     "output_type": "execute_result",
     "data": {
      "text/plain": [
       "Freezing       142726\n",
       "Warm           124239\n",
       "Cold            97822\n",
       "Boiling Hot     84790\n",
       "Hot             67508\n",
       "Lava Hot        64840\n",
       "NONE            18075\n",
       "Name: ord_2, dtype: int64"
      ]
     },
     "metadata": {},
     "execution_count": 39
    }
   ],
   "source": [
    "df.ord_2.value_counts()"
   ]
  },
  {
   "cell_type": "code",
   "execution_count": 40,
   "metadata": {},
   "outputs": [],
   "source": [
    "\n",
    "df.ord_4.fillna(\"NONE\", inplace= True)"
   ]
  },
  {
   "cell_type": "code",
   "execution_count": 41,
   "metadata": {},
   "outputs": [
    {
     "output_type": "execute_result",
     "data": {
      "text/plain": [
       "N       39978\n",
       "P       37890\n",
       "Y       36657\n",
       "A       36633\n",
       "R       33045\n",
       "U       32897\n",
       "M       32504\n",
       "X       32347\n",
       "C       32112\n",
       "H       31189\n",
       "Q       30145\n",
       "T       29723\n",
       "O       25610\n",
       "B       25212\n",
       "E       21871\n",
       "K       21676\n",
       "I       19805\n",
       "NONE    17930\n",
       "D       17284\n",
       "F       16721\n",
       "W        8268\n",
       "Z        5790\n",
       "S        4595\n",
       "G        3404\n",
       "V        3107\n",
       "J        1950\n",
       "L        1657\n",
       "Name: ord_4, dtype: int64"
      ]
     },
     "metadata": {},
     "execution_count": 41
    }
   ],
   "source": [
    "df.ord_4.value_counts()"
   ]
  },
  {
   "cell_type": "code",
   "execution_count": 42,
   "metadata": {},
   "outputs": [],
   "source": [
    "#Replace categories in pandas with low number of instances\n",
    "df.loc[df[\"ord_4\"].value_counts()[df[\"ord_4\"]].values < 2000,\"ord_4\"] = \"RARE\""
   ]
  },
  {
   "cell_type": "code",
   "execution_count": 43,
   "metadata": {},
   "outputs": [
    {
     "output_type": "execute_result",
     "data": {
      "text/plain": [
       "N       39978\n",
       "P       37890\n",
       "Y       36657\n",
       "A       36633\n",
       "R       33045\n",
       "U       32897\n",
       "M       32504\n",
       "X       32347\n",
       "C       32112\n",
       "H       31189\n",
       "Q       30145\n",
       "T       29723\n",
       "O       25610\n",
       "B       25212\n",
       "E       21871\n",
       "K       21676\n",
       "I       19805\n",
       "NONE    17930\n",
       "D       17284\n",
       "F       16721\n",
       "W        8268\n",
       "Z        5790\n",
       "S        4595\n",
       "RARE     3607\n",
       "G        3404\n",
       "V        3107\n",
       "Name: ord_4, dtype: int64"
      ]
     },
     "metadata": {},
     "execution_count": 43
    }
   ],
   "source": [
    "df.ord_4.value_counts()"
   ]
  },
  {
   "cell_type": "code",
   "execution_count": 44,
   "metadata": {},
   "outputs": [
    {
     "output_type": "execute_result",
     "data": {
      "text/plain": [
       "    id  bin_0  bin_1  bin_2 bin_3 bin_4  nom_0      nom_1    nom_2  \\\n",
       "0    0    0.0    0.0    0.0     F     N    Red  Trapezoid  Hamster   \n",
       "1    1    1.0    1.0    0.0     F     Y    Red       Star  Axolotl   \n",
       "2    2    0.0    1.0    0.0     F     N    Red        NaN  Hamster   \n",
       "3    3    NaN    0.0    0.0     F     N    Red     Circle  Hamster   \n",
       "4    4    0.0    NaN    0.0     T     N    Red   Triangle  Hamster   \n",
       "5    5    0.0    NaN    1.0     T     N    Red   Triangle     Lion   \n",
       "6    6    0.0    0.0    0.0     F     N    Red   Triangle  Hamster   \n",
       "7    7    0.0    0.0    1.0     T     N    Red   Triangle  Axolotl   \n",
       "8    8    0.0    0.0    0.0     F     N   Blue    Polygon  Hamster   \n",
       "9    9    0.0    0.0    NaN     F     Y    Red    Polygon  Hamster   \n",
       "10  10    0.0    0.0    1.0     T     Y   Blue   Triangle  Hamster   \n",
       "11  11    0.0    0.0    1.0     F     Y    Red     Square  Hamster   \n",
       "12  12    0.0    0.0    0.0     T   NaN    Red     Circle  Axolotl   \n",
       "13  13    0.0    1.0    0.0     F     N   Blue  Trapezoid     Lion   \n",
       "14  14    0.0    0.0    0.0     F     Y    Red    Polygon  Hamster   \n",
       "15  15    1.0    0.0    NaN     F   NaN    Red    Polygon  Hamster   \n",
       "16  16    0.0    0.0    0.0     F     Y    Red   Triangle     Lion   \n",
       "17  17    NaN    1.0    1.0     F     N    Red  Trapezoid  Hamster   \n",
       "18  18    1.0    0.0    0.0     F     Y    Red     Circle  Axolotl   \n",
       "19  19    0.0    1.0    0.0     F     Y    Red   Triangle  Hamster   \n",
       "20  20    0.0    0.0    0.0     T     N   Blue   Triangle      Dog   \n",
       "21  21    1.0    1.0    0.0     F     N    Red   Triangle      Cat   \n",
       "22  22    0.0    0.0    0.0   NaN     N  Green     Circle  Hamster   \n",
       "23  23    0.0    0.0    0.0     T     N    Red    Polygon  Hamster   \n",
       "24  24    0.0    1.0    1.0     F     Y    Red     Circle  Hamster   \n",
       "25  25    0.0    0.0    0.0   NaN     Y   Blue     Circle      Dog   \n",
       "26  26    0.0    1.0    0.0     F     N   Blue     Circle     Lion   \n",
       "27  27    0.0    0.0    0.0     F     N    Red     Circle  Axolotl   \n",
       "28  28    0.0    0.0    0.0     F     N  Green        NaN     Lion   \n",
       "29  29    0.0    NaN    1.0     F     Y   Blue     Square     Lion   \n",
       "\n",
       "         nom_3  ...      nom_9 ord_0        ord_1        ord_2 ord_3 ord_4  \\\n",
       "0       Russia  ...  02e7c8990   3.0  Contributor          Hot     c     U   \n",
       "1          NaN  ...  f37df64af   3.0  Grandmaster         Warm     e     X   \n",
       "2       Canada  ...        NaN   3.0          NaN     Freezing     n     P   \n",
       "3      Finland  ...  f9d456e57   1.0       Novice     Lava Hot     a     C   \n",
       "4   Costa Rica  ...  c5361037c   3.0  Grandmaster         Cold     h     C   \n",
       "5        China  ...  05afc0f8b   2.0       Expert          Hot     b     Q   \n",
       "6   Costa Rica  ...  4d3766412   1.0  Grandmaster         Cold     c     R   \n",
       "7      Finland  ...  a651dec43   3.0       Expert         Cold     b     Y   \n",
       "8       Russia  ...        NaN   1.0       Novice  Boiling Hot     c     N   \n",
       "9      Finland  ...  79b29d54c   3.0  Contributor     Lava Hot     n     I   \n",
       "10     Finland  ...  9bfe3ee22   1.0       Novice          Hot     b     O   \n",
       "11  Costa Rica  ...  6c73b62e4   1.0  Contributor          Hot     b     M   \n",
       "12      Russia  ...  ed7765a22   3.0       Novice     Freezing     a     Y   \n",
       "13  Costa Rica  ...  fb68fb0cf   3.0  Contributor     Lava Hot     h     C   \n",
       "14  Costa Rica  ...  e23161f2e   2.0       Master     Freezing     d     Y   \n",
       "15      Russia  ...  e5260d8ba   2.0  Contributor          Hot     k     P   \n",
       "16  Costa Rica  ...  99f6dca00   1.0       Novice  Boiling Hot     h     E   \n",
       "17      Russia  ...  bc5c8fe51   3.0       Novice         Warm     g     I   \n",
       "18       India  ...  bf2a46c9a   3.0       Master          Hot     h     V   \n",
       "19  Costa Rica  ...  602d7a9af   1.0  Grandmaster  Boiling Hot     n     K   \n",
       "20       India  ...  7df225ca0   3.0       Novice     Freezing     h     E   \n",
       "21      Canada  ...  dfaef9aac   3.0  Contributor          Hot     h     N   \n",
       "22      Canada  ...  7f228b10f   2.0       Master          Hot     k     G   \n",
       "23       India  ...  d7b264c91   1.0       Novice         Warm     n     K   \n",
       "24       India  ...  1bb10e6ca   1.0  Grandmaster  Boiling Hot     b     B   \n",
       "25      Canada  ...  85334bf6e   1.0       Expert         Warm     c     H   \n",
       "26       India  ...  d518a193a   3.0  Grandmaster     Freezing     o     O   \n",
       "27  Costa Rica  ...  1c61b1687   1.0       Novice         Cold     a     I   \n",
       "28  Costa Rica  ...  2efbc0f39   1.0       Novice         Warm     a  NONE   \n",
       "29       India  ...  5e7d3277d   1.0       Expert         Cold     a     U   \n",
       "\n",
       "    ord_5  day month target  \n",
       "0      Pw  6.0   3.0      0  \n",
       "1      pE  7.0   7.0      0  \n",
       "2      eN  5.0   9.0      0  \n",
       "3     NaN  3.0   3.0      0  \n",
       "4      OZ  5.0  12.0      0  \n",
       "5      wa  3.0   4.0      0  \n",
       "6      rg  5.0   6.0      0  \n",
       "7      PS  1.0   1.0      0  \n",
       "8      mX  6.0   3.0      0  \n",
       "9      OZ  1.0   8.0      1  \n",
       "10     hG  7.0   5.0      1  \n",
       "11     xF  2.0   8.0      0  \n",
       "12     RV  3.0   5.0      0  \n",
       "13     Nh  6.0   3.0      0  \n",
       "14     dp  2.0   8.0      0  \n",
       "15     SS  1.0  11.0      0  \n",
       "16    NaN  6.0   7.0      0  \n",
       "17     OM  7.0   5.0      1  \n",
       "18     Rv  NaN   3.0      1  \n",
       "19     HF  6.0  12.0      0  \n",
       "20     RV  7.0  11.0      0  \n",
       "21     iS  7.0   8.0      0  \n",
       "22     HK  5.0  12.0      0  \n",
       "23     hG  4.0   NaN      0  \n",
       "24     Ib  6.0   4.0      0  \n",
       "25     AW  3.0   3.0      0  \n",
       "26     mi  2.0  11.0      0  \n",
       "27     jf  5.0   8.0      0  \n",
       "28     Tz  7.0   4.0      0  \n",
       "29     ok  5.0   8.0      0  \n",
       "\n",
       "[30 rows x 25 columns]"
      ],
      "text/html": "<div>\n<style scoped>\n    .dataframe tbody tr th:only-of-type {\n        vertical-align: middle;\n    }\n\n    .dataframe tbody tr th {\n        vertical-align: top;\n    }\n\n    .dataframe thead th {\n        text-align: right;\n    }\n</style>\n<table border=\"1\" class=\"dataframe\">\n  <thead>\n    <tr style=\"text-align: right;\">\n      <th></th>\n      <th>id</th>\n      <th>bin_0</th>\n      <th>bin_1</th>\n      <th>bin_2</th>\n      <th>bin_3</th>\n      <th>bin_4</th>\n      <th>nom_0</th>\n      <th>nom_1</th>\n      <th>nom_2</th>\n      <th>nom_3</th>\n      <th>...</th>\n      <th>nom_9</th>\n      <th>ord_0</th>\n      <th>ord_1</th>\n      <th>ord_2</th>\n      <th>ord_3</th>\n      <th>ord_4</th>\n      <th>ord_5</th>\n      <th>day</th>\n      <th>month</th>\n      <th>target</th>\n    </tr>\n  </thead>\n  <tbody>\n    <tr>\n      <th>0</th>\n      <td>0</td>\n      <td>0.0</td>\n      <td>0.0</td>\n      <td>0.0</td>\n      <td>F</td>\n      <td>N</td>\n      <td>Red</td>\n      <td>Trapezoid</td>\n      <td>Hamster</td>\n      <td>Russia</td>\n      <td>...</td>\n      <td>02e7c8990</td>\n      <td>3.0</td>\n      <td>Contributor</td>\n      <td>Hot</td>\n      <td>c</td>\n      <td>U</td>\n      <td>Pw</td>\n      <td>6.0</td>\n      <td>3.0</td>\n      <td>0</td>\n    </tr>\n    <tr>\n      <th>1</th>\n      <td>1</td>\n      <td>1.0</td>\n      <td>1.0</td>\n      <td>0.0</td>\n      <td>F</td>\n      <td>Y</td>\n      <td>Red</td>\n      <td>Star</td>\n      <td>Axolotl</td>\n      <td>NaN</td>\n      <td>...</td>\n      <td>f37df64af</td>\n      <td>3.0</td>\n      <td>Grandmaster</td>\n      <td>Warm</td>\n      <td>e</td>\n      <td>X</td>\n      <td>pE</td>\n      <td>7.0</td>\n      <td>7.0</td>\n      <td>0</td>\n    </tr>\n    <tr>\n      <th>2</th>\n      <td>2</td>\n      <td>0.0</td>\n      <td>1.0</td>\n      <td>0.0</td>\n      <td>F</td>\n      <td>N</td>\n      <td>Red</td>\n      <td>NaN</td>\n      <td>Hamster</td>\n      <td>Canada</td>\n      <td>...</td>\n      <td>NaN</td>\n      <td>3.0</td>\n      <td>NaN</td>\n      <td>Freezing</td>\n      <td>n</td>\n      <td>P</td>\n      <td>eN</td>\n      <td>5.0</td>\n      <td>9.0</td>\n      <td>0</td>\n    </tr>\n    <tr>\n      <th>3</th>\n      <td>3</td>\n      <td>NaN</td>\n      <td>0.0</td>\n      <td>0.0</td>\n      <td>F</td>\n      <td>N</td>\n      <td>Red</td>\n      <td>Circle</td>\n      <td>Hamster</td>\n      <td>Finland</td>\n      <td>...</td>\n      <td>f9d456e57</td>\n      <td>1.0</td>\n      <td>Novice</td>\n      <td>Lava Hot</td>\n      <td>a</td>\n      <td>C</td>\n      <td>NaN</td>\n      <td>3.0</td>\n      <td>3.0</td>\n      <td>0</td>\n    </tr>\n    <tr>\n      <th>4</th>\n      <td>4</td>\n      <td>0.0</td>\n      <td>NaN</td>\n      <td>0.0</td>\n      <td>T</td>\n      <td>N</td>\n      <td>Red</td>\n      <td>Triangle</td>\n      <td>Hamster</td>\n      <td>Costa Rica</td>\n      <td>...</td>\n      <td>c5361037c</td>\n      <td>3.0</td>\n      <td>Grandmaster</td>\n      <td>Cold</td>\n      <td>h</td>\n      <td>C</td>\n      <td>OZ</td>\n      <td>5.0</td>\n      <td>12.0</td>\n      <td>0</td>\n    </tr>\n    <tr>\n      <th>5</th>\n      <td>5</td>\n      <td>0.0</td>\n      <td>NaN</td>\n      <td>1.0</td>\n      <td>T</td>\n      <td>N</td>\n      <td>Red</td>\n      <td>Triangle</td>\n      <td>Lion</td>\n      <td>China</td>\n      <td>...</td>\n      <td>05afc0f8b</td>\n      <td>2.0</td>\n      <td>Expert</td>\n      <td>Hot</td>\n      <td>b</td>\n      <td>Q</td>\n      <td>wa</td>\n      <td>3.0</td>\n      <td>4.0</td>\n      <td>0</td>\n    </tr>\n    <tr>\n      <th>6</th>\n      <td>6</td>\n      <td>0.0</td>\n      <td>0.0</td>\n      <td>0.0</td>\n      <td>F</td>\n      <td>N</td>\n      <td>Red</td>\n      <td>Triangle</td>\n      <td>Hamster</td>\n      <td>Costa Rica</td>\n      <td>...</td>\n      <td>4d3766412</td>\n      <td>1.0</td>\n      <td>Grandmaster</td>\n      <td>Cold</td>\n      <td>c</td>\n      <td>R</td>\n      <td>rg</td>\n      <td>5.0</td>\n      <td>6.0</td>\n      <td>0</td>\n    </tr>\n    <tr>\n      <th>7</th>\n      <td>7</td>\n      <td>0.0</td>\n      <td>0.0</td>\n      <td>1.0</td>\n      <td>T</td>\n      <td>N</td>\n      <td>Red</td>\n      <td>Triangle</td>\n      <td>Axolotl</td>\n      <td>Finland</td>\n      <td>...</td>\n      <td>a651dec43</td>\n      <td>3.0</td>\n      <td>Expert</td>\n      <td>Cold</td>\n      <td>b</td>\n      <td>Y</td>\n      <td>PS</td>\n      <td>1.0</td>\n      <td>1.0</td>\n      <td>0</td>\n    </tr>\n    <tr>\n      <th>8</th>\n      <td>8</td>\n      <td>0.0</td>\n      <td>0.0</td>\n      <td>0.0</td>\n      <td>F</td>\n      <td>N</td>\n      <td>Blue</td>\n      <td>Polygon</td>\n      <td>Hamster</td>\n      <td>Russia</td>\n      <td>...</td>\n      <td>NaN</td>\n      <td>1.0</td>\n      <td>Novice</td>\n      <td>Boiling Hot</td>\n      <td>c</td>\n      <td>N</td>\n      <td>mX</td>\n      <td>6.0</td>\n      <td>3.0</td>\n      <td>0</td>\n    </tr>\n    <tr>\n      <th>9</th>\n      <td>9</td>\n      <td>0.0</td>\n      <td>0.0</td>\n      <td>NaN</td>\n      <td>F</td>\n      <td>Y</td>\n      <td>Red</td>\n      <td>Polygon</td>\n      <td>Hamster</td>\n      <td>Finland</td>\n      <td>...</td>\n      <td>79b29d54c</td>\n      <td>3.0</td>\n      <td>Contributor</td>\n      <td>Lava Hot</td>\n      <td>n</td>\n      <td>I</td>\n      <td>OZ</td>\n      <td>1.0</td>\n      <td>8.0</td>\n      <td>1</td>\n    </tr>\n    <tr>\n      <th>10</th>\n      <td>10</td>\n      <td>0.0</td>\n      <td>0.0</td>\n      <td>1.0</td>\n      <td>T</td>\n      <td>Y</td>\n      <td>Blue</td>\n      <td>Triangle</td>\n      <td>Hamster</td>\n      <td>Finland</td>\n      <td>...</td>\n      <td>9bfe3ee22</td>\n      <td>1.0</td>\n      <td>Novice</td>\n      <td>Hot</td>\n      <td>b</td>\n      <td>O</td>\n      <td>hG</td>\n      <td>7.0</td>\n      <td>5.0</td>\n      <td>1</td>\n    </tr>\n    <tr>\n      <th>11</th>\n      <td>11</td>\n      <td>0.0</td>\n      <td>0.0</td>\n      <td>1.0</td>\n      <td>F</td>\n      <td>Y</td>\n      <td>Red</td>\n      <td>Square</td>\n      <td>Hamster</td>\n      <td>Costa Rica</td>\n      <td>...</td>\n      <td>6c73b62e4</td>\n      <td>1.0</td>\n      <td>Contributor</td>\n      <td>Hot</td>\n      <td>b</td>\n      <td>M</td>\n      <td>xF</td>\n      <td>2.0</td>\n      <td>8.0</td>\n      <td>0</td>\n    </tr>\n    <tr>\n      <th>12</th>\n      <td>12</td>\n      <td>0.0</td>\n      <td>0.0</td>\n      <td>0.0</td>\n      <td>T</td>\n      <td>NaN</td>\n      <td>Red</td>\n      <td>Circle</td>\n      <td>Axolotl</td>\n      <td>Russia</td>\n      <td>...</td>\n      <td>ed7765a22</td>\n      <td>3.0</td>\n      <td>Novice</td>\n      <td>Freezing</td>\n      <td>a</td>\n      <td>Y</td>\n      <td>RV</td>\n      <td>3.0</td>\n      <td>5.0</td>\n      <td>0</td>\n    </tr>\n    <tr>\n      <th>13</th>\n      <td>13</td>\n      <td>0.0</td>\n      <td>1.0</td>\n      <td>0.0</td>\n      <td>F</td>\n      <td>N</td>\n      <td>Blue</td>\n      <td>Trapezoid</td>\n      <td>Lion</td>\n      <td>Costa Rica</td>\n      <td>...</td>\n      <td>fb68fb0cf</td>\n      <td>3.0</td>\n      <td>Contributor</td>\n      <td>Lava Hot</td>\n      <td>h</td>\n      <td>C</td>\n      <td>Nh</td>\n      <td>6.0</td>\n      <td>3.0</td>\n      <td>0</td>\n    </tr>\n    <tr>\n      <th>14</th>\n      <td>14</td>\n      <td>0.0</td>\n      <td>0.0</td>\n      <td>0.0</td>\n      <td>F</td>\n      <td>Y</td>\n      <td>Red</td>\n      <td>Polygon</td>\n      <td>Hamster</td>\n      <td>Costa Rica</td>\n      <td>...</td>\n      <td>e23161f2e</td>\n      <td>2.0</td>\n      <td>Master</td>\n      <td>Freezing</td>\n      <td>d</td>\n      <td>Y</td>\n      <td>dp</td>\n      <td>2.0</td>\n      <td>8.0</td>\n      <td>0</td>\n    </tr>\n    <tr>\n      <th>15</th>\n      <td>15</td>\n      <td>1.0</td>\n      <td>0.0</td>\n      <td>NaN</td>\n      <td>F</td>\n      <td>NaN</td>\n      <td>Red</td>\n      <td>Polygon</td>\n      <td>Hamster</td>\n      <td>Russia</td>\n      <td>...</td>\n      <td>e5260d8ba</td>\n      <td>2.0</td>\n      <td>Contributor</td>\n      <td>Hot</td>\n      <td>k</td>\n      <td>P</td>\n      <td>SS</td>\n      <td>1.0</td>\n      <td>11.0</td>\n      <td>0</td>\n    </tr>\n    <tr>\n      <th>16</th>\n      <td>16</td>\n      <td>0.0</td>\n      <td>0.0</td>\n      <td>0.0</td>\n      <td>F</td>\n      <td>Y</td>\n      <td>Red</td>\n      <td>Triangle</td>\n      <td>Lion</td>\n      <td>Costa Rica</td>\n      <td>...</td>\n      <td>99f6dca00</td>\n      <td>1.0</td>\n      <td>Novice</td>\n      <td>Boiling Hot</td>\n      <td>h</td>\n      <td>E</td>\n      <td>NaN</td>\n      <td>6.0</td>\n      <td>7.0</td>\n      <td>0</td>\n    </tr>\n    <tr>\n      <th>17</th>\n      <td>17</td>\n      <td>NaN</td>\n      <td>1.0</td>\n      <td>1.0</td>\n      <td>F</td>\n      <td>N</td>\n      <td>Red</td>\n      <td>Trapezoid</td>\n      <td>Hamster</td>\n      <td>Russia</td>\n      <td>...</td>\n      <td>bc5c8fe51</td>\n      <td>3.0</td>\n      <td>Novice</td>\n      <td>Warm</td>\n      <td>g</td>\n      <td>I</td>\n      <td>OM</td>\n      <td>7.0</td>\n      <td>5.0</td>\n      <td>1</td>\n    </tr>\n    <tr>\n      <th>18</th>\n      <td>18</td>\n      <td>1.0</td>\n      <td>0.0</td>\n      <td>0.0</td>\n      <td>F</td>\n      <td>Y</td>\n      <td>Red</td>\n      <td>Circle</td>\n      <td>Axolotl</td>\n      <td>India</td>\n      <td>...</td>\n      <td>bf2a46c9a</td>\n      <td>3.0</td>\n      <td>Master</td>\n      <td>Hot</td>\n      <td>h</td>\n      <td>V</td>\n      <td>Rv</td>\n      <td>NaN</td>\n      <td>3.0</td>\n      <td>1</td>\n    </tr>\n    <tr>\n      <th>19</th>\n      <td>19</td>\n      <td>0.0</td>\n      <td>1.0</td>\n      <td>0.0</td>\n      <td>F</td>\n      <td>Y</td>\n      <td>Red</td>\n      <td>Triangle</td>\n      <td>Hamster</td>\n      <td>Costa Rica</td>\n      <td>...</td>\n      <td>602d7a9af</td>\n      <td>1.0</td>\n      <td>Grandmaster</td>\n      <td>Boiling Hot</td>\n      <td>n</td>\n      <td>K</td>\n      <td>HF</td>\n      <td>6.0</td>\n      <td>12.0</td>\n      <td>0</td>\n    </tr>\n    <tr>\n      <th>20</th>\n      <td>20</td>\n      <td>0.0</td>\n      <td>0.0</td>\n      <td>0.0</td>\n      <td>T</td>\n      <td>N</td>\n      <td>Blue</td>\n      <td>Triangle</td>\n      <td>Dog</td>\n      <td>India</td>\n      <td>...</td>\n      <td>7df225ca0</td>\n      <td>3.0</td>\n      <td>Novice</td>\n      <td>Freezing</td>\n      <td>h</td>\n      <td>E</td>\n      <td>RV</td>\n      <td>7.0</td>\n      <td>11.0</td>\n      <td>0</td>\n    </tr>\n    <tr>\n      <th>21</th>\n      <td>21</td>\n      <td>1.0</td>\n      <td>1.0</td>\n      <td>0.0</td>\n      <td>F</td>\n      <td>N</td>\n      <td>Red</td>\n      <td>Triangle</td>\n      <td>Cat</td>\n      <td>Canada</td>\n      <td>...</td>\n      <td>dfaef9aac</td>\n      <td>3.0</td>\n      <td>Contributor</td>\n      <td>Hot</td>\n      <td>h</td>\n      <td>N</td>\n      <td>iS</td>\n      <td>7.0</td>\n      <td>8.0</td>\n      <td>0</td>\n    </tr>\n    <tr>\n      <th>22</th>\n      <td>22</td>\n      <td>0.0</td>\n      <td>0.0</td>\n      <td>0.0</td>\n      <td>NaN</td>\n      <td>N</td>\n      <td>Green</td>\n      <td>Circle</td>\n      <td>Hamster</td>\n      <td>Canada</td>\n      <td>...</td>\n      <td>7f228b10f</td>\n      <td>2.0</td>\n      <td>Master</td>\n      <td>Hot</td>\n      <td>k</td>\n      <td>G</td>\n      <td>HK</td>\n      <td>5.0</td>\n      <td>12.0</td>\n      <td>0</td>\n    </tr>\n    <tr>\n      <th>23</th>\n      <td>23</td>\n      <td>0.0</td>\n      <td>0.0</td>\n      <td>0.0</td>\n      <td>T</td>\n      <td>N</td>\n      <td>Red</td>\n      <td>Polygon</td>\n      <td>Hamster</td>\n      <td>India</td>\n      <td>...</td>\n      <td>d7b264c91</td>\n      <td>1.0</td>\n      <td>Novice</td>\n      <td>Warm</td>\n      <td>n</td>\n      <td>K</td>\n      <td>hG</td>\n      <td>4.0</td>\n      <td>NaN</td>\n      <td>0</td>\n    </tr>\n    <tr>\n      <th>24</th>\n      <td>24</td>\n      <td>0.0</td>\n      <td>1.0</td>\n      <td>1.0</td>\n      <td>F</td>\n      <td>Y</td>\n      <td>Red</td>\n      <td>Circle</td>\n      <td>Hamster</td>\n      <td>India</td>\n      <td>...</td>\n      <td>1bb10e6ca</td>\n      <td>1.0</td>\n      <td>Grandmaster</td>\n      <td>Boiling Hot</td>\n      <td>b</td>\n      <td>B</td>\n      <td>Ib</td>\n      <td>6.0</td>\n      <td>4.0</td>\n      <td>0</td>\n    </tr>\n    <tr>\n      <th>25</th>\n      <td>25</td>\n      <td>0.0</td>\n      <td>0.0</td>\n      <td>0.0</td>\n      <td>NaN</td>\n      <td>Y</td>\n      <td>Blue</td>\n      <td>Circle</td>\n      <td>Dog</td>\n      <td>Canada</td>\n      <td>...</td>\n      <td>85334bf6e</td>\n      <td>1.0</td>\n      <td>Expert</td>\n      <td>Warm</td>\n      <td>c</td>\n      <td>H</td>\n      <td>AW</td>\n      <td>3.0</td>\n      <td>3.0</td>\n      <td>0</td>\n    </tr>\n    <tr>\n      <th>26</th>\n      <td>26</td>\n      <td>0.0</td>\n      <td>1.0</td>\n      <td>0.0</td>\n      <td>F</td>\n      <td>N</td>\n      <td>Blue</td>\n      <td>Circle</td>\n      <td>Lion</td>\n      <td>India</td>\n      <td>...</td>\n      <td>d518a193a</td>\n      <td>3.0</td>\n      <td>Grandmaster</td>\n      <td>Freezing</td>\n      <td>o</td>\n      <td>O</td>\n      <td>mi</td>\n      <td>2.0</td>\n      <td>11.0</td>\n      <td>0</td>\n    </tr>\n    <tr>\n      <th>27</th>\n      <td>27</td>\n      <td>0.0</td>\n      <td>0.0</td>\n      <td>0.0</td>\n      <td>F</td>\n      <td>N</td>\n      <td>Red</td>\n      <td>Circle</td>\n      <td>Axolotl</td>\n      <td>Costa Rica</td>\n      <td>...</td>\n      <td>1c61b1687</td>\n      <td>1.0</td>\n      <td>Novice</td>\n      <td>Cold</td>\n      <td>a</td>\n      <td>I</td>\n      <td>jf</td>\n      <td>5.0</td>\n      <td>8.0</td>\n      <td>0</td>\n    </tr>\n    <tr>\n      <th>28</th>\n      <td>28</td>\n      <td>0.0</td>\n      <td>0.0</td>\n      <td>0.0</td>\n      <td>F</td>\n      <td>N</td>\n      <td>Green</td>\n      <td>NaN</td>\n      <td>Lion</td>\n      <td>Costa Rica</td>\n      <td>...</td>\n      <td>2efbc0f39</td>\n      <td>1.0</td>\n      <td>Novice</td>\n      <td>Warm</td>\n      <td>a</td>\n      <td>NONE</td>\n      <td>Tz</td>\n      <td>7.0</td>\n      <td>4.0</td>\n      <td>0</td>\n    </tr>\n    <tr>\n      <th>29</th>\n      <td>29</td>\n      <td>0.0</td>\n      <td>NaN</td>\n      <td>1.0</td>\n      <td>F</td>\n      <td>Y</td>\n      <td>Blue</td>\n      <td>Square</td>\n      <td>Lion</td>\n      <td>India</td>\n      <td>...</td>\n      <td>5e7d3277d</td>\n      <td>1.0</td>\n      <td>Expert</td>\n      <td>Cold</td>\n      <td>a</td>\n      <td>U</td>\n      <td>ok</td>\n      <td>5.0</td>\n      <td>8.0</td>\n      <td>0</td>\n    </tr>\n  </tbody>\n</table>\n<p>30 rows × 25 columns</p>\n</div>"
     },
     "metadata": {},
     "execution_count": 44
    }
   ],
   "source": [
    "df.head(30)"
   ]
  },
  {
   "cell_type": "code",
   "execution_count": null,
   "metadata": {},
   "outputs": [],
   "source": []
  }
 ]
}