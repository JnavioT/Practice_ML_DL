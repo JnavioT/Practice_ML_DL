{
 "metadata": {
  "language_info": {
   "codemirror_mode": {
    "name": "ipython",
    "version": 3
   },
   "file_extension": ".py",
   "mimetype": "text/x-python",
   "name": "python",
   "nbconvert_exporter": "python",
   "pygments_lexer": "ipython3",
   "version": "3.7.6-final"
  },
  "orig_nbformat": 2,
  "kernelspec": {
   "name": "python37664bitmlconda980804e045fd4bc6a4f52e64fdc3fcf3",
   "display_name": "Python 3.7.6 64-bit ('ml': conda)",
   "language": "python"
  }
 },
 "nbformat": 4,
 "nbformat_minor": 2,
 "cells": [
  {
   "cell_type": "code",
   "execution_count": 1,
   "metadata": {},
   "outputs": [],
   "source": [
    "import matplotlib.pyplot as plt\n",
    "import numpy as np\n",
    "import pandas as pd \n",
    "import seaborn as sns"
   ]
  },
  {
   "cell_type": "code",
   "execution_count": 27,
   "metadata": {},
   "outputs": [],
   "source": [
    "df = pd.read_csv(\"../input/adult.csv\")\n",
    "#df.head()"
   ]
  },
  {
   "cell_type": "code",
   "execution_count": 28,
   "metadata": {},
   "outputs": [
    {
     "output_type": "execute_result",
     "data": {
      "text/plain": [
       "<=50K    24720\n",
       ">50K      7841\n",
       "Name: income, dtype: int64"
      ]
     },
     "metadata": {},
     "execution_count": 28
    }
   ],
   "source": [
    "df.income.value_counts()\n",
    "#skewed data"
   ]
  },
  {
   "cell_type": "code",
   "execution_count": 29,
   "metadata": {},
   "outputs": [],
   "source": [
    "df = pd.read_csv(\"../input/adult_folds.csv\")\n",
    "\n"
   ]
  },
  {
   "cell_type": "code",
   "execution_count": 30,
   "metadata": {},
   "outputs": [
    {
     "output_type": "execute_result",
     "data": {
      "text/plain": [
       "<=50K    4944\n",
       ">50K     1569\n",
       "Name: income, dtype: int64"
      ]
     },
     "metadata": {},
     "execution_count": 30
    }
   ],
   "source": [
    "df[df.kfold==0].income.value_counts()"
   ]
  },
  {
   "cell_type": "code",
   "execution_count": 11,
   "metadata": {},
   "outputs": [
    {
     "output_type": "execute_result",
     "data": {
      "text/plain": [
       "   age         workclass  fnlwgt  education  education.num marital.status  \\\n",
       "0   43  Self-emp-not-inc   33521  Bachelors             13       Divorced   \n",
       "1   26         Local-gov  104614  Bachelors             13  Never-married   \n",
       "2   43           Private  220589    HS-grad              9       Divorced   \n",
       "3   22           Private   63105    HS-grad              9  Never-married   \n",
       "4   36           Private   88967       11th              7  Never-married   \n",
       "\n",
       "         occupation   relationship                race     sex  capital.gain  \\\n",
       "0    Prof-specialty  Not-in-family               White    Male             0   \n",
       "1    Prof-specialty      Own-child               White  Female             0   \n",
       "2   Exec-managerial      Unmarried               White  Female             0   \n",
       "3    Prof-specialty      Own-child               Black    Male             0   \n",
       "4  Transport-moving      Unmarried  Amer-Indian-Eskimo    Male             0   \n",
       "\n",
       "   capital.loss  hours.per.week native.country income  kfold  \n",
       "0             0              70  United-States   >50K      0  \n",
       "1             0              40  United-States  <=50K      0  \n",
       "2             0              40  United-States  <=50K      0  \n",
       "3             0              40  United-States  <=50K      0  \n",
       "4             0              65  United-States  <=50K      0  "
      ],
      "text/html": "<div>\n<style scoped>\n    .dataframe tbody tr th:only-of-type {\n        vertical-align: middle;\n    }\n\n    .dataframe tbody tr th {\n        vertical-align: top;\n    }\n\n    .dataframe thead th {\n        text-align: right;\n    }\n</style>\n<table border=\"1\" class=\"dataframe\">\n  <thead>\n    <tr style=\"text-align: right;\">\n      <th></th>\n      <th>age</th>\n      <th>workclass</th>\n      <th>fnlwgt</th>\n      <th>education</th>\n      <th>education.num</th>\n      <th>marital.status</th>\n      <th>occupation</th>\n      <th>relationship</th>\n      <th>race</th>\n      <th>sex</th>\n      <th>capital.gain</th>\n      <th>capital.loss</th>\n      <th>hours.per.week</th>\n      <th>native.country</th>\n      <th>income</th>\n      <th>kfold</th>\n    </tr>\n  </thead>\n  <tbody>\n    <tr>\n      <th>0</th>\n      <td>43</td>\n      <td>Self-emp-not-inc</td>\n      <td>33521</td>\n      <td>Bachelors</td>\n      <td>13</td>\n      <td>Divorced</td>\n      <td>Prof-specialty</td>\n      <td>Not-in-family</td>\n      <td>White</td>\n      <td>Male</td>\n      <td>0</td>\n      <td>0</td>\n      <td>70</td>\n      <td>United-States</td>\n      <td>&gt;50K</td>\n      <td>0</td>\n    </tr>\n    <tr>\n      <th>1</th>\n      <td>26</td>\n      <td>Local-gov</td>\n      <td>104614</td>\n      <td>Bachelors</td>\n      <td>13</td>\n      <td>Never-married</td>\n      <td>Prof-specialty</td>\n      <td>Own-child</td>\n      <td>White</td>\n      <td>Female</td>\n      <td>0</td>\n      <td>0</td>\n      <td>40</td>\n      <td>United-States</td>\n      <td>&lt;=50K</td>\n      <td>0</td>\n    </tr>\n    <tr>\n      <th>2</th>\n      <td>43</td>\n      <td>Private</td>\n      <td>220589</td>\n      <td>HS-grad</td>\n      <td>9</td>\n      <td>Divorced</td>\n      <td>Exec-managerial</td>\n      <td>Unmarried</td>\n      <td>White</td>\n      <td>Female</td>\n      <td>0</td>\n      <td>0</td>\n      <td>40</td>\n      <td>United-States</td>\n      <td>&lt;=50K</td>\n      <td>0</td>\n    </tr>\n    <tr>\n      <th>3</th>\n      <td>22</td>\n      <td>Private</td>\n      <td>63105</td>\n      <td>HS-grad</td>\n      <td>9</td>\n      <td>Never-married</td>\n      <td>Prof-specialty</td>\n      <td>Own-child</td>\n      <td>Black</td>\n      <td>Male</td>\n      <td>0</td>\n      <td>0</td>\n      <td>40</td>\n      <td>United-States</td>\n      <td>&lt;=50K</td>\n      <td>0</td>\n    </tr>\n    <tr>\n      <th>4</th>\n      <td>36</td>\n      <td>Private</td>\n      <td>88967</td>\n      <td>11th</td>\n      <td>7</td>\n      <td>Never-married</td>\n      <td>Transport-moving</td>\n      <td>Unmarried</td>\n      <td>Amer-Indian-Eskimo</td>\n      <td>Male</td>\n      <td>0</td>\n      <td>0</td>\n      <td>65</td>\n      <td>United-States</td>\n      <td>&lt;=50K</td>\n      <td>0</td>\n    </tr>\n  </tbody>\n</table>\n</div>"
     },
     "metadata": {},
     "execution_count": 11
    }
   ],
   "source": [
    "df.head()"
   ]
  },
  {
   "cell_type": "code",
   "execution_count": 31,
   "metadata": {},
   "outputs": [
    {
     "output_type": "execute_result",
     "data": {
      "text/plain": [
       "    age         workclass  fnlwgt     education  education.num  \\\n",
       "0    43  Self-emp-not-inc   33521     Bachelors             13   \n",
       "1    26         Local-gov  104614     Bachelors             13   \n",
       "2    43           Private  220589       HS-grad              9   \n",
       "3    22           Private   63105       HS-grad              9   \n",
       "4    36           Private   88967          11th              7   \n",
       "5    56      Self-emp-inc  105582  Some-college             10   \n",
       "6    40         State-gov  119578     Bachelors             13   \n",
       "7    24           Private   36058     Bachelors             13   \n",
       "8    28           Private   66095       HS-grad              9   \n",
       "9    39         State-gov  152307     Bachelors             13   \n",
       "10   28           Private  334368     Assoc-voc             11   \n",
       "11   63               NaN  179981       HS-grad              9   \n",
       "12   36  Self-emp-not-inc  233533  Some-college             10   \n",
       "13   41         Local-gov  160785       HS-grad              9   \n",
       "14   42           Private  113770       HS-grad              9   \n",
       "15   19           Private  199441       HS-grad              9   \n",
       "16   36           Private  191335  Some-college             10   \n",
       "17   53         Local-gov  260106   Prof-school             15   \n",
       "18   65  Self-emp-not-inc   31740  Some-college             10   \n",
       "19   63           Private  158609     Assoc-voc             11   \n",
       "20   47           Private  266281          11th              7   \n",
       "21   41         State-gov   47170     Bachelors             13   \n",
       "22   25         Local-gov  192321     Bachelors             13   \n",
       "23   22               NaN  354351  Some-college             10   \n",
       "24   28  Self-emp-not-inc  209205  Some-college             10   \n",
       "25   31           Private   73585     Assoc-voc             11   \n",
       "26   25           Private  135568       HS-grad              9   \n",
       "27   27           Private  153291   Prof-school             15   \n",
       "28   20               NaN  244689  Some-college             10   \n",
       "29   31  Self-emp-not-inc  209213       HS-grad              9   \n",
       "\n",
       "        marital.status         occupation   relationship                race  \\\n",
       "0             Divorced     Prof-specialty  Not-in-family               White   \n",
       "1        Never-married     Prof-specialty      Own-child               White   \n",
       "2             Divorced    Exec-managerial      Unmarried               White   \n",
       "3        Never-married     Prof-specialty      Own-child               Black   \n",
       "4        Never-married   Transport-moving      Unmarried  Amer-Indian-Eskimo   \n",
       "5   Married-civ-spouse    Exec-managerial        Husband               White   \n",
       "6        Never-married     Prof-specialty      Unmarried               White   \n",
       "7        Never-married              Sales  Not-in-family               White   \n",
       "8   Married-civ-spouse              Sales        Husband               White   \n",
       "9   Married-civ-spouse     Prof-specialty        Husband               White   \n",
       "10       Never-married     Prof-specialty  Not-in-family               White   \n",
       "11  Married-civ-spouse                NaN        Husband               White   \n",
       "12  Married-civ-spouse       Craft-repair        Husband               White   \n",
       "13  Married-civ-spouse       Craft-repair        Husband               White   \n",
       "14  Married-civ-spouse       Adm-clerical           Wife               White   \n",
       "15       Never-married     Prof-specialty  Not-in-family               White   \n",
       "16  Married-civ-spouse       Craft-repair        Husband               White   \n",
       "17            Divorced     Prof-specialty  Not-in-family               White   \n",
       "18             Widowed    Exec-managerial      Unmarried               White   \n",
       "19             Widowed       Adm-clerical      Unmarried               White   \n",
       "20       Never-married  Machine-op-inspct      Unmarried               Black   \n",
       "21  Married-civ-spouse     Prof-specialty           Wife  Amer-Indian-Eskimo   \n",
       "22       Never-married     Prof-specialty      Own-child               White   \n",
       "23       Never-married                NaN  Not-in-family               White   \n",
       "24  Married-civ-spouse       Craft-repair        Husband               White   \n",
       "25  Married-civ-spouse     Prof-specialty        Husband               White   \n",
       "26  Married-civ-spouse  Handlers-cleaners        Husband               White   \n",
       "27  Married-civ-spouse     Prof-specialty           Wife               White   \n",
       "28       Never-married                NaN  Not-in-family               White   \n",
       "29       Never-married              Sales  Not-in-family               Black   \n",
       "\n",
       "       sex  capital.gain  capital.loss  hours.per.week native.country income  \\\n",
       "0     Male             0             0              70  United-States   >50K   \n",
       "1   Female             0             0              40  United-States  <=50K   \n",
       "2   Female             0             0              40  United-States  <=50K   \n",
       "3     Male             0             0              40  United-States  <=50K   \n",
       "4     Male             0             0              65  United-States  <=50K   \n",
       "5     Male          7688             0              50  United-States   >50K   \n",
       "6   Female             0             0              20  United-States  <=50K   \n",
       "7     Male             0             0              50  United-States  <=50K   \n",
       "8     Male             0             0              40  United-States  <=50K   \n",
       "9     Male             0             0              40  United-States  <=50K   \n",
       "10  Female          4650             0              40  United-States  <=50K   \n",
       "11    Male             0             0               4  United-States  <=50K   \n",
       "12    Male             0             0              60  United-States   >50K   \n",
       "13    Male             0             0              40  United-States  <=50K   \n",
       "14  Female             0             0              40  United-States  <=50K   \n",
       "15  Female             0             0              40  United-States  <=50K   \n",
       "16    Male             0             0              56  United-States  <=50K   \n",
       "17  Female             0             0              50  United-States  <=50K   \n",
       "18  Female             0             0              45  United-States  <=50K   \n",
       "19  Female             0             0               8  United-States  <=50K   \n",
       "20  Female          6849             0              40  United-States  <=50K   \n",
       "21  Female             0             0              48  United-States   >50K   \n",
       "22  Female             0             0              40  United-States  <=50K   \n",
       "23    Male             0             0              40  United-States  <=50K   \n",
       "24    Male          7298             0              40  United-States   >50K   \n",
       "25    Male             0             0              45  United-States  <=50K   \n",
       "26    Male             0             0              40  United-States  <=50K   \n",
       "27  Female             0             0              50  United-States   >50K   \n",
       "28  Female             0             0              25  United-States  <=50K   \n",
       "29    Male             0             0              40            NaN  <=50K   \n",
       "\n",
       "    kfold  \n",
       "0       0  \n",
       "1       0  \n",
       "2       0  \n",
       "3       0  \n",
       "4       0  \n",
       "5       0  \n",
       "6       0  \n",
       "7       0  \n",
       "8       0  \n",
       "9       0  \n",
       "10      0  \n",
       "11      0  \n",
       "12      0  \n",
       "13      0  \n",
       "14      0  \n",
       "15      0  \n",
       "16      0  \n",
       "17      0  \n",
       "18      0  \n",
       "19      0  \n",
       "20      0  \n",
       "21      0  \n",
       "22      0  \n",
       "23      0  \n",
       "24      0  \n",
       "25      0  \n",
       "26      0  \n",
       "27      0  \n",
       "28      0  \n",
       "29      0  "
      ],
      "text/html": "<div>\n<style scoped>\n    .dataframe tbody tr th:only-of-type {\n        vertical-align: middle;\n    }\n\n    .dataframe tbody tr th {\n        vertical-align: top;\n    }\n\n    .dataframe thead th {\n        text-align: right;\n    }\n</style>\n<table border=\"1\" class=\"dataframe\">\n  <thead>\n    <tr style=\"text-align: right;\">\n      <th></th>\n      <th>age</th>\n      <th>workclass</th>\n      <th>fnlwgt</th>\n      <th>education</th>\n      <th>education.num</th>\n      <th>marital.status</th>\n      <th>occupation</th>\n      <th>relationship</th>\n      <th>race</th>\n      <th>sex</th>\n      <th>capital.gain</th>\n      <th>capital.loss</th>\n      <th>hours.per.week</th>\n      <th>native.country</th>\n      <th>income</th>\n      <th>kfold</th>\n    </tr>\n  </thead>\n  <tbody>\n    <tr>\n      <th>0</th>\n      <td>43</td>\n      <td>Self-emp-not-inc</td>\n      <td>33521</td>\n      <td>Bachelors</td>\n      <td>13</td>\n      <td>Divorced</td>\n      <td>Prof-specialty</td>\n      <td>Not-in-family</td>\n      <td>White</td>\n      <td>Male</td>\n      <td>0</td>\n      <td>0</td>\n      <td>70</td>\n      <td>United-States</td>\n      <td>&gt;50K</td>\n      <td>0</td>\n    </tr>\n    <tr>\n      <th>1</th>\n      <td>26</td>\n      <td>Local-gov</td>\n      <td>104614</td>\n      <td>Bachelors</td>\n      <td>13</td>\n      <td>Never-married</td>\n      <td>Prof-specialty</td>\n      <td>Own-child</td>\n      <td>White</td>\n      <td>Female</td>\n      <td>0</td>\n      <td>0</td>\n      <td>40</td>\n      <td>United-States</td>\n      <td>&lt;=50K</td>\n      <td>0</td>\n    </tr>\n    <tr>\n      <th>2</th>\n      <td>43</td>\n      <td>Private</td>\n      <td>220589</td>\n      <td>HS-grad</td>\n      <td>9</td>\n      <td>Divorced</td>\n      <td>Exec-managerial</td>\n      <td>Unmarried</td>\n      <td>White</td>\n      <td>Female</td>\n      <td>0</td>\n      <td>0</td>\n      <td>40</td>\n      <td>United-States</td>\n      <td>&lt;=50K</td>\n      <td>0</td>\n    </tr>\n    <tr>\n      <th>3</th>\n      <td>22</td>\n      <td>Private</td>\n      <td>63105</td>\n      <td>HS-grad</td>\n      <td>9</td>\n      <td>Never-married</td>\n      <td>Prof-specialty</td>\n      <td>Own-child</td>\n      <td>Black</td>\n      <td>Male</td>\n      <td>0</td>\n      <td>0</td>\n      <td>40</td>\n      <td>United-States</td>\n      <td>&lt;=50K</td>\n      <td>0</td>\n    </tr>\n    <tr>\n      <th>4</th>\n      <td>36</td>\n      <td>Private</td>\n      <td>88967</td>\n      <td>11th</td>\n      <td>7</td>\n      <td>Never-married</td>\n      <td>Transport-moving</td>\n      <td>Unmarried</td>\n      <td>Amer-Indian-Eskimo</td>\n      <td>Male</td>\n      <td>0</td>\n      <td>0</td>\n      <td>65</td>\n      <td>United-States</td>\n      <td>&lt;=50K</td>\n      <td>0</td>\n    </tr>\n    <tr>\n      <th>5</th>\n      <td>56</td>\n      <td>Self-emp-inc</td>\n      <td>105582</td>\n      <td>Some-college</td>\n      <td>10</td>\n      <td>Married-civ-spouse</td>\n      <td>Exec-managerial</td>\n      <td>Husband</td>\n      <td>White</td>\n      <td>Male</td>\n      <td>7688</td>\n      <td>0</td>\n      <td>50</td>\n      <td>United-States</td>\n      <td>&gt;50K</td>\n      <td>0</td>\n    </tr>\n    <tr>\n      <th>6</th>\n      <td>40</td>\n      <td>State-gov</td>\n      <td>119578</td>\n      <td>Bachelors</td>\n      <td>13</td>\n      <td>Never-married</td>\n      <td>Prof-specialty</td>\n      <td>Unmarried</td>\n      <td>White</td>\n      <td>Female</td>\n      <td>0</td>\n      <td>0</td>\n      <td>20</td>\n      <td>United-States</td>\n      <td>&lt;=50K</td>\n      <td>0</td>\n    </tr>\n    <tr>\n      <th>7</th>\n      <td>24</td>\n      <td>Private</td>\n      <td>36058</td>\n      <td>Bachelors</td>\n      <td>13</td>\n      <td>Never-married</td>\n      <td>Sales</td>\n      <td>Not-in-family</td>\n      <td>White</td>\n      <td>Male</td>\n      <td>0</td>\n      <td>0</td>\n      <td>50</td>\n      <td>United-States</td>\n      <td>&lt;=50K</td>\n      <td>0</td>\n    </tr>\n    <tr>\n      <th>8</th>\n      <td>28</td>\n      <td>Private</td>\n      <td>66095</td>\n      <td>HS-grad</td>\n      <td>9</td>\n      <td>Married-civ-spouse</td>\n      <td>Sales</td>\n      <td>Husband</td>\n      <td>White</td>\n      <td>Male</td>\n      <td>0</td>\n      <td>0</td>\n      <td>40</td>\n      <td>United-States</td>\n      <td>&lt;=50K</td>\n      <td>0</td>\n    </tr>\n    <tr>\n      <th>9</th>\n      <td>39</td>\n      <td>State-gov</td>\n      <td>152307</td>\n      <td>Bachelors</td>\n      <td>13</td>\n      <td>Married-civ-spouse</td>\n      <td>Prof-specialty</td>\n      <td>Husband</td>\n      <td>White</td>\n      <td>Male</td>\n      <td>0</td>\n      <td>0</td>\n      <td>40</td>\n      <td>United-States</td>\n      <td>&lt;=50K</td>\n      <td>0</td>\n    </tr>\n    <tr>\n      <th>10</th>\n      <td>28</td>\n      <td>Private</td>\n      <td>334368</td>\n      <td>Assoc-voc</td>\n      <td>11</td>\n      <td>Never-married</td>\n      <td>Prof-specialty</td>\n      <td>Not-in-family</td>\n      <td>White</td>\n      <td>Female</td>\n      <td>4650</td>\n      <td>0</td>\n      <td>40</td>\n      <td>United-States</td>\n      <td>&lt;=50K</td>\n      <td>0</td>\n    </tr>\n    <tr>\n      <th>11</th>\n      <td>63</td>\n      <td>NaN</td>\n      <td>179981</td>\n      <td>HS-grad</td>\n      <td>9</td>\n      <td>Married-civ-spouse</td>\n      <td>NaN</td>\n      <td>Husband</td>\n      <td>White</td>\n      <td>Male</td>\n      <td>0</td>\n      <td>0</td>\n      <td>4</td>\n      <td>United-States</td>\n      <td>&lt;=50K</td>\n      <td>0</td>\n    </tr>\n    <tr>\n      <th>12</th>\n      <td>36</td>\n      <td>Self-emp-not-inc</td>\n      <td>233533</td>\n      <td>Some-college</td>\n      <td>10</td>\n      <td>Married-civ-spouse</td>\n      <td>Craft-repair</td>\n      <td>Husband</td>\n      <td>White</td>\n      <td>Male</td>\n      <td>0</td>\n      <td>0</td>\n      <td>60</td>\n      <td>United-States</td>\n      <td>&gt;50K</td>\n      <td>0</td>\n    </tr>\n    <tr>\n      <th>13</th>\n      <td>41</td>\n      <td>Local-gov</td>\n      <td>160785</td>\n      <td>HS-grad</td>\n      <td>9</td>\n      <td>Married-civ-spouse</td>\n      <td>Craft-repair</td>\n      <td>Husband</td>\n      <td>White</td>\n      <td>Male</td>\n      <td>0</td>\n      <td>0</td>\n      <td>40</td>\n      <td>United-States</td>\n      <td>&lt;=50K</td>\n      <td>0</td>\n    </tr>\n    <tr>\n      <th>14</th>\n      <td>42</td>\n      <td>Private</td>\n      <td>113770</td>\n      <td>HS-grad</td>\n      <td>9</td>\n      <td>Married-civ-spouse</td>\n      <td>Adm-clerical</td>\n      <td>Wife</td>\n      <td>White</td>\n      <td>Female</td>\n      <td>0</td>\n      <td>0</td>\n      <td>40</td>\n      <td>United-States</td>\n      <td>&lt;=50K</td>\n      <td>0</td>\n    </tr>\n    <tr>\n      <th>15</th>\n      <td>19</td>\n      <td>Private</td>\n      <td>199441</td>\n      <td>HS-grad</td>\n      <td>9</td>\n      <td>Never-married</td>\n      <td>Prof-specialty</td>\n      <td>Not-in-family</td>\n      <td>White</td>\n      <td>Female</td>\n      <td>0</td>\n      <td>0</td>\n      <td>40</td>\n      <td>United-States</td>\n      <td>&lt;=50K</td>\n      <td>0</td>\n    </tr>\n    <tr>\n      <th>16</th>\n      <td>36</td>\n      <td>Private</td>\n      <td>191335</td>\n      <td>Some-college</td>\n      <td>10</td>\n      <td>Married-civ-spouse</td>\n      <td>Craft-repair</td>\n      <td>Husband</td>\n      <td>White</td>\n      <td>Male</td>\n      <td>0</td>\n      <td>0</td>\n      <td>56</td>\n      <td>United-States</td>\n      <td>&lt;=50K</td>\n      <td>0</td>\n    </tr>\n    <tr>\n      <th>17</th>\n      <td>53</td>\n      <td>Local-gov</td>\n      <td>260106</td>\n      <td>Prof-school</td>\n      <td>15</td>\n      <td>Divorced</td>\n      <td>Prof-specialty</td>\n      <td>Not-in-family</td>\n      <td>White</td>\n      <td>Female</td>\n      <td>0</td>\n      <td>0</td>\n      <td>50</td>\n      <td>United-States</td>\n      <td>&lt;=50K</td>\n      <td>0</td>\n    </tr>\n    <tr>\n      <th>18</th>\n      <td>65</td>\n      <td>Self-emp-not-inc</td>\n      <td>31740</td>\n      <td>Some-college</td>\n      <td>10</td>\n      <td>Widowed</td>\n      <td>Exec-managerial</td>\n      <td>Unmarried</td>\n      <td>White</td>\n      <td>Female</td>\n      <td>0</td>\n      <td>0</td>\n      <td>45</td>\n      <td>United-States</td>\n      <td>&lt;=50K</td>\n      <td>0</td>\n    </tr>\n    <tr>\n      <th>19</th>\n      <td>63</td>\n      <td>Private</td>\n      <td>158609</td>\n      <td>Assoc-voc</td>\n      <td>11</td>\n      <td>Widowed</td>\n      <td>Adm-clerical</td>\n      <td>Unmarried</td>\n      <td>White</td>\n      <td>Female</td>\n      <td>0</td>\n      <td>0</td>\n      <td>8</td>\n      <td>United-States</td>\n      <td>&lt;=50K</td>\n      <td>0</td>\n    </tr>\n    <tr>\n      <th>20</th>\n      <td>47</td>\n      <td>Private</td>\n      <td>266281</td>\n      <td>11th</td>\n      <td>7</td>\n      <td>Never-married</td>\n      <td>Machine-op-inspct</td>\n      <td>Unmarried</td>\n      <td>Black</td>\n      <td>Female</td>\n      <td>6849</td>\n      <td>0</td>\n      <td>40</td>\n      <td>United-States</td>\n      <td>&lt;=50K</td>\n      <td>0</td>\n    </tr>\n    <tr>\n      <th>21</th>\n      <td>41</td>\n      <td>State-gov</td>\n      <td>47170</td>\n      <td>Bachelors</td>\n      <td>13</td>\n      <td>Married-civ-spouse</td>\n      <td>Prof-specialty</td>\n      <td>Wife</td>\n      <td>Amer-Indian-Eskimo</td>\n      <td>Female</td>\n      <td>0</td>\n      <td>0</td>\n      <td>48</td>\n      <td>United-States</td>\n      <td>&gt;50K</td>\n      <td>0</td>\n    </tr>\n    <tr>\n      <th>22</th>\n      <td>25</td>\n      <td>Local-gov</td>\n      <td>192321</td>\n      <td>Bachelors</td>\n      <td>13</td>\n      <td>Never-married</td>\n      <td>Prof-specialty</td>\n      <td>Own-child</td>\n      <td>White</td>\n      <td>Female</td>\n      <td>0</td>\n      <td>0</td>\n      <td>40</td>\n      <td>United-States</td>\n      <td>&lt;=50K</td>\n      <td>0</td>\n    </tr>\n    <tr>\n      <th>23</th>\n      <td>22</td>\n      <td>NaN</td>\n      <td>354351</td>\n      <td>Some-college</td>\n      <td>10</td>\n      <td>Never-married</td>\n      <td>NaN</td>\n      <td>Not-in-family</td>\n      <td>White</td>\n      <td>Male</td>\n      <td>0</td>\n      <td>0</td>\n      <td>40</td>\n      <td>United-States</td>\n      <td>&lt;=50K</td>\n      <td>0</td>\n    </tr>\n    <tr>\n      <th>24</th>\n      <td>28</td>\n      <td>Self-emp-not-inc</td>\n      <td>209205</td>\n      <td>Some-college</td>\n      <td>10</td>\n      <td>Married-civ-spouse</td>\n      <td>Craft-repair</td>\n      <td>Husband</td>\n      <td>White</td>\n      <td>Male</td>\n      <td>7298</td>\n      <td>0</td>\n      <td>40</td>\n      <td>United-States</td>\n      <td>&gt;50K</td>\n      <td>0</td>\n    </tr>\n    <tr>\n      <th>25</th>\n      <td>31</td>\n      <td>Private</td>\n      <td>73585</td>\n      <td>Assoc-voc</td>\n      <td>11</td>\n      <td>Married-civ-spouse</td>\n      <td>Prof-specialty</td>\n      <td>Husband</td>\n      <td>White</td>\n      <td>Male</td>\n      <td>0</td>\n      <td>0</td>\n      <td>45</td>\n      <td>United-States</td>\n      <td>&lt;=50K</td>\n      <td>0</td>\n    </tr>\n    <tr>\n      <th>26</th>\n      <td>25</td>\n      <td>Private</td>\n      <td>135568</td>\n      <td>HS-grad</td>\n      <td>9</td>\n      <td>Married-civ-spouse</td>\n      <td>Handlers-cleaners</td>\n      <td>Husband</td>\n      <td>White</td>\n      <td>Male</td>\n      <td>0</td>\n      <td>0</td>\n      <td>40</td>\n      <td>United-States</td>\n      <td>&lt;=50K</td>\n      <td>0</td>\n    </tr>\n    <tr>\n      <th>27</th>\n      <td>27</td>\n      <td>Private</td>\n      <td>153291</td>\n      <td>Prof-school</td>\n      <td>15</td>\n      <td>Married-civ-spouse</td>\n      <td>Prof-specialty</td>\n      <td>Wife</td>\n      <td>White</td>\n      <td>Female</td>\n      <td>0</td>\n      <td>0</td>\n      <td>50</td>\n      <td>United-States</td>\n      <td>&gt;50K</td>\n      <td>0</td>\n    </tr>\n    <tr>\n      <th>28</th>\n      <td>20</td>\n      <td>NaN</td>\n      <td>244689</td>\n      <td>Some-college</td>\n      <td>10</td>\n      <td>Never-married</td>\n      <td>NaN</td>\n      <td>Not-in-family</td>\n      <td>White</td>\n      <td>Female</td>\n      <td>0</td>\n      <td>0</td>\n      <td>25</td>\n      <td>United-States</td>\n      <td>&lt;=50K</td>\n      <td>0</td>\n    </tr>\n    <tr>\n      <th>29</th>\n      <td>31</td>\n      <td>Self-emp-not-inc</td>\n      <td>209213</td>\n      <td>HS-grad</td>\n      <td>9</td>\n      <td>Never-married</td>\n      <td>Sales</td>\n      <td>Not-in-family</td>\n      <td>Black</td>\n      <td>Male</td>\n      <td>0</td>\n      <td>0</td>\n      <td>40</td>\n      <td>NaN</td>\n      <td>&lt;=50K</td>\n      <td>0</td>\n    </tr>\n  </tbody>\n</table>\n</div>"
     },
     "metadata": {},
     "execution_count": 31
    }
   ],
   "source": [
    "df.replace('?',np.NaN, inplace= True)\n",
    "df.head(30)"
   ]
  },
  {
   "cell_type": "code",
   "execution_count": 32,
   "metadata": {},
   "outputs": [],
   "source": [
    "features = [f for f in df.columns if f not in (\"income\", \"kfold\")]\n",
    "for col in features:\n",
    "    df[col].fillna(\"NONE\", inplace = True)\n",
    "    df.loc[:, col] = df[col].astype(str)"
   ]
  },
  {
   "cell_type": "code",
   "execution_count": 33,
   "metadata": {},
   "outputs": [
    {
     "output_type": "execute_result",
     "data": {
      "text/plain": [
       "   age         workclass  fnlwgt     education education.num  \\\n",
       "0   43  Self-emp-not-inc   33521     Bachelors            13   \n",
       "1   26         Local-gov  104614     Bachelors            13   \n",
       "2   43           Private  220589       HS-grad             9   \n",
       "3   22           Private   63105       HS-grad             9   \n",
       "4   36           Private   88967          11th             7   \n",
       "5   56      Self-emp-inc  105582  Some-college            10   \n",
       "6   40         State-gov  119578     Bachelors            13   \n",
       "7   24           Private   36058     Bachelors            13   \n",
       "8   28           Private   66095       HS-grad             9   \n",
       "9   39         State-gov  152307     Bachelors            13   \n",
       "10  28           Private  334368     Assoc-voc            11   \n",
       "11  63              NONE  179981       HS-grad             9   \n",
       "12  36  Self-emp-not-inc  233533  Some-college            10   \n",
       "13  41         Local-gov  160785       HS-grad             9   \n",
       "14  42           Private  113770       HS-grad             9   \n",
       "15  19           Private  199441       HS-grad             9   \n",
       "16  36           Private  191335  Some-college            10   \n",
       "17  53         Local-gov  260106   Prof-school            15   \n",
       "18  65  Self-emp-not-inc   31740  Some-college            10   \n",
       "19  63           Private  158609     Assoc-voc            11   \n",
       "20  47           Private  266281          11th             7   \n",
       "21  41         State-gov   47170     Bachelors            13   \n",
       "22  25         Local-gov  192321     Bachelors            13   \n",
       "23  22              NONE  354351  Some-college            10   \n",
       "24  28  Self-emp-not-inc  209205  Some-college            10   \n",
       "25  31           Private   73585     Assoc-voc            11   \n",
       "26  25           Private  135568       HS-grad             9   \n",
       "27  27           Private  153291   Prof-school            15   \n",
       "28  20              NONE  244689  Some-college            10   \n",
       "29  31  Self-emp-not-inc  209213       HS-grad             9   \n",
       "\n",
       "        marital.status         occupation   relationship                race  \\\n",
       "0             Divorced     Prof-specialty  Not-in-family               White   \n",
       "1        Never-married     Prof-specialty      Own-child               White   \n",
       "2             Divorced    Exec-managerial      Unmarried               White   \n",
       "3        Never-married     Prof-specialty      Own-child               Black   \n",
       "4        Never-married   Transport-moving      Unmarried  Amer-Indian-Eskimo   \n",
       "5   Married-civ-spouse    Exec-managerial        Husband               White   \n",
       "6        Never-married     Prof-specialty      Unmarried               White   \n",
       "7        Never-married              Sales  Not-in-family               White   \n",
       "8   Married-civ-spouse              Sales        Husband               White   \n",
       "9   Married-civ-spouse     Prof-specialty        Husband               White   \n",
       "10       Never-married     Prof-specialty  Not-in-family               White   \n",
       "11  Married-civ-spouse               NONE        Husband               White   \n",
       "12  Married-civ-spouse       Craft-repair        Husband               White   \n",
       "13  Married-civ-spouse       Craft-repair        Husband               White   \n",
       "14  Married-civ-spouse       Adm-clerical           Wife               White   \n",
       "15       Never-married     Prof-specialty  Not-in-family               White   \n",
       "16  Married-civ-spouse       Craft-repair        Husband               White   \n",
       "17            Divorced     Prof-specialty  Not-in-family               White   \n",
       "18             Widowed    Exec-managerial      Unmarried               White   \n",
       "19             Widowed       Adm-clerical      Unmarried               White   \n",
       "20       Never-married  Machine-op-inspct      Unmarried               Black   \n",
       "21  Married-civ-spouse     Prof-specialty           Wife  Amer-Indian-Eskimo   \n",
       "22       Never-married     Prof-specialty      Own-child               White   \n",
       "23       Never-married               NONE  Not-in-family               White   \n",
       "24  Married-civ-spouse       Craft-repair        Husband               White   \n",
       "25  Married-civ-spouse     Prof-specialty        Husband               White   \n",
       "26  Married-civ-spouse  Handlers-cleaners        Husband               White   \n",
       "27  Married-civ-spouse     Prof-specialty           Wife               White   \n",
       "28       Never-married               NONE  Not-in-family               White   \n",
       "29       Never-married              Sales  Not-in-family               Black   \n",
       "\n",
       "       sex capital.gain capital.loss hours.per.week native.country income  \\\n",
       "0     Male            0            0             70  United-States   >50K   \n",
       "1   Female            0            0             40  United-States  <=50K   \n",
       "2   Female            0            0             40  United-States  <=50K   \n",
       "3     Male            0            0             40  United-States  <=50K   \n",
       "4     Male            0            0             65  United-States  <=50K   \n",
       "5     Male         7688            0             50  United-States   >50K   \n",
       "6   Female            0            0             20  United-States  <=50K   \n",
       "7     Male            0            0             50  United-States  <=50K   \n",
       "8     Male            0            0             40  United-States  <=50K   \n",
       "9     Male            0            0             40  United-States  <=50K   \n",
       "10  Female         4650            0             40  United-States  <=50K   \n",
       "11    Male            0            0              4  United-States  <=50K   \n",
       "12    Male            0            0             60  United-States   >50K   \n",
       "13    Male            0            0             40  United-States  <=50K   \n",
       "14  Female            0            0             40  United-States  <=50K   \n",
       "15  Female            0            0             40  United-States  <=50K   \n",
       "16    Male            0            0             56  United-States  <=50K   \n",
       "17  Female            0            0             50  United-States  <=50K   \n",
       "18  Female            0            0             45  United-States  <=50K   \n",
       "19  Female            0            0              8  United-States  <=50K   \n",
       "20  Female         6849            0             40  United-States  <=50K   \n",
       "21  Female            0            0             48  United-States   >50K   \n",
       "22  Female            0            0             40  United-States  <=50K   \n",
       "23    Male            0            0             40  United-States  <=50K   \n",
       "24    Male         7298            0             40  United-States   >50K   \n",
       "25    Male            0            0             45  United-States  <=50K   \n",
       "26    Male            0            0             40  United-States  <=50K   \n",
       "27  Female            0            0             50  United-States   >50K   \n",
       "28  Female            0            0             25  United-States  <=50K   \n",
       "29    Male            0            0             40           NONE  <=50K   \n",
       "\n",
       "    kfold  \n",
       "0       0  \n",
       "1       0  \n",
       "2       0  \n",
       "3       0  \n",
       "4       0  \n",
       "5       0  \n",
       "6       0  \n",
       "7       0  \n",
       "8       0  \n",
       "9       0  \n",
       "10      0  \n",
       "11      0  \n",
       "12      0  \n",
       "13      0  \n",
       "14      0  \n",
       "15      0  \n",
       "16      0  \n",
       "17      0  \n",
       "18      0  \n",
       "19      0  \n",
       "20      0  \n",
       "21      0  \n",
       "22      0  \n",
       "23      0  \n",
       "24      0  \n",
       "25      0  \n",
       "26      0  \n",
       "27      0  \n",
       "28      0  \n",
       "29      0  "
      ],
      "text/html": "<div>\n<style scoped>\n    .dataframe tbody tr th:only-of-type {\n        vertical-align: middle;\n    }\n\n    .dataframe tbody tr th {\n        vertical-align: top;\n    }\n\n    .dataframe thead th {\n        text-align: right;\n    }\n</style>\n<table border=\"1\" class=\"dataframe\">\n  <thead>\n    <tr style=\"text-align: right;\">\n      <th></th>\n      <th>age</th>\n      <th>workclass</th>\n      <th>fnlwgt</th>\n      <th>education</th>\n      <th>education.num</th>\n      <th>marital.status</th>\n      <th>occupation</th>\n      <th>relationship</th>\n      <th>race</th>\n      <th>sex</th>\n      <th>capital.gain</th>\n      <th>capital.loss</th>\n      <th>hours.per.week</th>\n      <th>native.country</th>\n      <th>income</th>\n      <th>kfold</th>\n    </tr>\n  </thead>\n  <tbody>\n    <tr>\n      <th>0</th>\n      <td>43</td>\n      <td>Self-emp-not-inc</td>\n      <td>33521</td>\n      <td>Bachelors</td>\n      <td>13</td>\n      <td>Divorced</td>\n      <td>Prof-specialty</td>\n      <td>Not-in-family</td>\n      <td>White</td>\n      <td>Male</td>\n      <td>0</td>\n      <td>0</td>\n      <td>70</td>\n      <td>United-States</td>\n      <td>&gt;50K</td>\n      <td>0</td>\n    </tr>\n    <tr>\n      <th>1</th>\n      <td>26</td>\n      <td>Local-gov</td>\n      <td>104614</td>\n      <td>Bachelors</td>\n      <td>13</td>\n      <td>Never-married</td>\n      <td>Prof-specialty</td>\n      <td>Own-child</td>\n      <td>White</td>\n      <td>Female</td>\n      <td>0</td>\n      <td>0</td>\n      <td>40</td>\n      <td>United-States</td>\n      <td>&lt;=50K</td>\n      <td>0</td>\n    </tr>\n    <tr>\n      <th>2</th>\n      <td>43</td>\n      <td>Private</td>\n      <td>220589</td>\n      <td>HS-grad</td>\n      <td>9</td>\n      <td>Divorced</td>\n      <td>Exec-managerial</td>\n      <td>Unmarried</td>\n      <td>White</td>\n      <td>Female</td>\n      <td>0</td>\n      <td>0</td>\n      <td>40</td>\n      <td>United-States</td>\n      <td>&lt;=50K</td>\n      <td>0</td>\n    </tr>\n    <tr>\n      <th>3</th>\n      <td>22</td>\n      <td>Private</td>\n      <td>63105</td>\n      <td>HS-grad</td>\n      <td>9</td>\n      <td>Never-married</td>\n      <td>Prof-specialty</td>\n      <td>Own-child</td>\n      <td>Black</td>\n      <td>Male</td>\n      <td>0</td>\n      <td>0</td>\n      <td>40</td>\n      <td>United-States</td>\n      <td>&lt;=50K</td>\n      <td>0</td>\n    </tr>\n    <tr>\n      <th>4</th>\n      <td>36</td>\n      <td>Private</td>\n      <td>88967</td>\n      <td>11th</td>\n      <td>7</td>\n      <td>Never-married</td>\n      <td>Transport-moving</td>\n      <td>Unmarried</td>\n      <td>Amer-Indian-Eskimo</td>\n      <td>Male</td>\n      <td>0</td>\n      <td>0</td>\n      <td>65</td>\n      <td>United-States</td>\n      <td>&lt;=50K</td>\n      <td>0</td>\n    </tr>\n    <tr>\n      <th>5</th>\n      <td>56</td>\n      <td>Self-emp-inc</td>\n      <td>105582</td>\n      <td>Some-college</td>\n      <td>10</td>\n      <td>Married-civ-spouse</td>\n      <td>Exec-managerial</td>\n      <td>Husband</td>\n      <td>White</td>\n      <td>Male</td>\n      <td>7688</td>\n      <td>0</td>\n      <td>50</td>\n      <td>United-States</td>\n      <td>&gt;50K</td>\n      <td>0</td>\n    </tr>\n    <tr>\n      <th>6</th>\n      <td>40</td>\n      <td>State-gov</td>\n      <td>119578</td>\n      <td>Bachelors</td>\n      <td>13</td>\n      <td>Never-married</td>\n      <td>Prof-specialty</td>\n      <td>Unmarried</td>\n      <td>White</td>\n      <td>Female</td>\n      <td>0</td>\n      <td>0</td>\n      <td>20</td>\n      <td>United-States</td>\n      <td>&lt;=50K</td>\n      <td>0</td>\n    </tr>\n    <tr>\n      <th>7</th>\n      <td>24</td>\n      <td>Private</td>\n      <td>36058</td>\n      <td>Bachelors</td>\n      <td>13</td>\n      <td>Never-married</td>\n      <td>Sales</td>\n      <td>Not-in-family</td>\n      <td>White</td>\n      <td>Male</td>\n      <td>0</td>\n      <td>0</td>\n      <td>50</td>\n      <td>United-States</td>\n      <td>&lt;=50K</td>\n      <td>0</td>\n    </tr>\n    <tr>\n      <th>8</th>\n      <td>28</td>\n      <td>Private</td>\n      <td>66095</td>\n      <td>HS-grad</td>\n      <td>9</td>\n      <td>Married-civ-spouse</td>\n      <td>Sales</td>\n      <td>Husband</td>\n      <td>White</td>\n      <td>Male</td>\n      <td>0</td>\n      <td>0</td>\n      <td>40</td>\n      <td>United-States</td>\n      <td>&lt;=50K</td>\n      <td>0</td>\n    </tr>\n    <tr>\n      <th>9</th>\n      <td>39</td>\n      <td>State-gov</td>\n      <td>152307</td>\n      <td>Bachelors</td>\n      <td>13</td>\n      <td>Married-civ-spouse</td>\n      <td>Prof-specialty</td>\n      <td>Husband</td>\n      <td>White</td>\n      <td>Male</td>\n      <td>0</td>\n      <td>0</td>\n      <td>40</td>\n      <td>United-States</td>\n      <td>&lt;=50K</td>\n      <td>0</td>\n    </tr>\n    <tr>\n      <th>10</th>\n      <td>28</td>\n      <td>Private</td>\n      <td>334368</td>\n      <td>Assoc-voc</td>\n      <td>11</td>\n      <td>Never-married</td>\n      <td>Prof-specialty</td>\n      <td>Not-in-family</td>\n      <td>White</td>\n      <td>Female</td>\n      <td>4650</td>\n      <td>0</td>\n      <td>40</td>\n      <td>United-States</td>\n      <td>&lt;=50K</td>\n      <td>0</td>\n    </tr>\n    <tr>\n      <th>11</th>\n      <td>63</td>\n      <td>NONE</td>\n      <td>179981</td>\n      <td>HS-grad</td>\n      <td>9</td>\n      <td>Married-civ-spouse</td>\n      <td>NONE</td>\n      <td>Husband</td>\n      <td>White</td>\n      <td>Male</td>\n      <td>0</td>\n      <td>0</td>\n      <td>4</td>\n      <td>United-States</td>\n      <td>&lt;=50K</td>\n      <td>0</td>\n    </tr>\n    <tr>\n      <th>12</th>\n      <td>36</td>\n      <td>Self-emp-not-inc</td>\n      <td>233533</td>\n      <td>Some-college</td>\n      <td>10</td>\n      <td>Married-civ-spouse</td>\n      <td>Craft-repair</td>\n      <td>Husband</td>\n      <td>White</td>\n      <td>Male</td>\n      <td>0</td>\n      <td>0</td>\n      <td>60</td>\n      <td>United-States</td>\n      <td>&gt;50K</td>\n      <td>0</td>\n    </tr>\n    <tr>\n      <th>13</th>\n      <td>41</td>\n      <td>Local-gov</td>\n      <td>160785</td>\n      <td>HS-grad</td>\n      <td>9</td>\n      <td>Married-civ-spouse</td>\n      <td>Craft-repair</td>\n      <td>Husband</td>\n      <td>White</td>\n      <td>Male</td>\n      <td>0</td>\n      <td>0</td>\n      <td>40</td>\n      <td>United-States</td>\n      <td>&lt;=50K</td>\n      <td>0</td>\n    </tr>\n    <tr>\n      <th>14</th>\n      <td>42</td>\n      <td>Private</td>\n      <td>113770</td>\n      <td>HS-grad</td>\n      <td>9</td>\n      <td>Married-civ-spouse</td>\n      <td>Adm-clerical</td>\n      <td>Wife</td>\n      <td>White</td>\n      <td>Female</td>\n      <td>0</td>\n      <td>0</td>\n      <td>40</td>\n      <td>United-States</td>\n      <td>&lt;=50K</td>\n      <td>0</td>\n    </tr>\n    <tr>\n      <th>15</th>\n      <td>19</td>\n      <td>Private</td>\n      <td>199441</td>\n      <td>HS-grad</td>\n      <td>9</td>\n      <td>Never-married</td>\n      <td>Prof-specialty</td>\n      <td>Not-in-family</td>\n      <td>White</td>\n      <td>Female</td>\n      <td>0</td>\n      <td>0</td>\n      <td>40</td>\n      <td>United-States</td>\n      <td>&lt;=50K</td>\n      <td>0</td>\n    </tr>\n    <tr>\n      <th>16</th>\n      <td>36</td>\n      <td>Private</td>\n      <td>191335</td>\n      <td>Some-college</td>\n      <td>10</td>\n      <td>Married-civ-spouse</td>\n      <td>Craft-repair</td>\n      <td>Husband</td>\n      <td>White</td>\n      <td>Male</td>\n      <td>0</td>\n      <td>0</td>\n      <td>56</td>\n      <td>United-States</td>\n      <td>&lt;=50K</td>\n      <td>0</td>\n    </tr>\n    <tr>\n      <th>17</th>\n      <td>53</td>\n      <td>Local-gov</td>\n      <td>260106</td>\n      <td>Prof-school</td>\n      <td>15</td>\n      <td>Divorced</td>\n      <td>Prof-specialty</td>\n      <td>Not-in-family</td>\n      <td>White</td>\n      <td>Female</td>\n      <td>0</td>\n      <td>0</td>\n      <td>50</td>\n      <td>United-States</td>\n      <td>&lt;=50K</td>\n      <td>0</td>\n    </tr>\n    <tr>\n      <th>18</th>\n      <td>65</td>\n      <td>Self-emp-not-inc</td>\n      <td>31740</td>\n      <td>Some-college</td>\n      <td>10</td>\n      <td>Widowed</td>\n      <td>Exec-managerial</td>\n      <td>Unmarried</td>\n      <td>White</td>\n      <td>Female</td>\n      <td>0</td>\n      <td>0</td>\n      <td>45</td>\n      <td>United-States</td>\n      <td>&lt;=50K</td>\n      <td>0</td>\n    </tr>\n    <tr>\n      <th>19</th>\n      <td>63</td>\n      <td>Private</td>\n      <td>158609</td>\n      <td>Assoc-voc</td>\n      <td>11</td>\n      <td>Widowed</td>\n      <td>Adm-clerical</td>\n      <td>Unmarried</td>\n      <td>White</td>\n      <td>Female</td>\n      <td>0</td>\n      <td>0</td>\n      <td>8</td>\n      <td>United-States</td>\n      <td>&lt;=50K</td>\n      <td>0</td>\n    </tr>\n    <tr>\n      <th>20</th>\n      <td>47</td>\n      <td>Private</td>\n      <td>266281</td>\n      <td>11th</td>\n      <td>7</td>\n      <td>Never-married</td>\n      <td>Machine-op-inspct</td>\n      <td>Unmarried</td>\n      <td>Black</td>\n      <td>Female</td>\n      <td>6849</td>\n      <td>0</td>\n      <td>40</td>\n      <td>United-States</td>\n      <td>&lt;=50K</td>\n      <td>0</td>\n    </tr>\n    <tr>\n      <th>21</th>\n      <td>41</td>\n      <td>State-gov</td>\n      <td>47170</td>\n      <td>Bachelors</td>\n      <td>13</td>\n      <td>Married-civ-spouse</td>\n      <td>Prof-specialty</td>\n      <td>Wife</td>\n      <td>Amer-Indian-Eskimo</td>\n      <td>Female</td>\n      <td>0</td>\n      <td>0</td>\n      <td>48</td>\n      <td>United-States</td>\n      <td>&gt;50K</td>\n      <td>0</td>\n    </tr>\n    <tr>\n      <th>22</th>\n      <td>25</td>\n      <td>Local-gov</td>\n      <td>192321</td>\n      <td>Bachelors</td>\n      <td>13</td>\n      <td>Never-married</td>\n      <td>Prof-specialty</td>\n      <td>Own-child</td>\n      <td>White</td>\n      <td>Female</td>\n      <td>0</td>\n      <td>0</td>\n      <td>40</td>\n      <td>United-States</td>\n      <td>&lt;=50K</td>\n      <td>0</td>\n    </tr>\n    <tr>\n      <th>23</th>\n      <td>22</td>\n      <td>NONE</td>\n      <td>354351</td>\n      <td>Some-college</td>\n      <td>10</td>\n      <td>Never-married</td>\n      <td>NONE</td>\n      <td>Not-in-family</td>\n      <td>White</td>\n      <td>Male</td>\n      <td>0</td>\n      <td>0</td>\n      <td>40</td>\n      <td>United-States</td>\n      <td>&lt;=50K</td>\n      <td>0</td>\n    </tr>\n    <tr>\n      <th>24</th>\n      <td>28</td>\n      <td>Self-emp-not-inc</td>\n      <td>209205</td>\n      <td>Some-college</td>\n      <td>10</td>\n      <td>Married-civ-spouse</td>\n      <td>Craft-repair</td>\n      <td>Husband</td>\n      <td>White</td>\n      <td>Male</td>\n      <td>7298</td>\n      <td>0</td>\n      <td>40</td>\n      <td>United-States</td>\n      <td>&gt;50K</td>\n      <td>0</td>\n    </tr>\n    <tr>\n      <th>25</th>\n      <td>31</td>\n      <td>Private</td>\n      <td>73585</td>\n      <td>Assoc-voc</td>\n      <td>11</td>\n      <td>Married-civ-spouse</td>\n      <td>Prof-specialty</td>\n      <td>Husband</td>\n      <td>White</td>\n      <td>Male</td>\n      <td>0</td>\n      <td>0</td>\n      <td>45</td>\n      <td>United-States</td>\n      <td>&lt;=50K</td>\n      <td>0</td>\n    </tr>\n    <tr>\n      <th>26</th>\n      <td>25</td>\n      <td>Private</td>\n      <td>135568</td>\n      <td>HS-grad</td>\n      <td>9</td>\n      <td>Married-civ-spouse</td>\n      <td>Handlers-cleaners</td>\n      <td>Husband</td>\n      <td>White</td>\n      <td>Male</td>\n      <td>0</td>\n      <td>0</td>\n      <td>40</td>\n      <td>United-States</td>\n      <td>&lt;=50K</td>\n      <td>0</td>\n    </tr>\n    <tr>\n      <th>27</th>\n      <td>27</td>\n      <td>Private</td>\n      <td>153291</td>\n      <td>Prof-school</td>\n      <td>15</td>\n      <td>Married-civ-spouse</td>\n      <td>Prof-specialty</td>\n      <td>Wife</td>\n      <td>White</td>\n      <td>Female</td>\n      <td>0</td>\n      <td>0</td>\n      <td>50</td>\n      <td>United-States</td>\n      <td>&gt;50K</td>\n      <td>0</td>\n    </tr>\n    <tr>\n      <th>28</th>\n      <td>20</td>\n      <td>NONE</td>\n      <td>244689</td>\n      <td>Some-college</td>\n      <td>10</td>\n      <td>Never-married</td>\n      <td>NONE</td>\n      <td>Not-in-family</td>\n      <td>White</td>\n      <td>Female</td>\n      <td>0</td>\n      <td>0</td>\n      <td>25</td>\n      <td>United-States</td>\n      <td>&lt;=50K</td>\n      <td>0</td>\n    </tr>\n    <tr>\n      <th>29</th>\n      <td>31</td>\n      <td>Self-emp-not-inc</td>\n      <td>209213</td>\n      <td>HS-grad</td>\n      <td>9</td>\n      <td>Never-married</td>\n      <td>Sales</td>\n      <td>Not-in-family</td>\n      <td>Black</td>\n      <td>Male</td>\n      <td>0</td>\n      <td>0</td>\n      <td>40</td>\n      <td>NONE</td>\n      <td>&lt;=50K</td>\n      <td>0</td>\n    </tr>\n  </tbody>\n</table>\n</div>"
     },
     "metadata": {},
     "execution_count": 33
    }
   ],
   "source": [
    "df.head(30)"
   ]
  },
  {
   "cell_type": "code",
   "execution_count": null,
   "metadata": {},
   "outputs": [],
   "source": []
  }
 ]
}