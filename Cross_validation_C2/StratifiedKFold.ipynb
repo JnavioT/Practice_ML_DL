{
 "metadata": {
  "language_info": {
   "codemirror_mode": {
    "name": "ipython",
    "version": 3
   },
   "file_extension": ".py",
   "mimetype": "text/x-python",
   "name": "python",
   "nbconvert_exporter": "python",
   "pygments_lexer": "ipython3",
   "version": "3.7.6-final"
  },
  "orig_nbformat": 2,
  "kernelspec": {
   "name": "python37664bitmlconda980804e045fd4bc6a4f52e64fdc3fcf3",
   "display_name": "Python 3.7.6 64-bit ('ml': conda)",
   "language": "python"
  }
 },
 "nbformat": 4,
 "nbformat_minor": 2,
 "cells": [
  {
   "cell_type": "code",
   "execution_count": 1,
   "metadata": {},
   "outputs": [],
   "source": [
    "#Si el problema es de clasificacion la regla es escoger stritified k-fold a ciegas.\n",
    "import pandas as pd\n",
    "from sklearn import model_selection"
   ]
  },
  {
   "cell_type": "code",
   "execution_count": 2,
   "metadata": {},
   "outputs": [],
   "source": [
    "df = pd.read_csv(\"winequality-red.csv\")\n",
    "df[\"kfold\"] = -1\n",
    "df = df.sample(frac=1).reset_index(drop=True)\n",
    "\n"
   ]
  },
  {
   "cell_type": "code",
   "execution_count": 3,
   "metadata": {},
   "outputs": [
    {
     "output_type": "execute_result",
     "data": {
      "text/plain": [
       "      fixed acidity  volatile acidity  citric acid  residual sugar  chlorides  \\\n",
       "0               7.6             0.540         0.13            2.50      0.097   \n",
       "1               9.1             0.290         0.33            2.05      0.063   \n",
       "2               8.6             0.370         0.65            6.40      0.080   \n",
       "3               8.2             0.330         0.39            2.50      0.074   \n",
       "4              11.4             0.625         0.66            6.20      0.088   \n",
       "...             ...               ...          ...             ...        ...   \n",
       "1594            5.6             0.605         0.05            2.40      0.073   \n",
       "1595            6.9             0.635         0.17            2.40      0.241   \n",
       "1596            8.4             0.340         0.42            2.10      0.072   \n",
       "1597           11.1             0.390         0.54            2.70      0.095   \n",
       "1598            6.8             0.815         0.00            1.20      0.267   \n",
       "\n",
       "      free sulfur dioxide  total sulfur dioxide  density    pH  sulphates  \\\n",
       "0                    24.0                  66.0  0.99785  3.39       0.61   \n",
       "1                    13.0                  27.0  0.99516  3.26       0.84   \n",
       "2                     3.0                   8.0  0.99817  3.27       0.58   \n",
       "3                    29.0                  48.0  0.99528  3.32       0.88   \n",
       "4                     6.0                  24.0  0.99880  3.11       0.99   \n",
       "...                   ...                   ...      ...   ...        ...   \n",
       "1594                 19.0                  25.0  0.99258  3.56       0.55   \n",
       "1595                  6.0                  18.0  0.99610  3.40       0.59   \n",
       "1596                 23.0                  36.0  0.99392  3.11       0.78   \n",
       "1597                 21.0                 101.0  1.00010  3.13       0.51   \n",
       "1598                 16.0                  29.0  0.99471  3.32       0.51   \n",
       "\n",
       "      alcohol  quality  kfold  \n",
       "0         9.4        5     -1  \n",
       "1        11.7        7     -1  \n",
       "2        11.0        5     -1  \n",
       "3        12.4        7     -1  \n",
       "4        13.3        6     -1  \n",
       "...       ...      ...    ...  \n",
       "1594     12.9        5     -1  \n",
       "1595     10.3        6     -1  \n",
       "1596     12.4        6     -1  \n",
       "1597      9.5        5     -1  \n",
       "1598      9.8        3     -1  \n",
       "\n",
       "[1599 rows x 13 columns]"
      ],
      "text/html": "<div>\n<style scoped>\n    .dataframe tbody tr th:only-of-type {\n        vertical-align: middle;\n    }\n\n    .dataframe tbody tr th {\n        vertical-align: top;\n    }\n\n    .dataframe thead th {\n        text-align: right;\n    }\n</style>\n<table border=\"1\" class=\"dataframe\">\n  <thead>\n    <tr style=\"text-align: right;\">\n      <th></th>\n      <th>fixed acidity</th>\n      <th>volatile acidity</th>\n      <th>citric acid</th>\n      <th>residual sugar</th>\n      <th>chlorides</th>\n      <th>free sulfur dioxide</th>\n      <th>total sulfur dioxide</th>\n      <th>density</th>\n      <th>pH</th>\n      <th>sulphates</th>\n      <th>alcohol</th>\n      <th>quality</th>\n      <th>kfold</th>\n    </tr>\n  </thead>\n  <tbody>\n    <tr>\n      <th>0</th>\n      <td>7.6</td>\n      <td>0.540</td>\n      <td>0.13</td>\n      <td>2.50</td>\n      <td>0.097</td>\n      <td>24.0</td>\n      <td>66.0</td>\n      <td>0.99785</td>\n      <td>3.39</td>\n      <td>0.61</td>\n      <td>9.4</td>\n      <td>5</td>\n      <td>-1</td>\n    </tr>\n    <tr>\n      <th>1</th>\n      <td>9.1</td>\n      <td>0.290</td>\n      <td>0.33</td>\n      <td>2.05</td>\n      <td>0.063</td>\n      <td>13.0</td>\n      <td>27.0</td>\n      <td>0.99516</td>\n      <td>3.26</td>\n      <td>0.84</td>\n      <td>11.7</td>\n      <td>7</td>\n      <td>-1</td>\n    </tr>\n    <tr>\n      <th>2</th>\n      <td>8.6</td>\n      <td>0.370</td>\n      <td>0.65</td>\n      <td>6.40</td>\n      <td>0.080</td>\n      <td>3.0</td>\n      <td>8.0</td>\n      <td>0.99817</td>\n      <td>3.27</td>\n      <td>0.58</td>\n      <td>11.0</td>\n      <td>5</td>\n      <td>-1</td>\n    </tr>\n    <tr>\n      <th>3</th>\n      <td>8.2</td>\n      <td>0.330</td>\n      <td>0.39</td>\n      <td>2.50</td>\n      <td>0.074</td>\n      <td>29.0</td>\n      <td>48.0</td>\n      <td>0.99528</td>\n      <td>3.32</td>\n      <td>0.88</td>\n      <td>12.4</td>\n      <td>7</td>\n      <td>-1</td>\n    </tr>\n    <tr>\n      <th>4</th>\n      <td>11.4</td>\n      <td>0.625</td>\n      <td>0.66</td>\n      <td>6.20</td>\n      <td>0.088</td>\n      <td>6.0</td>\n      <td>24.0</td>\n      <td>0.99880</td>\n      <td>3.11</td>\n      <td>0.99</td>\n      <td>13.3</td>\n      <td>6</td>\n      <td>-1</td>\n    </tr>\n    <tr>\n      <th>...</th>\n      <td>...</td>\n      <td>...</td>\n      <td>...</td>\n      <td>...</td>\n      <td>...</td>\n      <td>...</td>\n      <td>...</td>\n      <td>...</td>\n      <td>...</td>\n      <td>...</td>\n      <td>...</td>\n      <td>...</td>\n      <td>...</td>\n    </tr>\n    <tr>\n      <th>1594</th>\n      <td>5.6</td>\n      <td>0.605</td>\n      <td>0.05</td>\n      <td>2.40</td>\n      <td>0.073</td>\n      <td>19.0</td>\n      <td>25.0</td>\n      <td>0.99258</td>\n      <td>3.56</td>\n      <td>0.55</td>\n      <td>12.9</td>\n      <td>5</td>\n      <td>-1</td>\n    </tr>\n    <tr>\n      <th>1595</th>\n      <td>6.9</td>\n      <td>0.635</td>\n      <td>0.17</td>\n      <td>2.40</td>\n      <td>0.241</td>\n      <td>6.0</td>\n      <td>18.0</td>\n      <td>0.99610</td>\n      <td>3.40</td>\n      <td>0.59</td>\n      <td>10.3</td>\n      <td>6</td>\n      <td>-1</td>\n    </tr>\n    <tr>\n      <th>1596</th>\n      <td>8.4</td>\n      <td>0.340</td>\n      <td>0.42</td>\n      <td>2.10</td>\n      <td>0.072</td>\n      <td>23.0</td>\n      <td>36.0</td>\n      <td>0.99392</td>\n      <td>3.11</td>\n      <td>0.78</td>\n      <td>12.4</td>\n      <td>6</td>\n      <td>-1</td>\n    </tr>\n    <tr>\n      <th>1597</th>\n      <td>11.1</td>\n      <td>0.390</td>\n      <td>0.54</td>\n      <td>2.70</td>\n      <td>0.095</td>\n      <td>21.0</td>\n      <td>101.0</td>\n      <td>1.00010</td>\n      <td>3.13</td>\n      <td>0.51</td>\n      <td>9.5</td>\n      <td>5</td>\n      <td>-1</td>\n    </tr>\n    <tr>\n      <th>1598</th>\n      <td>6.8</td>\n      <td>0.815</td>\n      <td>0.00</td>\n      <td>1.20</td>\n      <td>0.267</td>\n      <td>16.0</td>\n      <td>29.0</td>\n      <td>0.99471</td>\n      <td>3.32</td>\n      <td>0.51</td>\n      <td>9.8</td>\n      <td>3</td>\n      <td>-1</td>\n    </tr>\n  </tbody>\n</table>\n<p>1599 rows × 13 columns</p>\n</div>"
     },
     "metadata": {},
     "execution_count": 3
    }
   ],
   "source": [
    "df"
   ]
  },
  {
   "cell_type": "code",
   "execution_count": 4,
   "metadata": {},
   "outputs": [],
   "source": [
    "y = df.quality.values"
   ]
  },
  {
   "cell_type": "code",
   "execution_count": 5,
   "metadata": {},
   "outputs": [
    {
     "output_type": "execute_result",
     "data": {
      "text/plain": [
       "array([5, 7, 5, ..., 6, 5, 3])"
      ]
     },
     "metadata": {},
     "execution_count": 5
    }
   ],
   "source": [
    "y"
   ]
  },
  {
   "cell_type": "code",
   "execution_count": 6,
   "metadata": {},
   "outputs": [],
   "source": [
    "kf = model_selection.StratifiedKFold(n_splits=5)"
   ]
  },
  {
   "cell_type": "code",
   "execution_count": 8,
   "metadata": {},
   "outputs": [],
   "source": [
    "for f, (t_, v_) in enumerate(kf.split(X=df, y=y)):\n",
    "    df.loc[v_, 'kfold'] = f"
   ]
  },
  {
   "cell_type": "code",
   "execution_count": 9,
   "metadata": {},
   "outputs": [
    {
     "output_type": "execute_result",
     "data": {
      "text/plain": [
       "      fixed acidity  volatile acidity  citric acid  residual sugar  chlorides  \\\n",
       "0               7.6             0.540         0.13            2.50      0.097   \n",
       "1               9.1             0.290         0.33            2.05      0.063   \n",
       "2               8.6             0.370         0.65            6.40      0.080   \n",
       "3               8.2             0.330         0.39            2.50      0.074   \n",
       "4              11.4             0.625         0.66            6.20      0.088   \n",
       "...             ...               ...          ...             ...        ...   \n",
       "1594            5.6             0.605         0.05            2.40      0.073   \n",
       "1595            6.9             0.635         0.17            2.40      0.241   \n",
       "1596            8.4             0.340         0.42            2.10      0.072   \n",
       "1597           11.1             0.390         0.54            2.70      0.095   \n",
       "1598            6.8             0.815         0.00            1.20      0.267   \n",
       "\n",
       "      free sulfur dioxide  total sulfur dioxide  density    pH  sulphates  \\\n",
       "0                    24.0                  66.0  0.99785  3.39       0.61   \n",
       "1                    13.0                  27.0  0.99516  3.26       0.84   \n",
       "2                     3.0                   8.0  0.99817  3.27       0.58   \n",
       "3                    29.0                  48.0  0.99528  3.32       0.88   \n",
       "4                     6.0                  24.0  0.99880  3.11       0.99   \n",
       "...                   ...                   ...      ...   ...        ...   \n",
       "1594                 19.0                  25.0  0.99258  3.56       0.55   \n",
       "1595                  6.0                  18.0  0.99610  3.40       0.59   \n",
       "1596                 23.0                  36.0  0.99392  3.11       0.78   \n",
       "1597                 21.0                 101.0  1.00010  3.13       0.51   \n",
       "1598                 16.0                  29.0  0.99471  3.32       0.51   \n",
       "\n",
       "      alcohol  quality  kfold  \n",
       "0         9.4        5      0  \n",
       "1        11.7        7      0  \n",
       "2        11.0        5      0  \n",
       "3        12.4        7      0  \n",
       "4        13.3        6      0  \n",
       "...       ...      ...    ...  \n",
       "1594     12.9        5      4  \n",
       "1595     10.3        6      4  \n",
       "1596     12.4        6      4  \n",
       "1597      9.5        5      4  \n",
       "1598      9.8        3      4  \n",
       "\n",
       "[1599 rows x 13 columns]"
      ],
      "text/html": "<div>\n<style scoped>\n    .dataframe tbody tr th:only-of-type {\n        vertical-align: middle;\n    }\n\n    .dataframe tbody tr th {\n        vertical-align: top;\n    }\n\n    .dataframe thead th {\n        text-align: right;\n    }\n</style>\n<table border=\"1\" class=\"dataframe\">\n  <thead>\n    <tr style=\"text-align: right;\">\n      <th></th>\n      <th>fixed acidity</th>\n      <th>volatile acidity</th>\n      <th>citric acid</th>\n      <th>residual sugar</th>\n      <th>chlorides</th>\n      <th>free sulfur dioxide</th>\n      <th>total sulfur dioxide</th>\n      <th>density</th>\n      <th>pH</th>\n      <th>sulphates</th>\n      <th>alcohol</th>\n      <th>quality</th>\n      <th>kfold</th>\n    </tr>\n  </thead>\n  <tbody>\n    <tr>\n      <th>0</th>\n      <td>7.6</td>\n      <td>0.540</td>\n      <td>0.13</td>\n      <td>2.50</td>\n      <td>0.097</td>\n      <td>24.0</td>\n      <td>66.0</td>\n      <td>0.99785</td>\n      <td>3.39</td>\n      <td>0.61</td>\n      <td>9.4</td>\n      <td>5</td>\n      <td>0</td>\n    </tr>\n    <tr>\n      <th>1</th>\n      <td>9.1</td>\n      <td>0.290</td>\n      <td>0.33</td>\n      <td>2.05</td>\n      <td>0.063</td>\n      <td>13.0</td>\n      <td>27.0</td>\n      <td>0.99516</td>\n      <td>3.26</td>\n      <td>0.84</td>\n      <td>11.7</td>\n      <td>7</td>\n      <td>0</td>\n    </tr>\n    <tr>\n      <th>2</th>\n      <td>8.6</td>\n      <td>0.370</td>\n      <td>0.65</td>\n      <td>6.40</td>\n      <td>0.080</td>\n      <td>3.0</td>\n      <td>8.0</td>\n      <td>0.99817</td>\n      <td>3.27</td>\n      <td>0.58</td>\n      <td>11.0</td>\n      <td>5</td>\n      <td>0</td>\n    </tr>\n    <tr>\n      <th>3</th>\n      <td>8.2</td>\n      <td>0.330</td>\n      <td>0.39</td>\n      <td>2.50</td>\n      <td>0.074</td>\n      <td>29.0</td>\n      <td>48.0</td>\n      <td>0.99528</td>\n      <td>3.32</td>\n      <td>0.88</td>\n      <td>12.4</td>\n      <td>7</td>\n      <td>0</td>\n    </tr>\n    <tr>\n      <th>4</th>\n      <td>11.4</td>\n      <td>0.625</td>\n      <td>0.66</td>\n      <td>6.20</td>\n      <td>0.088</td>\n      <td>6.0</td>\n      <td>24.0</td>\n      <td>0.99880</td>\n      <td>3.11</td>\n      <td>0.99</td>\n      <td>13.3</td>\n      <td>6</td>\n      <td>0</td>\n    </tr>\n    <tr>\n      <th>...</th>\n      <td>...</td>\n      <td>...</td>\n      <td>...</td>\n      <td>...</td>\n      <td>...</td>\n      <td>...</td>\n      <td>...</td>\n      <td>...</td>\n      <td>...</td>\n      <td>...</td>\n      <td>...</td>\n      <td>...</td>\n      <td>...</td>\n    </tr>\n    <tr>\n      <th>1594</th>\n      <td>5.6</td>\n      <td>0.605</td>\n      <td>0.05</td>\n      <td>2.40</td>\n      <td>0.073</td>\n      <td>19.0</td>\n      <td>25.0</td>\n      <td>0.99258</td>\n      <td>3.56</td>\n      <td>0.55</td>\n      <td>12.9</td>\n      <td>5</td>\n      <td>4</td>\n    </tr>\n    <tr>\n      <th>1595</th>\n      <td>6.9</td>\n      <td>0.635</td>\n      <td>0.17</td>\n      <td>2.40</td>\n      <td>0.241</td>\n      <td>6.0</td>\n      <td>18.0</td>\n      <td>0.99610</td>\n      <td>3.40</td>\n      <td>0.59</td>\n      <td>10.3</td>\n      <td>6</td>\n      <td>4</td>\n    </tr>\n    <tr>\n      <th>1596</th>\n      <td>8.4</td>\n      <td>0.340</td>\n      <td>0.42</td>\n      <td>2.10</td>\n      <td>0.072</td>\n      <td>23.0</td>\n      <td>36.0</td>\n      <td>0.99392</td>\n      <td>3.11</td>\n      <td>0.78</td>\n      <td>12.4</td>\n      <td>6</td>\n      <td>4</td>\n    </tr>\n    <tr>\n      <th>1597</th>\n      <td>11.1</td>\n      <td>0.390</td>\n      <td>0.54</td>\n      <td>2.70</td>\n      <td>0.095</td>\n      <td>21.0</td>\n      <td>101.0</td>\n      <td>1.00010</td>\n      <td>3.13</td>\n      <td>0.51</td>\n      <td>9.5</td>\n      <td>5</td>\n      <td>4</td>\n    </tr>\n    <tr>\n      <th>1598</th>\n      <td>6.8</td>\n      <td>0.815</td>\n      <td>0.00</td>\n      <td>1.20</td>\n      <td>0.267</td>\n      <td>16.0</td>\n      <td>29.0</td>\n      <td>0.99471</td>\n      <td>3.32</td>\n      <td>0.51</td>\n      <td>9.8</td>\n      <td>3</td>\n      <td>4</td>\n    </tr>\n  </tbody>\n</table>\n<p>1599 rows × 13 columns</p>\n</div>"
     },
     "metadata": {},
     "execution_count": 9
    }
   ],
   "source": [
    "df"
   ]
  },
  {
   "cell_type": "code",
   "execution_count": 10,
   "metadata": {},
   "outputs": [],
   "source": [
    "df.to_csv(\"stratified_train_folds.csv\", index=False)"
   ]
  },
  {
   "cell_type": "code",
   "execution_count": null,
   "metadata": {},
   "outputs": [],
   "source": []
  }
 ]
}