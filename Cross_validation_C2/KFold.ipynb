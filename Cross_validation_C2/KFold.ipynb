{
 "metadata": {
  "language_info": {
   "codemirror_mode": {
    "name": "ipython",
    "version": 3
   },
   "file_extension": ".py",
   "mimetype": "text/x-python",
   "name": "python",
   "nbconvert_exporter": "python",
   "pygments_lexer": "ipython3",
   "version": "3.7.6-final"
  },
  "orig_nbformat": 2,
  "kernelspec": {
   "name": "python37664bitmlconda980804e045fd4bc6a4f52e64fdc3fcf3",
   "display_name": "Python 3.7.6 64-bit ('ml': conda)",
   "language": "python"
  }
 },
 "nbformat": 4,
 "nbformat_minor": 2,
 "cells": [
  {
   "cell_type": "code",
   "execution_count": 1,
   "metadata": {},
   "outputs": [],
   "source": [
    "import pandas as pd\n",
    "from sklearn import model_selection"
   ]
  },
  {
   "cell_type": "code",
   "execution_count": 2,
   "metadata": {},
   "outputs": [],
   "source": [
    "df = pd.read_csv(\"winequality-red.csv\")\n",
    "df[\"kfold\"] = -1\n",
    "df = df.sample(frac=1).reset_index(drop=True)\n",
    "kf = model_selection.KFold(n_splits=5)\n"
   ]
  },
  {
   "cell_type": "code",
   "execution_count": 3,
   "metadata": {},
   "outputs": [
    {
     "output_type": "execute_result",
     "data": {
      "text/plain": [
       "      fixed acidity  volatile acidity  citric acid  residual sugar  chlorides  \\\n",
       "0               8.2             0.350         0.33             2.4      0.076   \n",
       "1               5.8             0.290         0.26             1.7      0.063   \n",
       "2               9.9             0.540         0.45             2.3      0.071   \n",
       "3               9.6             0.880         0.28             2.4      0.086   \n",
       "4              10.0             0.590         0.31             2.2      0.090   \n",
       "...             ...               ...          ...             ...        ...   \n",
       "1594            9.2             0.410         0.50             2.5      0.055   \n",
       "1595           11.6             0.410         0.58             2.8      0.096   \n",
       "1596            6.6             0.855         0.02             2.4      0.062   \n",
       "1597            6.8             0.630         0.07             2.1      0.089   \n",
       "1598            7.9             0.720         0.01             1.9      0.076   \n",
       "\n",
       "      free sulfur dioxide  total sulfur dioxide  density    pH  sulphates  \\\n",
       "0                    11.0                  47.0  0.99599  3.27       0.81   \n",
       "1                     3.0                  11.0  0.99150  3.39       0.54   \n",
       "2                    16.0                  40.0  0.99910  3.39       0.62   \n",
       "3                    30.0                 147.0  0.99790  3.24       0.53   \n",
       "4                    26.0                  62.0  0.99940  3.18       0.63   \n",
       "...                   ...                   ...      ...   ...        ...   \n",
       "1594                 12.0                  25.0  0.99520  3.34       0.79   \n",
       "1595                 25.0                 101.0  1.00024  3.13       0.53   \n",
       "1596                 15.0                  23.0  0.99627  3.54       0.60   \n",
       "1597                 11.0                  44.0  0.99530  3.47       0.55   \n",
       "1598                  7.0                  32.0  0.99668  3.39       0.54   \n",
       "\n",
       "      alcohol  quality  kfold  \n",
       "0        11.0        6     -1  \n",
       "1        13.5        6     -1  \n",
       "2         9.4        5     -1  \n",
       "3         9.4        5     -1  \n",
       "4        10.2        6     -1  \n",
       "...       ...      ...    ...  \n",
       "1594     13.3        7     -1  \n",
       "1595     10.0        5     -1  \n",
       "1596     11.0        6     -1  \n",
       "1597     10.4        6     -1  \n",
       "1598      9.6        5     -1  \n",
       "\n",
       "[1599 rows x 13 columns]"
      ],
      "text/html": "<div>\n<style scoped>\n    .dataframe tbody tr th:only-of-type {\n        vertical-align: middle;\n    }\n\n    .dataframe tbody tr th {\n        vertical-align: top;\n    }\n\n    .dataframe thead th {\n        text-align: right;\n    }\n</style>\n<table border=\"1\" class=\"dataframe\">\n  <thead>\n    <tr style=\"text-align: right;\">\n      <th></th>\n      <th>fixed acidity</th>\n      <th>volatile acidity</th>\n      <th>citric acid</th>\n      <th>residual sugar</th>\n      <th>chlorides</th>\n      <th>free sulfur dioxide</th>\n      <th>total sulfur dioxide</th>\n      <th>density</th>\n      <th>pH</th>\n      <th>sulphates</th>\n      <th>alcohol</th>\n      <th>quality</th>\n      <th>kfold</th>\n    </tr>\n  </thead>\n  <tbody>\n    <tr>\n      <th>0</th>\n      <td>8.2</td>\n      <td>0.350</td>\n      <td>0.33</td>\n      <td>2.4</td>\n      <td>0.076</td>\n      <td>11.0</td>\n      <td>47.0</td>\n      <td>0.99599</td>\n      <td>3.27</td>\n      <td>0.81</td>\n      <td>11.0</td>\n      <td>6</td>\n      <td>-1</td>\n    </tr>\n    <tr>\n      <th>1</th>\n      <td>5.8</td>\n      <td>0.290</td>\n      <td>0.26</td>\n      <td>1.7</td>\n      <td>0.063</td>\n      <td>3.0</td>\n      <td>11.0</td>\n      <td>0.99150</td>\n      <td>3.39</td>\n      <td>0.54</td>\n      <td>13.5</td>\n      <td>6</td>\n      <td>-1</td>\n    </tr>\n    <tr>\n      <th>2</th>\n      <td>9.9</td>\n      <td>0.540</td>\n      <td>0.45</td>\n      <td>2.3</td>\n      <td>0.071</td>\n      <td>16.0</td>\n      <td>40.0</td>\n      <td>0.99910</td>\n      <td>3.39</td>\n      <td>0.62</td>\n      <td>9.4</td>\n      <td>5</td>\n      <td>-1</td>\n    </tr>\n    <tr>\n      <th>3</th>\n      <td>9.6</td>\n      <td>0.880</td>\n      <td>0.28</td>\n      <td>2.4</td>\n      <td>0.086</td>\n      <td>30.0</td>\n      <td>147.0</td>\n      <td>0.99790</td>\n      <td>3.24</td>\n      <td>0.53</td>\n      <td>9.4</td>\n      <td>5</td>\n      <td>-1</td>\n    </tr>\n    <tr>\n      <th>4</th>\n      <td>10.0</td>\n      <td>0.590</td>\n      <td>0.31</td>\n      <td>2.2</td>\n      <td>0.090</td>\n      <td>26.0</td>\n      <td>62.0</td>\n      <td>0.99940</td>\n      <td>3.18</td>\n      <td>0.63</td>\n      <td>10.2</td>\n      <td>6</td>\n      <td>-1</td>\n    </tr>\n    <tr>\n      <th>...</th>\n      <td>...</td>\n      <td>...</td>\n      <td>...</td>\n      <td>...</td>\n      <td>...</td>\n      <td>...</td>\n      <td>...</td>\n      <td>...</td>\n      <td>...</td>\n      <td>...</td>\n      <td>...</td>\n      <td>...</td>\n      <td>...</td>\n    </tr>\n    <tr>\n      <th>1594</th>\n      <td>9.2</td>\n      <td>0.410</td>\n      <td>0.50</td>\n      <td>2.5</td>\n      <td>0.055</td>\n      <td>12.0</td>\n      <td>25.0</td>\n      <td>0.99520</td>\n      <td>3.34</td>\n      <td>0.79</td>\n      <td>13.3</td>\n      <td>7</td>\n      <td>-1</td>\n    </tr>\n    <tr>\n      <th>1595</th>\n      <td>11.6</td>\n      <td>0.410</td>\n      <td>0.58</td>\n      <td>2.8</td>\n      <td>0.096</td>\n      <td>25.0</td>\n      <td>101.0</td>\n      <td>1.00024</td>\n      <td>3.13</td>\n      <td>0.53</td>\n      <td>10.0</td>\n      <td>5</td>\n      <td>-1</td>\n    </tr>\n    <tr>\n      <th>1596</th>\n      <td>6.6</td>\n      <td>0.855</td>\n      <td>0.02</td>\n      <td>2.4</td>\n      <td>0.062</td>\n      <td>15.0</td>\n      <td>23.0</td>\n      <td>0.99627</td>\n      <td>3.54</td>\n      <td>0.60</td>\n      <td>11.0</td>\n      <td>6</td>\n      <td>-1</td>\n    </tr>\n    <tr>\n      <th>1597</th>\n      <td>6.8</td>\n      <td>0.630</td>\n      <td>0.07</td>\n      <td>2.1</td>\n      <td>0.089</td>\n      <td>11.0</td>\n      <td>44.0</td>\n      <td>0.99530</td>\n      <td>3.47</td>\n      <td>0.55</td>\n      <td>10.4</td>\n      <td>6</td>\n      <td>-1</td>\n    </tr>\n    <tr>\n      <th>1598</th>\n      <td>7.9</td>\n      <td>0.720</td>\n      <td>0.01</td>\n      <td>1.9</td>\n      <td>0.076</td>\n      <td>7.0</td>\n      <td>32.0</td>\n      <td>0.99668</td>\n      <td>3.39</td>\n      <td>0.54</td>\n      <td>9.6</td>\n      <td>5</td>\n      <td>-1</td>\n    </tr>\n  </tbody>\n</table>\n<p>1599 rows × 13 columns</p>\n</div>"
     },
     "metadata": {},
     "execution_count": 3
    }
   ],
   "source": [
    "df"
   ]
  },
  {
   "cell_type": "code",
   "execution_count": 4,
   "metadata": {},
   "outputs": [],
   "source": [
    "for fold, (trn_, val_) in enumerate(kf.split(X=df)):\n",
    "    df.loc[val_, 'kfold'] = fold"
   ]
  },
  {
   "cell_type": "code",
   "execution_count": 5,
   "metadata": {},
   "outputs": [
    {
     "output_type": "execute_result",
     "data": {
      "text/plain": [
       "      fixed acidity  volatile acidity  citric acid  residual sugar  chlorides  \\\n",
       "0               8.2             0.350         0.33             2.4      0.076   \n",
       "1               5.8             0.290         0.26             1.7      0.063   \n",
       "2               9.9             0.540         0.45             2.3      0.071   \n",
       "3               9.6             0.880         0.28             2.4      0.086   \n",
       "4              10.0             0.590         0.31             2.2      0.090   \n",
       "...             ...               ...          ...             ...        ...   \n",
       "1594            9.2             0.410         0.50             2.5      0.055   \n",
       "1595           11.6             0.410         0.58             2.8      0.096   \n",
       "1596            6.6             0.855         0.02             2.4      0.062   \n",
       "1597            6.8             0.630         0.07             2.1      0.089   \n",
       "1598            7.9             0.720         0.01             1.9      0.076   \n",
       "\n",
       "      free sulfur dioxide  total sulfur dioxide  density    pH  sulphates  \\\n",
       "0                    11.0                  47.0  0.99599  3.27       0.81   \n",
       "1                     3.0                  11.0  0.99150  3.39       0.54   \n",
       "2                    16.0                  40.0  0.99910  3.39       0.62   \n",
       "3                    30.0                 147.0  0.99790  3.24       0.53   \n",
       "4                    26.0                  62.0  0.99940  3.18       0.63   \n",
       "...                   ...                   ...      ...   ...        ...   \n",
       "1594                 12.0                  25.0  0.99520  3.34       0.79   \n",
       "1595                 25.0                 101.0  1.00024  3.13       0.53   \n",
       "1596                 15.0                  23.0  0.99627  3.54       0.60   \n",
       "1597                 11.0                  44.0  0.99530  3.47       0.55   \n",
       "1598                  7.0                  32.0  0.99668  3.39       0.54   \n",
       "\n",
       "      alcohol  quality  kfold  \n",
       "0        11.0        6      0  \n",
       "1        13.5        6      0  \n",
       "2         9.4        5      0  \n",
       "3         9.4        5      0  \n",
       "4        10.2        6      0  \n",
       "...       ...      ...    ...  \n",
       "1594     13.3        7      4  \n",
       "1595     10.0        5      4  \n",
       "1596     11.0        6      4  \n",
       "1597     10.4        6      4  \n",
       "1598      9.6        5      4  \n",
       "\n",
       "[1599 rows x 13 columns]"
      ],
      "text/html": "<div>\n<style scoped>\n    .dataframe tbody tr th:only-of-type {\n        vertical-align: middle;\n    }\n\n    .dataframe tbody tr th {\n        vertical-align: top;\n    }\n\n    .dataframe thead th {\n        text-align: right;\n    }\n</style>\n<table border=\"1\" class=\"dataframe\">\n  <thead>\n    <tr style=\"text-align: right;\">\n      <th></th>\n      <th>fixed acidity</th>\n      <th>volatile acidity</th>\n      <th>citric acid</th>\n      <th>residual sugar</th>\n      <th>chlorides</th>\n      <th>free sulfur dioxide</th>\n      <th>total sulfur dioxide</th>\n      <th>density</th>\n      <th>pH</th>\n      <th>sulphates</th>\n      <th>alcohol</th>\n      <th>quality</th>\n      <th>kfold</th>\n    </tr>\n  </thead>\n  <tbody>\n    <tr>\n      <th>0</th>\n      <td>8.2</td>\n      <td>0.350</td>\n      <td>0.33</td>\n      <td>2.4</td>\n      <td>0.076</td>\n      <td>11.0</td>\n      <td>47.0</td>\n      <td>0.99599</td>\n      <td>3.27</td>\n      <td>0.81</td>\n      <td>11.0</td>\n      <td>6</td>\n      <td>0</td>\n    </tr>\n    <tr>\n      <th>1</th>\n      <td>5.8</td>\n      <td>0.290</td>\n      <td>0.26</td>\n      <td>1.7</td>\n      <td>0.063</td>\n      <td>3.0</td>\n      <td>11.0</td>\n      <td>0.99150</td>\n      <td>3.39</td>\n      <td>0.54</td>\n      <td>13.5</td>\n      <td>6</td>\n      <td>0</td>\n    </tr>\n    <tr>\n      <th>2</th>\n      <td>9.9</td>\n      <td>0.540</td>\n      <td>0.45</td>\n      <td>2.3</td>\n      <td>0.071</td>\n      <td>16.0</td>\n      <td>40.0</td>\n      <td>0.99910</td>\n      <td>3.39</td>\n      <td>0.62</td>\n      <td>9.4</td>\n      <td>5</td>\n      <td>0</td>\n    </tr>\n    <tr>\n      <th>3</th>\n      <td>9.6</td>\n      <td>0.880</td>\n      <td>0.28</td>\n      <td>2.4</td>\n      <td>0.086</td>\n      <td>30.0</td>\n      <td>147.0</td>\n      <td>0.99790</td>\n      <td>3.24</td>\n      <td>0.53</td>\n      <td>9.4</td>\n      <td>5</td>\n      <td>0</td>\n    </tr>\n    <tr>\n      <th>4</th>\n      <td>10.0</td>\n      <td>0.590</td>\n      <td>0.31</td>\n      <td>2.2</td>\n      <td>0.090</td>\n      <td>26.0</td>\n      <td>62.0</td>\n      <td>0.99940</td>\n      <td>3.18</td>\n      <td>0.63</td>\n      <td>10.2</td>\n      <td>6</td>\n      <td>0</td>\n    </tr>\n    <tr>\n      <th>...</th>\n      <td>...</td>\n      <td>...</td>\n      <td>...</td>\n      <td>...</td>\n      <td>...</td>\n      <td>...</td>\n      <td>...</td>\n      <td>...</td>\n      <td>...</td>\n      <td>...</td>\n      <td>...</td>\n      <td>...</td>\n      <td>...</td>\n    </tr>\n    <tr>\n      <th>1594</th>\n      <td>9.2</td>\n      <td>0.410</td>\n      <td>0.50</td>\n      <td>2.5</td>\n      <td>0.055</td>\n      <td>12.0</td>\n      <td>25.0</td>\n      <td>0.99520</td>\n      <td>3.34</td>\n      <td>0.79</td>\n      <td>13.3</td>\n      <td>7</td>\n      <td>4</td>\n    </tr>\n    <tr>\n      <th>1595</th>\n      <td>11.6</td>\n      <td>0.410</td>\n      <td>0.58</td>\n      <td>2.8</td>\n      <td>0.096</td>\n      <td>25.0</td>\n      <td>101.0</td>\n      <td>1.00024</td>\n      <td>3.13</td>\n      <td>0.53</td>\n      <td>10.0</td>\n      <td>5</td>\n      <td>4</td>\n    </tr>\n    <tr>\n      <th>1596</th>\n      <td>6.6</td>\n      <td>0.855</td>\n      <td>0.02</td>\n      <td>2.4</td>\n      <td>0.062</td>\n      <td>15.0</td>\n      <td>23.0</td>\n      <td>0.99627</td>\n      <td>3.54</td>\n      <td>0.60</td>\n      <td>11.0</td>\n      <td>6</td>\n      <td>4</td>\n    </tr>\n    <tr>\n      <th>1597</th>\n      <td>6.8</td>\n      <td>0.630</td>\n      <td>0.07</td>\n      <td>2.1</td>\n      <td>0.089</td>\n      <td>11.0</td>\n      <td>44.0</td>\n      <td>0.99530</td>\n      <td>3.47</td>\n      <td>0.55</td>\n      <td>10.4</td>\n      <td>6</td>\n      <td>4</td>\n    </tr>\n    <tr>\n      <th>1598</th>\n      <td>7.9</td>\n      <td>0.720</td>\n      <td>0.01</td>\n      <td>1.9</td>\n      <td>0.076</td>\n      <td>7.0</td>\n      <td>32.0</td>\n      <td>0.99668</td>\n      <td>3.39</td>\n      <td>0.54</td>\n      <td>9.6</td>\n      <td>5</td>\n      <td>4</td>\n    </tr>\n  </tbody>\n</table>\n<p>1599 rows × 13 columns</p>\n</div>"
     },
     "metadata": {},
     "execution_count": 5
    }
   ],
   "source": [
    "df"
   ]
  },
  {
   "cell_type": "code",
   "execution_count": 6,
   "metadata": {},
   "outputs": [],
   "source": [
    "df.to_csv(\"train_folds.csv\", index=False)"
   ]
  },
  {
   "cell_type": "code",
   "execution_count": null,
   "metadata": {},
   "outputs": [],
   "source": []
  }
 ]
}