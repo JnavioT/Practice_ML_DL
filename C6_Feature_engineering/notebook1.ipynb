{
 "metadata": {
  "language_info": {
   "codemirror_mode": {
    "name": "ipython",
    "version": 3
   },
   "file_extension": ".py",
   "mimetype": "text/x-python",
   "name": "python",
   "nbconvert_exporter": "python",
   "pygments_lexer": "ipython3",
   "version": "3.7.6-final"
  },
  "orig_nbformat": 2,
  "kernelspec": {
   "name": "python37664bitmlconda980804e045fd4bc6a4f52e64fdc3fcf3",
   "display_name": "Python 3.7.6 64-bit ('ml': conda)",
   "language": "python"
  }
 },
 "nbformat": 4,
 "nbformat_minor": 2,
 "cells": [
  {
   "cell_type": "code",
   "execution_count": 1,
   "metadata": {},
   "outputs": [
    {
     "output_type": "execute_result",
     "data": {
      "text/plain": [
       "2020-01-06 00:00:00   2020-01-06 00:00:00\n",
       "2020-01-06 10:00:00   2020-01-06 10:00:00\n",
       "2020-01-06 20:00:00   2020-01-06 20:00:00\n",
       "2020-01-07 06:00:00   2020-01-07 06:00:00\n",
       "2020-01-07 16:00:00   2020-01-07 16:00:00\n",
       "2020-01-08 02:00:00   2020-01-08 02:00:00\n",
       "2020-01-08 12:00:00   2020-01-08 12:00:00\n",
       "2020-01-08 22:00:00   2020-01-08 22:00:00\n",
       "2020-01-09 08:00:00   2020-01-09 08:00:00\n",
       "2020-01-09 18:00:00   2020-01-09 18:00:00\n",
       "Freq: 10H, dtype: datetime64[ns]"
      ]
     },
     "metadata": {},
     "execution_count": 1
    }
   ],
   "source": [
    "import pandas as pd \n",
    "\n",
    "#create a series of datatime with a frequency of 10 hours\n",
    "s = pd.date_range('2020-01-06', '2020-01-10', freq='10H').to_series()\n",
    "s"
   ]
  },
  {
   "cell_type": "code",
   "execution_count": 2,
   "metadata": {},
   "outputs": [],
   "source": [
    "features = {\n",
    "    \"dayofweek\": s.dt.dayofweek.values,\n",
    "    \"dayofyear\": s.dt.dayofyear.values,\n",
    "    \"hour\": s.dt.hour.values,\n",
    "    \"is_leap_year\": s.dt.year.values,\n",
    "    \"quarter\": s.dt.quarter.values,\n",
    "    \"weekofyear\": s.dt.weekofyear.values\n",
    "}"
   ]
  },
  {
   "cell_type": "code",
   "execution_count": 3,
   "metadata": {},
   "outputs": [
    {
     "output_type": "execute_result",
     "data": {
      "text/plain": [
       "{'dayofweek': array([0, 0, 0, 1, 1, 2, 2, 2, 3, 3]),\n",
       " 'dayofyear': array([6, 6, 6, 7, 7, 8, 8, 8, 9, 9]),\n",
       " 'hour': array([ 0, 10, 20,  6, 16,  2, 12, 22,  8, 18]),\n",
       " 'is_leap_year': array([2020, 2020, 2020, 2020, 2020, 2020, 2020, 2020, 2020, 2020]),\n",
       " 'quarter': array([1, 1, 1, 1, 1, 1, 1, 1, 1, 1]),\n",
       " 'weekofyear': array([2, 2, 2, 2, 2, 2, 2, 2, 2, 2])}"
      ]
     },
     "metadata": {},
     "execution_count": 3
    }
   ],
   "source": [
    "features"
   ]
  },
  {
   "cell_type": "code",
   "execution_count": 4,
   "metadata": {},
   "outputs": [
    {
     "output_type": "execute_result",
     "data": {
      "text/plain": [
       "         date  customer_id  cat1  cat2  cat3      num1\n",
       "0  2016-09-01       146361     2     2     0 -0.518679\n",
       "1  2017-04-01       180838     4     1     0  0.415853\n",
       "2  2017-08-01       157857     3     3     1 -2.061687\n",
       "3  2017-12-01       159772     5     1     1 -0.276558\n",
       "4  2017-09-01        80014     3     2     1 -1.456827"
      ],
      "text/html": "<div>\n<style scoped>\n    .dataframe tbody tr th:only-of-type {\n        vertical-align: middle;\n    }\n\n    .dataframe tbody tr th {\n        vertical-align: top;\n    }\n\n    .dataframe thead th {\n        text-align: right;\n    }\n</style>\n<table border=\"1\" class=\"dataframe\">\n  <thead>\n    <tr style=\"text-align: right;\">\n      <th></th>\n      <th>date</th>\n      <th>customer_id</th>\n      <th>cat1</th>\n      <th>cat2</th>\n      <th>cat3</th>\n      <th>num1</th>\n    </tr>\n  </thead>\n  <tbody>\n    <tr>\n      <th>0</th>\n      <td>2016-09-01</td>\n      <td>146361</td>\n      <td>2</td>\n      <td>2</td>\n      <td>0</td>\n      <td>-0.518679</td>\n    </tr>\n    <tr>\n      <th>1</th>\n      <td>2017-04-01</td>\n      <td>180838</td>\n      <td>4</td>\n      <td>1</td>\n      <td>0</td>\n      <td>0.415853</td>\n    </tr>\n    <tr>\n      <th>2</th>\n      <td>2017-08-01</td>\n      <td>157857</td>\n      <td>3</td>\n      <td>3</td>\n      <td>1</td>\n      <td>-2.061687</td>\n    </tr>\n    <tr>\n      <th>3</th>\n      <td>2017-12-01</td>\n      <td>159772</td>\n      <td>5</td>\n      <td>1</td>\n      <td>1</td>\n      <td>-0.276558</td>\n    </tr>\n    <tr>\n      <th>4</th>\n      <td>2017-09-01</td>\n      <td>80014</td>\n      <td>3</td>\n      <td>2</td>\n      <td>1</td>\n      <td>-1.456827</td>\n    </tr>\n  </tbody>\n</table>\n</div>"
     },
     "metadata": {},
     "execution_count": 4
    }
   ],
   "source": [
    "df = pd.read_csv(\"date_data.csv\")\n",
    "df"
   ]
  },
  {
   "cell_type": "code",
   "execution_count": 17,
   "metadata": {},
   "outputs": [
    {
     "output_type": "execute_result",
     "data": {
      "text/plain": [
       "0   2016-09-01\n",
       "1   2017-04-01\n",
       "2   2017-08-01\n",
       "3   2017-12-01\n",
       "4   2017-09-01\n",
       "Name: date, dtype: datetime64[ns]"
      ]
     },
     "metadata": {},
     "execution_count": 17
    }
   ],
   "source": [
    "datetimes = pd.to_datetime(df['date'])\n",
    "datetimes"
   ]
  },
  {
   "cell_type": "code",
   "execution_count": 18,
   "metadata": {},
   "outputs": [
    {
     "output_type": "execute_result",
     "data": {
      "text/plain": [
       "0   2016-09-01\n",
       "1   2017-04-01\n",
       "2   2017-08-01\n",
       "3   2017-12-01\n",
       "4   2017-09-01\n",
       "Name: date, dtype: datetime64[ns]"
      ]
     },
     "metadata": {},
     "execution_count": 18
    }
   ],
   "source": [
    "df['date'] = datetimes\n",
    "df['date']"
   ]
  },
  {
   "cell_type": "code",
   "execution_count": 25,
   "metadata": {},
   "outputs": [],
   "source": [
    "df.loc[:, 'year'] = df['date'].dt.year\n",
    "df.loc[:, 'weekofyear'] = df['date'].dt.weekofyear\n",
    "df.loc[:, 'month'] = df['date'].dt.month\n",
    "df.loc[:, 'dayofweek'] = df['date'].dt.dayofweek\n",
    "df.loc[:, 'weekend'] = (df.date.dt.weekday >=5).astype(int)\n",
    "df.loc[:, 'hour'] = df['date'].dt.hour"
   ]
  },
  {
   "cell_type": "code",
   "execution_count": 26,
   "metadata": {},
   "outputs": [
    {
     "output_type": "execute_result",
     "data": {
      "text/plain": [
       "        date  customer_id  cat1  cat2  cat3      num1  year  weekofyear  \\\n",
       "0 2016-09-01       146361     2     2     0 -0.518679  2016          35   \n",
       "1 2017-04-01       180838     4     1     0  0.415853  2017          13   \n",
       "2 2017-08-01       157857     3     3     1 -2.061687  2017          31   \n",
       "3 2017-12-01       159772     5     1     1 -0.276558  2017          48   \n",
       "4 2017-09-01        80014     3     2     1 -1.456827  2017          35   \n",
       "\n",
       "   month  dayofweek  weekend  hour  \n",
       "0      9          3        0     0  \n",
       "1      4          5        1     0  \n",
       "2      8          1        0     0  \n",
       "3     12          4        0     0  \n",
       "4      9          4        0     0  "
      ],
      "text/html": "<div>\n<style scoped>\n    .dataframe tbody tr th:only-of-type {\n        vertical-align: middle;\n    }\n\n    .dataframe tbody tr th {\n        vertical-align: top;\n    }\n\n    .dataframe thead th {\n        text-align: right;\n    }\n</style>\n<table border=\"1\" class=\"dataframe\">\n  <thead>\n    <tr style=\"text-align: right;\">\n      <th></th>\n      <th>date</th>\n      <th>customer_id</th>\n      <th>cat1</th>\n      <th>cat2</th>\n      <th>cat3</th>\n      <th>num1</th>\n      <th>year</th>\n      <th>weekofyear</th>\n      <th>month</th>\n      <th>dayofweek</th>\n      <th>weekend</th>\n      <th>hour</th>\n    </tr>\n  </thead>\n  <tbody>\n    <tr>\n      <th>0</th>\n      <td>2016-09-01</td>\n      <td>146361</td>\n      <td>2</td>\n      <td>2</td>\n      <td>0</td>\n      <td>-0.518679</td>\n      <td>2016</td>\n      <td>35</td>\n      <td>9</td>\n      <td>3</td>\n      <td>0</td>\n      <td>0</td>\n    </tr>\n    <tr>\n      <th>1</th>\n      <td>2017-04-01</td>\n      <td>180838</td>\n      <td>4</td>\n      <td>1</td>\n      <td>0</td>\n      <td>0.415853</td>\n      <td>2017</td>\n      <td>13</td>\n      <td>4</td>\n      <td>5</td>\n      <td>1</td>\n      <td>0</td>\n    </tr>\n    <tr>\n      <th>2</th>\n      <td>2017-08-01</td>\n      <td>157857</td>\n      <td>3</td>\n      <td>3</td>\n      <td>1</td>\n      <td>-2.061687</td>\n      <td>2017</td>\n      <td>31</td>\n      <td>8</td>\n      <td>1</td>\n      <td>0</td>\n      <td>0</td>\n    </tr>\n    <tr>\n      <th>3</th>\n      <td>2017-12-01</td>\n      <td>159772</td>\n      <td>5</td>\n      <td>1</td>\n      <td>1</td>\n      <td>-0.276558</td>\n      <td>2017</td>\n      <td>48</td>\n      <td>12</td>\n      <td>4</td>\n      <td>0</td>\n      <td>0</td>\n    </tr>\n    <tr>\n      <th>4</th>\n      <td>2017-09-01</td>\n      <td>80014</td>\n      <td>3</td>\n      <td>2</td>\n      <td>1</td>\n      <td>-1.456827</td>\n      <td>2017</td>\n      <td>35</td>\n      <td>9</td>\n      <td>4</td>\n      <td>0</td>\n      <td>0</td>\n    </tr>\n  </tbody>\n</table>\n</div>"
     },
     "metadata": {},
     "execution_count": 26
    }
   ],
   "source": [
    "df"
   ]
  },
  {
   "cell_type": "code",
   "execution_count": 30,
   "metadata": {},
   "outputs": [
    {
     "output_type": "execute_result",
     "data": {
      "text/plain": [
       "        date  customer_id  cat1  cat2  cat3      num1  year  weekofyear  \\\n",
       "0 2016-09-01       146361     2     2     0 -0.518679  2016          35   \n",
       "1 2017-04-01       180838     4     1     0  0.415853  2017          13   \n",
       "2 2017-08-01       157857     3     3     1 -2.061687  2017          31   \n",
       "3 2017-12-01       159772     5     1     1 -0.276558  2017          48   \n",
       "4 2017-09-01        80014     3     2     1 -1.456827  2017          35   \n",
       "\n",
       "   month  dayofweek  weekend  hour  \n",
       "0      9          3        0     0  \n",
       "1      4          5        1     0  \n",
       "2      8          1        0     0  \n",
       "3     12          4        0     0  \n",
       "4      9          4        0     0  "
      ],
      "text/html": "<div>\n<style scoped>\n    .dataframe tbody tr th:only-of-type {\n        vertical-align: middle;\n    }\n\n    .dataframe tbody tr th {\n        vertical-align: top;\n    }\n\n    .dataframe thead th {\n        text-align: right;\n    }\n</style>\n<table border=\"1\" class=\"dataframe\">\n  <thead>\n    <tr style=\"text-align: right;\">\n      <th></th>\n      <th>date</th>\n      <th>customer_id</th>\n      <th>cat1</th>\n      <th>cat2</th>\n      <th>cat3</th>\n      <th>num1</th>\n      <th>year</th>\n      <th>weekofyear</th>\n      <th>month</th>\n      <th>dayofweek</th>\n      <th>weekend</th>\n      <th>hour</th>\n    </tr>\n  </thead>\n  <tbody>\n    <tr>\n      <th>0</th>\n      <td>2016-09-01</td>\n      <td>146361</td>\n      <td>2</td>\n      <td>2</td>\n      <td>0</td>\n      <td>-0.518679</td>\n      <td>2016</td>\n      <td>35</td>\n      <td>9</td>\n      <td>3</td>\n      <td>0</td>\n      <td>0</td>\n    </tr>\n    <tr>\n      <th>1</th>\n      <td>2017-04-01</td>\n      <td>180838</td>\n      <td>4</td>\n      <td>1</td>\n      <td>0</td>\n      <td>0.415853</td>\n      <td>2017</td>\n      <td>13</td>\n      <td>4</td>\n      <td>5</td>\n      <td>1</td>\n      <td>0</td>\n    </tr>\n    <tr>\n      <th>2</th>\n      <td>2017-08-01</td>\n      <td>157857</td>\n      <td>3</td>\n      <td>3</td>\n      <td>1</td>\n      <td>-2.061687</td>\n      <td>2017</td>\n      <td>31</td>\n      <td>8</td>\n      <td>1</td>\n      <td>0</td>\n      <td>0</td>\n    </tr>\n    <tr>\n      <th>3</th>\n      <td>2017-12-01</td>\n      <td>159772</td>\n      <td>5</td>\n      <td>1</td>\n      <td>1</td>\n      <td>-0.276558</td>\n      <td>2017</td>\n      <td>48</td>\n      <td>12</td>\n      <td>4</td>\n      <td>0</td>\n      <td>0</td>\n    </tr>\n    <tr>\n      <th>4</th>\n      <td>2017-09-01</td>\n      <td>80014</td>\n      <td>3</td>\n      <td>2</td>\n      <td>1</td>\n      <td>-1.456827</td>\n      <td>2017</td>\n      <td>35</td>\n      <td>9</td>\n      <td>4</td>\n      <td>0</td>\n      <td>0</td>\n    </tr>\n  </tbody>\n</table>\n</div>"
     },
     "metadata": {},
     "execution_count": 30
    }
   ],
   "source": [
    "df"
   ]
  },
  {
   "cell_type": "code",
   "execution_count": 33,
   "metadata": {},
   "outputs": [
    {
     "output_type": "execute_result",
     "data": {
      "text/plain": [
       "{'dayofweek': array([3, 5, 1, 4, 4]),\n",
       " 'weekend': array([0, 1, 0, 0, 0]),\n",
       " 'hour': array([0, 0, 0, 0, 0]),\n",
       " 'year': array([2016, 2017, 2017, 2017, 2017]),\n",
       " 'month': array([ 9,  4,  8, 12,  9]),\n",
       " 'weekofyear': array([35, 13, 31, 48, 35])}"
      ]
     },
     "metadata": {},
     "execution_count": 33
    }
   ],
   "source": [
    "features = {\n",
    "\"dayofweek\": df.dayofweek.values,\n",
    "\"weekend\": df.weekend.values,\n",
    "\"hour\": df.hour.values,\n",
    "\"year\": df.year.values,\n",
    "\"month\": df.month.values,\n",
    "\"weekofyear\": df.weekofyear.values\n",
    "}\n",
    "features"
   ]
  },
  {
   "cell_type": "code",
   "execution_count": 38,
   "metadata": {},
   "outputs": [
    {
     "output_type": "execute_result",
     "data": {
      "text/plain": [
       "        date  customer_id  cat1  cat2  cat3      num1\n",
       "0 2016-09-01       146361     2     2     0 -0.518679\n",
       "1 2017-04-01       180838     4     1     0  0.415853\n",
       "2 2017-08-01       157857     3     3     1 -2.061687\n",
       "3 2017-12-01       159772     5     1     1 -0.276558\n",
       "4 2017-09-01        80014     3     2     1 -1.456827"
      ],
      "text/html": "<div>\n<style scoped>\n    .dataframe tbody tr th:only-of-type {\n        vertical-align: middle;\n    }\n\n    .dataframe tbody tr th {\n        vertical-align: top;\n    }\n\n    .dataframe thead th {\n        text-align: right;\n    }\n</style>\n<table border=\"1\" class=\"dataframe\">\n  <thead>\n    <tr style=\"text-align: right;\">\n      <th></th>\n      <th>date</th>\n      <th>customer_id</th>\n      <th>cat1</th>\n      <th>cat2</th>\n      <th>cat3</th>\n      <th>num1</th>\n    </tr>\n  </thead>\n  <tbody>\n    <tr>\n      <th>0</th>\n      <td>2016-09-01</td>\n      <td>146361</td>\n      <td>2</td>\n      <td>2</td>\n      <td>0</td>\n      <td>-0.518679</td>\n    </tr>\n    <tr>\n      <th>1</th>\n      <td>2017-04-01</td>\n      <td>180838</td>\n      <td>4</td>\n      <td>1</td>\n      <td>0</td>\n      <td>0.415853</td>\n    </tr>\n    <tr>\n      <th>2</th>\n      <td>2017-08-01</td>\n      <td>157857</td>\n      <td>3</td>\n      <td>3</td>\n      <td>1</td>\n      <td>-2.061687</td>\n    </tr>\n    <tr>\n      <th>3</th>\n      <td>2017-12-01</td>\n      <td>159772</td>\n      <td>5</td>\n      <td>1</td>\n      <td>1</td>\n      <td>-0.276558</td>\n    </tr>\n    <tr>\n      <th>4</th>\n      <td>2017-09-01</td>\n      <td>80014</td>\n      <td>3</td>\n      <td>2</td>\n      <td>1</td>\n      <td>-1.456827</td>\n    </tr>\n  </tbody>\n</table>\n</div>"
     },
     "metadata": {},
     "execution_count": 38
    }
   ],
   "source": [
    "df = pd.read_csv(\"date_data.csv\")\n",
    "df\n",
    "datetimes = pd.to_datetime(df['date'])\n",
    "df['date'] = datetimes\n",
    "df"
   ]
  },
  {
   "cell_type": "code",
   "execution_count": 42,
   "metadata": {},
   "outputs": [
    {
     "output_type": "execute_result",
     "data": {
      "text/plain": [
       "  customer_id   month      weekofyear           num1                      \\\n",
       "              nunique mean    nunique mean       sum       max       min   \n",
       "0       80014       1    9          1   35 -1.456827 -1.456827 -1.456827   \n",
       "1      146361       1    9          1   35 -0.518679 -0.518679 -0.518679   \n",
       "2      157857       1    8          1   31 -2.061687 -2.061687 -2.061687   \n",
       "3      159772       1   12          1   48 -0.276558 -0.276558 -0.276558   \n",
       "4      180838       1    4          1   13  0.415853  0.415853  0.415853   \n",
       "\n",
       "            customer_id  \n",
       "       mean     nunique  \n",
       "0 -1.456827           1  \n",
       "1 -0.518679           1  \n",
       "2 -2.061687           1  \n",
       "3 -0.276558           1  \n",
       "4  0.415853           1  "
      ],
      "text/html": "<div>\n<style scoped>\n    .dataframe tbody tr th:only-of-type {\n        vertical-align: middle;\n    }\n\n    .dataframe tbody tr th {\n        vertical-align: top;\n    }\n\n    .dataframe thead tr th {\n        text-align: left;\n    }\n</style>\n<table border=\"1\" class=\"dataframe\">\n  <thead>\n    <tr>\n      <th></th>\n      <th>customer_id</th>\n      <th colspan=\"2\" halign=\"left\">month</th>\n      <th colspan=\"2\" halign=\"left\">weekofyear</th>\n      <th colspan=\"4\" halign=\"left\">num1</th>\n      <th>customer_id</th>\n    </tr>\n    <tr>\n      <th></th>\n      <th></th>\n      <th>nunique</th>\n      <th>mean</th>\n      <th>nunique</th>\n      <th>mean</th>\n      <th>sum</th>\n      <th>max</th>\n      <th>min</th>\n      <th>mean</th>\n      <th>nunique</th>\n    </tr>\n  </thead>\n  <tbody>\n    <tr>\n      <th>0</th>\n      <td>80014</td>\n      <td>1</td>\n      <td>9</td>\n      <td>1</td>\n      <td>35</td>\n      <td>-1.456827</td>\n      <td>-1.456827</td>\n      <td>-1.456827</td>\n      <td>-1.456827</td>\n      <td>1</td>\n    </tr>\n    <tr>\n      <th>1</th>\n      <td>146361</td>\n      <td>1</td>\n      <td>9</td>\n      <td>1</td>\n      <td>35</td>\n      <td>-0.518679</td>\n      <td>-0.518679</td>\n      <td>-0.518679</td>\n      <td>-0.518679</td>\n      <td>1</td>\n    </tr>\n    <tr>\n      <th>2</th>\n      <td>157857</td>\n      <td>1</td>\n      <td>8</td>\n      <td>1</td>\n      <td>31</td>\n      <td>-2.061687</td>\n      <td>-2.061687</td>\n      <td>-2.061687</td>\n      <td>-2.061687</td>\n      <td>1</td>\n    </tr>\n    <tr>\n      <th>3</th>\n      <td>159772</td>\n      <td>1</td>\n      <td>12</td>\n      <td>1</td>\n      <td>48</td>\n      <td>-0.276558</td>\n      <td>-0.276558</td>\n      <td>-0.276558</td>\n      <td>-0.276558</td>\n      <td>1</td>\n    </tr>\n    <tr>\n      <th>4</th>\n      <td>180838</td>\n      <td>1</td>\n      <td>4</td>\n      <td>1</td>\n      <td>13</td>\n      <td>0.415853</td>\n      <td>0.415853</td>\n      <td>0.415853</td>\n      <td>0.415853</td>\n      <td>1</td>\n    </tr>\n  </tbody>\n</table>\n</div>"
     },
     "metadata": {},
     "execution_count": 42
    }
   ],
   "source": [
    "def generate_features(df):\n",
    "    df.loc[:, 'year'] = df['date'].dt.year\n",
    "    df.loc[:, 'weekofyear'] = df['date'].dt.weekofyear\n",
    "    df.loc[:, 'month'] = df['date'].dt.month\n",
    "    df.loc[:, 'dayofweek'] = df['date'].dt.dayofweek\n",
    "    df.loc[:, 'weekend'] = (df['date'].dt.weekday >=5).astype(int)\n",
    "\n",
    "    # create an aggregate dictionary\n",
    "    aggs = {}\n",
    "    # for aggregation by month, we calculate the\n",
    "    # number of unique month values and also the mean\n",
    "    aggs['month'] = ['nunique', 'mean']\n",
    "    aggs['weekofyear'] = ['nunique', 'mean']\n",
    "    # we aggregate by num1 and calculate sum, max, min\n",
    "    # and mean values of this column\n",
    "    aggs['num1'] = ['sum','max','min','mean']\n",
    "    # for customer_id, we calculate the total count\n",
    "    aggs['customer_id'] = ['size']\n",
    "    # again for customer_id, we calculate the total unique\n",
    "    aggs['customer_id'] = ['nunique']\n",
    "    # we group by customer_id and calculate the aggregates\n",
    "    agg_df = df.groupby('customer_id').agg(aggs)\n",
    "    agg_df = agg_df.reset_index()\n",
    "    return agg_df\n",
    "\n",
    "df2 = generate_features(df)\n",
    "df2"
   ]
  },
  {
   "cell_type": "code",
   "execution_count": 40,
   "metadata": {},
   "outputs": [
    {
     "output_type": "execute_result",
     "data": {
      "text/plain": [
       "        date  customer_id  cat1  cat2  cat3      num1  year  weekofyear  \\\n",
       "0 2016-09-01       146361     2     2     0 -0.518679  2016          35   \n",
       "1 2017-04-01       180838     4     1     0  0.415853  2017          13   \n",
       "2 2017-08-01       157857     3     3     1 -2.061687  2017          31   \n",
       "3 2017-12-01       159772     5     1     1 -0.276558  2017          48   \n",
       "4 2017-09-01        80014     3     2     1 -1.456827  2017          35   \n",
       "\n",
       "   month  dayofweek  weekend  \n",
       "0      9          3        0  \n",
       "1      4          5        1  \n",
       "2      8          1        0  \n",
       "3     12          4        0  \n",
       "4      9          4        0  "
      ],
      "text/html": "<div>\n<style scoped>\n    .dataframe tbody tr th:only-of-type {\n        vertical-align: middle;\n    }\n\n    .dataframe tbody tr th {\n        vertical-align: top;\n    }\n\n    .dataframe thead th {\n        text-align: right;\n    }\n</style>\n<table border=\"1\" class=\"dataframe\">\n  <thead>\n    <tr style=\"text-align: right;\">\n      <th></th>\n      <th>date</th>\n      <th>customer_id</th>\n      <th>cat1</th>\n      <th>cat2</th>\n      <th>cat3</th>\n      <th>num1</th>\n      <th>year</th>\n      <th>weekofyear</th>\n      <th>month</th>\n      <th>dayofweek</th>\n      <th>weekend</th>\n    </tr>\n  </thead>\n  <tbody>\n    <tr>\n      <th>0</th>\n      <td>2016-09-01</td>\n      <td>146361</td>\n      <td>2</td>\n      <td>2</td>\n      <td>0</td>\n      <td>-0.518679</td>\n      <td>2016</td>\n      <td>35</td>\n      <td>9</td>\n      <td>3</td>\n      <td>0</td>\n    </tr>\n    <tr>\n      <th>1</th>\n      <td>2017-04-01</td>\n      <td>180838</td>\n      <td>4</td>\n      <td>1</td>\n      <td>0</td>\n      <td>0.415853</td>\n      <td>2017</td>\n      <td>13</td>\n      <td>4</td>\n      <td>5</td>\n      <td>1</td>\n    </tr>\n    <tr>\n      <th>2</th>\n      <td>2017-08-01</td>\n      <td>157857</td>\n      <td>3</td>\n      <td>3</td>\n      <td>1</td>\n      <td>-2.061687</td>\n      <td>2017</td>\n      <td>31</td>\n      <td>8</td>\n      <td>1</td>\n      <td>0</td>\n    </tr>\n    <tr>\n      <th>3</th>\n      <td>2017-12-01</td>\n      <td>159772</td>\n      <td>5</td>\n      <td>1</td>\n      <td>1</td>\n      <td>-0.276558</td>\n      <td>2017</td>\n      <td>48</td>\n      <td>12</td>\n      <td>4</td>\n      <td>0</td>\n    </tr>\n    <tr>\n      <th>4</th>\n      <td>2017-09-01</td>\n      <td>80014</td>\n      <td>3</td>\n      <td>2</td>\n      <td>1</td>\n      <td>-1.456827</td>\n      <td>2017</td>\n      <td>35</td>\n      <td>9</td>\n      <td>4</td>\n      <td>0</td>\n    </tr>\n  </tbody>\n</table>\n</div>"
     },
     "metadata": {},
     "execution_count": 40
    }
   ],
   "source": [
    "df"
   ]
  },
  {
   "cell_type": "code",
   "execution_count": 45,
   "metadata": {},
   "outputs": [],
   "source": [
    "import numpy as np \n",
    "feature_dict = {}\n",
    "# calculate mean\n",
    "x = df.cat1\n",
    "feature_dict['mean'] = np.mean(x)\n",
    "# calculate max\n",
    "feature_dict['max'] = np.max(x)\n",
    "# calculate min\n",
    "feature_dict['min'] = np.min(x)\n",
    "# calculate standard deviation\n",
    "feature_dict['std'] = np.std(x)\n",
    "# calculate variance\n",
    "feature_dict['var'] = np.var(x)\n",
    "# peak-to-peak\n",
    "feature_dict['ptp'] = np.ptp(x)\n",
    "# percentile features\n",
    "feature_dict['percentile_10'] = np.percentile(x, 10)\n",
    "feature_dict['percentile_60'] = np.percentile(x, 60)\n",
    "feature_dict['percentile_90'] = np.percentile(x, 90)\n",
    "# quantile features\n",
    "feature_dict['quantile_5'] = np.quantile(x, 0.05)\n",
    "feature_dict['quantile_95'] = np.quantile(x, 0.95)\n",
    "feature_dict['quantile_99'] = np.quantile(x, 0.99)"
   ]
  },
  {
   "cell_type": "code",
   "execution_count": 46,
   "metadata": {},
   "outputs": [
    {
     "output_type": "execute_result",
     "data": {
      "text/plain": [
       "{'mean': 3.4,\n",
       " 'max': 5,\n",
       " 'min': 2,\n",
       " 'std': 1.019803902718557,\n",
       " 'var': 1.04,\n",
       " 'ptp': 3,\n",
       " 'percentile_10': 2.4000000000000004,\n",
       " 'percentile_60': 3.4,\n",
       " 'percentile_90': 4.6,\n",
       " 'quantile_5': 2.2,\n",
       " 'quantile_95': 4.8,\n",
       " 'quantile_99': 4.96}"
      ]
     },
     "metadata": {},
     "execution_count": 46
    }
   ],
   "source": [
    "feature_dict"
   ]
  },
  {
   "cell_type": "code",
   "execution_count": 47,
   "metadata": {},
   "outputs": [],
   "source": [
    "df2.loc[:,'std'] = feature_dict['std']"
   ]
  },
  {
   "cell_type": "code",
   "execution_count": 48,
   "metadata": {},
   "outputs": [
    {
     "output_type": "execute_result",
     "data": {
      "text/plain": [
       "  customer_id   month      weekofyear           num1                      \\\n",
       "              nunique mean    nunique mean       sum       max       min   \n",
       "0       80014       1    9          1   35 -1.456827 -1.456827 -1.456827   \n",
       "1      146361       1    9          1   35 -0.518679 -0.518679 -0.518679   \n",
       "2      157857       1    8          1   31 -2.061687 -2.061687 -2.061687   \n",
       "3      159772       1   12          1   48 -0.276558 -0.276558 -0.276558   \n",
       "4      180838       1    4          1   13  0.415853  0.415853  0.415853   \n",
       "\n",
       "            customer_id       std  \n",
       "       mean     nunique            \n",
       "0 -1.456827           1  1.019804  \n",
       "1 -0.518679           1  1.019804  \n",
       "2 -2.061687           1  1.019804  \n",
       "3 -0.276558           1  1.019804  \n",
       "4  0.415853           1  1.019804  "
      ],
      "text/html": "<div>\n<style scoped>\n    .dataframe tbody tr th:only-of-type {\n        vertical-align: middle;\n    }\n\n    .dataframe tbody tr th {\n        vertical-align: top;\n    }\n\n    .dataframe thead tr th {\n        text-align: left;\n    }\n</style>\n<table border=\"1\" class=\"dataframe\">\n  <thead>\n    <tr>\n      <th></th>\n      <th>customer_id</th>\n      <th colspan=\"2\" halign=\"left\">month</th>\n      <th colspan=\"2\" halign=\"left\">weekofyear</th>\n      <th colspan=\"4\" halign=\"left\">num1</th>\n      <th>customer_id</th>\n      <th>std</th>\n    </tr>\n    <tr>\n      <th></th>\n      <th></th>\n      <th>nunique</th>\n      <th>mean</th>\n      <th>nunique</th>\n      <th>mean</th>\n      <th>sum</th>\n      <th>max</th>\n      <th>min</th>\n      <th>mean</th>\n      <th>nunique</th>\n      <th></th>\n    </tr>\n  </thead>\n  <tbody>\n    <tr>\n      <th>0</th>\n      <td>80014</td>\n      <td>1</td>\n      <td>9</td>\n      <td>1</td>\n      <td>35</td>\n      <td>-1.456827</td>\n      <td>-1.456827</td>\n      <td>-1.456827</td>\n      <td>-1.456827</td>\n      <td>1</td>\n      <td>1.019804</td>\n    </tr>\n    <tr>\n      <th>1</th>\n      <td>146361</td>\n      <td>1</td>\n      <td>9</td>\n      <td>1</td>\n      <td>35</td>\n      <td>-0.518679</td>\n      <td>-0.518679</td>\n      <td>-0.518679</td>\n      <td>-0.518679</td>\n      <td>1</td>\n      <td>1.019804</td>\n    </tr>\n    <tr>\n      <th>2</th>\n      <td>157857</td>\n      <td>1</td>\n      <td>8</td>\n      <td>1</td>\n      <td>31</td>\n      <td>-2.061687</td>\n      <td>-2.061687</td>\n      <td>-2.061687</td>\n      <td>-2.061687</td>\n      <td>1</td>\n      <td>1.019804</td>\n    </tr>\n    <tr>\n      <th>3</th>\n      <td>159772</td>\n      <td>1</td>\n      <td>12</td>\n      <td>1</td>\n      <td>48</td>\n      <td>-0.276558</td>\n      <td>-0.276558</td>\n      <td>-0.276558</td>\n      <td>-0.276558</td>\n      <td>1</td>\n      <td>1.019804</td>\n    </tr>\n    <tr>\n      <th>4</th>\n      <td>180838</td>\n      <td>1</td>\n      <td>4</td>\n      <td>1</td>\n      <td>13</td>\n      <td>0.415853</td>\n      <td>0.415853</td>\n      <td>0.415853</td>\n      <td>0.415853</td>\n      <td>1</td>\n      <td>1.019804</td>\n    </tr>\n  </tbody>\n</table>\n</div>"
     },
     "metadata": {},
     "execution_count": 48
    }
   ],
   "source": [
    "df2"
   ]
  },
  {
   "cell_type": "code",
   "execution_count": 49,
   "metadata": {},
   "outputs": [
    {
     "output_type": "execute_result",
     "data": {
      "text/plain": [
       "{'mean': 3.4,\n",
       " 'max': 5,\n",
       " 'min': 2,\n",
       " 'std': 1.019803902718557,\n",
       " 'var': 1.04,\n",
       " 'ptp': 3,\n",
       " 'percentile_10': 2.4000000000000004,\n",
       " 'percentile_60': 3.4,\n",
       " 'percentile_90': 4.6,\n",
       " 'quantile_5': 2.2,\n",
       " 'quantile_95': 4.8,\n",
       " 'quantile_99': 4.96,\n",
       " 'abs_energy': 63,\n",
       " 'count_above_mean': 2,\n",
       " 'count_below_mean': 3,\n",
       " 'mean_abs_change': 1.75,\n",
       " 'mean_change': 0.25}"
      ]
     },
     "metadata": {},
     "execution_count": 49
    }
   ],
   "source": [
    "from tsfresh.feature_extraction import feature_calculators as fc\n",
    "# tsfresh based features\n",
    "feature_dict['abs_energy'] = fc.abs_energy(x)\n",
    "feature_dict['count_above_mean'] = fc.count_above_mean(x)\n",
    "feature_dict['count_below_mean'] = fc.count_below_mean(x)\n",
    "feature_dict['mean_abs_change'] = fc.mean_abs_change(x)\n",
    "feature_dict['mean_change'] = fc.mean_change(x)\n",
    "feature_dict"
   ]
  },
  {
   "cell_type": "code",
   "execution_count": null,
   "metadata": {},
   "outputs": [],
   "source": []
  }
 ]
}